{
 "cells": [
  {
   "cell_type": "code",
   "execution_count": 24,
   "id": "28b88a5a-fc4d-44d5-a4bf-eba3c109f024",
   "metadata": {},
   "outputs": [
    {
     "name": "stderr",
     "output_type": "stream",
     "text": [
      "2025-08-21 16:37:44,516 [INFO] CSV data loading from Path with source https://synapseaisolutionsa.z13.web.core.windows.net/data/bankcustomerchurn/churn.csv\n",
      "2025-08-21 16:37:47,476 [INFO] CSV data loaded with shape (10000, 14)\n",
      "2025-08-21 16:37:47,520 [INFO] CSV data stored at datastorage/csv/year=2025/month=08/day=21/csv_DataStorage.csv\n",
      "2025-08-21 16:37:47,520 [INFO] ===== Validation started =====\n",
      "2025-08-21 16:37:47,520 [INFO] Starting check: RowNumber sequence\n",
      "2025-08-21 16:37:47,525 [INFO] Completed check: RowNumber sequence\n",
      "2025-08-21 16:37:47,525 [INFO] Starting check: CustomerId uniqueness\n",
      "2025-08-21 16:37:47,527 [INFO] Completed check: CustomerId uniqueness\n",
      "2025-08-21 16:37:47,527 [INFO] Starting check: CreditScore validity\n",
      "2025-08-21 16:37:47,529 [INFO] Completed check: CreditScore validity\n",
      "2025-08-21 16:37:47,529 [INFO] Starting check: Geography validity\n",
      "2025-08-21 16:37:47,531 [INFO] Completed check: Geography validity\n",
      "2025-08-21 16:37:47,531 [INFO] Starting check: Gender validity\n",
      "2025-08-21 16:37:47,531 [INFO] Completed check: Gender validity\n",
      "2025-08-21 16:37:47,532 [INFO] Starting check: Age range\n",
      "2025-08-21 16:37:47,532 [INFO] Completed check: Age range\n",
      "2025-08-21 16:37:47,532 [INFO] Starting check: Tenure range\n",
      "2025-08-21 16:37:47,533 [INFO] Completed check: Tenure range\n",
      "2025-08-21 16:37:47,533 [INFO] Starting check: Balance non-negative\n",
      "2025-08-21 16:37:47,534 [INFO] Completed check: Balance non-negative\n",
      "2025-08-21 16:37:47,535 [INFO] Starting check: NumOfProducts range\n",
      "2025-08-21 16:37:47,535 [INFO] Completed check: NumOfProducts range\n",
      "2025-08-21 16:37:47,535 [INFO] Starting check: HasCrCard binary values\n",
      "2025-08-21 16:37:47,536 [INFO] Completed check: HasCrCard binary values\n",
      "2025-08-21 16:37:47,537 [INFO] Starting check: IsActiveMember binary values\n",
      "2025-08-21 16:37:47,537 [INFO] Completed check: IsActiveMember binary values\n",
      "2025-08-21 16:37:47,537 [INFO] Starting check: Exited binary values\n",
      "2025-08-21 16:37:47,538 [INFO] Completed check: Exited binary values\n",
      "2025-08-21 16:37:47,538 [INFO] Starting check: EstimatedSalary outliers\n",
      "2025-08-21 16:37:47,541 [WARNING] EstimatedSalary anomalies detected: 10 rows\n",
      "2025-08-21 16:37:47,541 [INFO] Completed check: EstimatedSalary outliers\n",
      "2025-08-21 16:37:47,563 [INFO] Issues report saved at datavalidation/reports/churn_data_issues_20250821_163747.csv\n",
      "2025-08-21 16:37:47,563 [INFO] Metadata report saved at datavalidation/reports/churn_data_metadata_20250821_163747.csv\n",
      "2025-08-21 16:37:47,563 [INFO] PDF report saved at datavalidation/reports/churn_data_report_20250821_163747.pdf\n",
      "2025-08-21 16:37:47,563 [INFO] ===== Validation completed =====\n",
      "2025-08-21 16:37:47,563 [INFO] Starting preprocessing and EDA...\n",
      "2025-08-21 16:37:47,564 [INFO] Handling missing values...\n",
      "2025-08-21 16:37:47,570 [INFO] Encoding categorical variables...\n",
      "2025-08-21 16:37:47,580 [INFO] Normalizing numerical attributes...\n",
      "2025-08-21 16:37:47,587 [INFO] Generating summary statistics...\n",
      "2025-08-21 16:37:47,597 [INFO] Creating EDA visualizations and saving to PDF...\n",
      "2025-08-21 16:37:49,159 [INFO] Preprocessing and EDA completed. Cleaned data saved at datapreprocessing/prepared/cleaned_data_20250821_163749.csv\n",
      "2025-08-21 16:37:49,159 [INFO] EDA PDF report saved at datapreprocessing/prepared/eda_report_20250821_163747.pdf\n"
     ]
    }
   ],
   "source": [
    "import importlib\n",
    "import dataingestion.DataIngestion\n",
    "import datastorage.DataStorage\n",
    "import datavalidation.DataValidation\n",
    "import datapreparation.DataPreparation\n",
    "import datatransformationandstorage.DataTransformationAndStorage\n",
    "\n",
    "importlib.reload(dataingestion.DataIngestion)\n",
    "importlib.reload(datastorage.DataStorage)\n",
    "importlib.reload(datavalidation.DataValidation)\n",
    "importlib.reload(datapreparation.DataPreparation)\n",
    "importlib.reload(datatransformationandstorage.DataTransformationAndStorage)\n",
    "\n",
    "from dataingestion.DataIngestion import load_csv, load_api, load_db\n",
    "from datastorage.DataStorage import save_csv_or_db, save_api\n",
    "from datavalidation.DataValidation import validate_churn_data\n",
    "from datapreparation.DataPreparation import preprocess_and_eda\n",
    "from datatransformationandstorage.DataTransformationAndStorage import transform_and_store\n",
    "\n",
    "\n",
    "def main():\n",
    "   \n",
    "\n",
    "    # CSV example\n",
    "    csv_url = \"https://synapseaisolutionsa.z13.web.core.windows.net/data/bankcustomerchurn/churn.csv\"\n",
    "    df_csv = load_csv(csv_url,csv_url)\n",
    "\n",
    "    base_dir = \"datastorage\"\n",
    "    save_csv_or_db(df_csv, base_dir, \"csv\")\n",
    "\n",
    "    base_dir = \"datavalidation/reports\"\n",
    "    issues, metadata = validate_churn_data(df_csv,base_dir,\"pdf\")\n",
    "\n",
    "    base_dir = \"datapreparation/prepared\"\n",
    "    df_processed = preprocess_and_eda(df_csv,base_dir)                   # run preprocessing\n",
    "\n",
    "if __name__ == \"__main__\":\n",
    "    main()"
   ]
  },
  {
   "cell_type": "code",
   "execution_count": null,
   "id": "84cac164-549a-4576-8c35-3bbef411696b",
   "metadata": {},
   "outputs": [],
   "source": []
  },
  {
   "cell_type": "code",
   "execution_count": null,
   "id": "9bde366d-2b45-4c06-99fa-c54613f46171",
   "metadata": {},
   "outputs": [],
   "source": []
  },
  {
   "cell_type": "code",
   "execution_count": null,
   "id": "c6c53d39-40be-406a-a206-f20604b27412",
   "metadata": {},
   "outputs": [],
   "source": []
  }
 ],
 "metadata": {
  "kernelspec": {
   "display_name": "Python 3 (ipykernel)",
   "language": "python",
   "name": "python3"
  },
  "language_info": {
   "codemirror_mode": {
    "name": "ipython",
    "version": 3
   },
   "file_extension": ".py",
   "mimetype": "text/x-python",
   "name": "python",
   "nbconvert_exporter": "python",
   "pygments_lexer": "ipython3",
   "version": "3.12.7"
  }
 },
 "nbformat": 4,
 "nbformat_minor": 5
}
