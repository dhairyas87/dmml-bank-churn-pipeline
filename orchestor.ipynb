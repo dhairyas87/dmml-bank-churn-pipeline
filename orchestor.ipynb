{
 "cells": [
  {
   "cell_type": "code",
   "execution_count": 9,
   "id": "035ededa-a01a-402c-9bc3-18bb1cac1f45",
   "metadata": {},
   "outputs": [
    {
     "data": {
      "text/html": [
       "<pre style=\"white-space:pre;overflow-x:auto;line-height:normal;font-family:Menlo,'DejaVu Sans Mono',consolas,'Courier New',monospace\">23:41:48.976 | <span style=\"color: #008080; text-decoration-color: #008080\">INFO</span>    | Flow run<span style=\"color: #800080; text-decoration-color: #800080\"> 'axiomatic-bulldog'</span> - Beginning flow run<span style=\"color: #800080; text-decoration-color: #800080\"> 'axiomatic-bulldog'</span> for flow<span style=\"color: #800080; text-decoration-color: #800080; font-weight: bold\"> 'Churn ML Pipeline Orchestration'</span>\n",
       "</pre>\n"
      ],
      "text/plain": [
       "23:41:48.976 | \u001b[36mINFO\u001b[0m    | Flow run\u001b[35m 'axiomatic-bulldog'\u001b[0m - Beginning flow run\u001b[35m 'axiomatic-bulldog'\u001b[0m for flow\u001b[1;35m 'Churn ML Pipeline Orchestration'\u001b[0m\n"
      ]
     },
     "metadata": {},
     "output_type": "display_data"
    },
    {
     "data": {
      "text/html": [
       "<pre style=\"white-space:pre;overflow-x:auto;line-height:normal;font-family:Menlo,'DejaVu Sans Mono',consolas,'Courier New',monospace\">23:41:48.995 | <span style=\"color: #008080; text-decoration-color: #008080\">INFO</span>    | Task run 'ingest_data-62f' - 📥 Ingesting data from <span style=\"color: #0000ff; text-decoration-color: #0000ff\">https://synapseaisolutionsa.z13.web.core.windows.net/data/bankcustomerchurn/churn.csv</span>\n",
       "</pre>\n"
      ],
      "text/plain": [
       "23:41:48.995 | \u001b[36mINFO\u001b[0m    | Task run 'ingest_data-62f' - 📥 Ingesting data from \u001b[94mhttps://synapseaisolutionsa.z13.web.core.windows.net/data/bankcustomerchurn/churn.csv\u001b[0m\n"
      ]
     },
     "metadata": {},
     "output_type": "display_data"
    },
    {
     "data": {
      "text/html": [
       "<pre style=\"white-space:pre;overflow-x:auto;line-height:normal;font-family:Menlo,'DejaVu Sans Mono',consolas,'Courier New',monospace\">23:41:50.984 | <span style=\"color: #008080; text-decoration-color: #008080\">INFO</span>    | Task run 'ingest_data-62f' - ✅ Data ingestion complete. Shape: (10000, 14)\n",
       "</pre>\n"
      ],
      "text/plain": [
       "23:41:50.984 | \u001b[36mINFO\u001b[0m    | Task run 'ingest_data-62f' - ✅ Data ingestion complete. Shape: (10000, 14)\n"
      ]
     },
     "metadata": {},
     "output_type": "display_data"
    },
    {
     "data": {
      "text/html": [
       "<pre style=\"white-space:pre;overflow-x:auto;line-height:normal;font-family:Menlo,'DejaVu Sans Mono',consolas,'Courier New',monospace\">23:41:50.990 | <span style=\"color: #008080; text-decoration-color: #008080\">INFO</span>    | Task run 'ingest_data-62f' - Finished in state <span style=\"color: #008000; text-decoration-color: #008000\">Completed</span>()\n",
       "</pre>\n"
      ],
      "text/plain": [
       "23:41:50.990 | \u001b[36mINFO\u001b[0m    | Task run 'ingest_data-62f' - Finished in state \u001b[32mCompleted\u001b[0m()\n"
      ]
     },
     "metadata": {},
     "output_type": "display_data"
    },
    {
     "data": {
      "text/html": [
       "<pre style=\"white-space:pre;overflow-x:auto;line-height:normal;font-family:Menlo,'DejaVu Sans Mono',consolas,'Courier New',monospace\">23:41:51.062 | <span style=\"color: #008080; text-decoration-color: #008080\">INFO</span>    | Task run 'store_data-715' - ✅ Data stored at datastorage\n",
       "</pre>\n"
      ],
      "text/plain": [
       "23:41:51.062 | \u001b[36mINFO\u001b[0m    | Task run 'store_data-715' - ✅ Data stored at datastorage\n"
      ]
     },
     "metadata": {},
     "output_type": "display_data"
    },
    {
     "data": {
      "text/html": [
       "<pre style=\"white-space:pre;overflow-x:auto;line-height:normal;font-family:Menlo,'DejaVu Sans Mono',consolas,'Courier New',monospace\">23:41:51.064 | <span style=\"color: #008080; text-decoration-color: #008080\">INFO</span>    | Task run 'store_data-715' - Finished in state <span style=\"color: #008000; text-decoration-color: #008000\">Completed</span>()\n",
       "</pre>\n"
      ],
      "text/plain": [
       "23:41:51.064 | \u001b[36mINFO\u001b[0m    | Task run 'store_data-715' - Finished in state \u001b[32mCompleted\u001b[0m()\n"
      ]
     },
     "metadata": {},
     "output_type": "display_data"
    },
    {
     "data": {
      "text/html": [
       "<pre style=\"white-space:pre;overflow-x:auto;line-height:normal;font-family:Menlo,'DejaVu Sans Mono',consolas,'Courier New',monospace\">23:41:51.089 | <span style=\"color: #d7d700; text-decoration-color: #d7d700\">WARNING</span> | root - EstimatedSalary anomalies detected: 10 rows\n",
       "</pre>\n"
      ],
      "text/plain": [
       "23:41:51.089 | \u001b[38;5;184mWARNING\u001b[0m | root - EstimatedSalary anomalies detected: 10 rows\n"
      ]
     },
     "metadata": {},
     "output_type": "display_data"
    },
    {
     "data": {
      "text/html": [
       "<pre style=\"white-space:pre;overflow-x:auto;line-height:normal;font-family:Menlo,'DejaVu Sans Mono',consolas,'Courier New',monospace\">23:41:51.105 | <span style=\"color: #008080; text-decoration-color: #008080\">INFO</span>    | Task run 'validate_data-2b8' - 🔍 Validation complete. Issues: 1 Metadata: {'missing_values': {'RowNumber': 0, 'CustomerId': 0, 'Surname': 0, 'CreditScore': 0, 'Geography': 0, 'Gender': 0, 'Age': 0, 'Tenure': 0, 'Balance': 0, 'NumOfProducts': 0, 'HasCrCard': 0, 'IsActiveMember': 0, 'EstimatedSalary': 0, 'Exited': 0}, 'duplicate_rows': 0, 'data_types': {'RowNumber': 'int64', 'CustomerId': 'int64', 'Surname': 'object', 'CreditScore': 'int64', 'Geography': 'object', 'Gender': 'object', 'Age': 'int64', 'Tenure': 'int64', 'Balance': 'float64', 'NumOfProducts': 'int64', 'HasCrCard': 'int64', 'IsActiveMember': 'int64', 'EstimatedSalary': 'float64', 'Exited': 'int64'}, 'numeric_summary': {'RowNumber': {'count': 10000.0, 'mean': 5000.5, 'std': 2886.8956799071675, 'min': 1.0, '25%': 2500.75, '50%': 5000.5, '75%': 7500.25, 'max': 10000.0}, 'CustomerId': {'count': 10000.0, 'mean': 15690940.5694, 'std': 71936.18612274883, 'min': 15565701.0, '25%': 15628528.25, '50%': 15690738.0, '75%': 15753233.75, 'max': 15815690.0}, 'CreditScore': {'count': 10000.0, 'mean': 650.5288, 'std': 96.65329873613061, 'min': 350.0, '25%': 584.0, '50%': 652.0, '75%': 718.0, 'max': 850.0}, 'Age': {'count': 10000.0, 'mean': 38.9218, 'std': 10.487806451704591, 'min': 18.0, '25%': 32.0, '50%': 37.0, '75%': 44.0, 'max': 92.0}, 'Tenure': {'count': 10000.0, 'mean': 5.0128, 'std': 2.892174377049708, 'min': 0.0, '25%': 3.0, '50%': 5.0, '75%': 7.0, 'max': 10.0}, 'Balance': {'count': 10000.0, 'mean': 76485.889288, 'std': 62397.40520238623, 'min': 0.0, '25%': 0.0, '50%': 97198.54000000001, '75%': 127644.24, 'max': 250898.09}, 'NumOfProducts': {'count': 10000.0, 'mean': 1.5302, 'std': 0.5816543579989936, 'min': 1.0, '25%': 1.0, '50%': 1.0, '75%': 2.0, 'max': 4.0}, 'HasCrCard': {'count': 10000.0, 'mean': 0.7055, 'std': 0.45584046447514237, 'min': 0.0, '25%': 0.0, '50%': 1.0, '75%': 1.0, 'max': 1.0}, 'IsActiveMember': {'count': 10000.0, 'mean': 0.5151, 'std': 0.4997969284589202, 'min': 0.0, '25%': 0.0, '50%': 1.0, '75%': 1.0, 'max': 1.0}, 'EstimatedSalary': {'count': 10000.0, 'mean': 100090.239881, 'std': 57510.49281769822, 'min': 11.58, '25%': 51002.11, '50%': 100193.915, '75%': 149388.2475, 'max': 199992.48}, 'Exited': {'count': 10000.0, 'mean': 0.2037, 'std': 0.40276858399484955, 'min': 0.0, '25%': 0.0, '50%': 0.0, '75%': 0.0, 'max': 1.0}}}\n",
       "</pre>\n"
      ],
      "text/plain": [
       "23:41:51.105 | \u001b[36mINFO\u001b[0m    | Task run 'validate_data-2b8' - 🔍 Validation complete. Issues: 1 Metadata: {'missing_values': {'RowNumber': 0, 'CustomerId': 0, 'Surname': 0, 'CreditScore': 0, 'Geography': 0, 'Gender': 0, 'Age': 0, 'Tenure': 0, 'Balance': 0, 'NumOfProducts': 0, 'HasCrCard': 0, 'IsActiveMember': 0, 'EstimatedSalary': 0, 'Exited': 0}, 'duplicate_rows': 0, 'data_types': {'RowNumber': 'int64', 'CustomerId': 'int64', 'Surname': 'object', 'CreditScore': 'int64', 'Geography': 'object', 'Gender': 'object', 'Age': 'int64', 'Tenure': 'int64', 'Balance': 'float64', 'NumOfProducts': 'int64', 'HasCrCard': 'int64', 'IsActiveMember': 'int64', 'EstimatedSalary': 'float64', 'Exited': 'int64'}, 'numeric_summary': {'RowNumber': {'count': 10000.0, 'mean': 5000.5, 'std': 2886.8956799071675, 'min': 1.0, '25%': 2500.75, '50%': 5000.5, '75%': 7500.25, 'max': 10000.0}, 'CustomerId': {'count': 10000.0, 'mean': 15690940.5694, 'std': 71936.18612274883, 'min': 15565701.0, '25%': 15628528.25, '50%': 15690738.0, '75%': 15753233.75, 'max': 15815690.0}, 'CreditScore': {'count': 10000.0, 'mean': 650.5288, 'std': 96.65329873613061, 'min': 350.0, '25%': 584.0, '50%': 652.0, '75%': 718.0, 'max': 850.0}, 'Age': {'count': 10000.0, 'mean': 38.9218, 'std': 10.487806451704591, 'min': 18.0, '25%': 32.0, '50%': 37.0, '75%': 44.0, 'max': 92.0}, 'Tenure': {'count': 10000.0, 'mean': 5.0128, 'std': 2.892174377049708, 'min': 0.0, '25%': 3.0, '50%': 5.0, '75%': 7.0, 'max': 10.0}, 'Balance': {'count': 10000.0, 'mean': 76485.889288, 'std': 62397.40520238623, 'min': 0.0, '25%': 0.0, '50%': 97198.54000000001, '75%': 127644.24, 'max': 250898.09}, 'NumOfProducts': {'count': 10000.0, 'mean': 1.5302, 'std': 0.5816543579989936, 'min': 1.0, '25%': 1.0, '50%': 1.0, '75%': 2.0, 'max': 4.0}, 'HasCrCard': {'count': 10000.0, 'mean': 0.7055, 'std': 0.45584046447514237, 'min': 0.0, '25%': 0.0, '50%': 1.0, '75%': 1.0, 'max': 1.0}, 'IsActiveMember': {'count': 10000.0, 'mean': 0.5151, 'std': 0.4997969284589202, 'min': 0.0, '25%': 0.0, '50%': 1.0, '75%': 1.0, 'max': 1.0}, 'EstimatedSalary': {'count': 10000.0, 'mean': 100090.239881, 'std': 57510.49281769822, 'min': 11.58, '25%': 51002.11, '50%': 100193.915, '75%': 149388.2475, 'max': 199992.48}, 'Exited': {'count': 10000.0, 'mean': 0.2037, 'std': 0.40276858399484955, 'min': 0.0, '25%': 0.0, '50%': 0.0, '75%': 0.0, 'max': 1.0}}}\n"
      ]
     },
     "metadata": {},
     "output_type": "display_data"
    },
    {
     "data": {
      "text/html": [
       "<pre style=\"white-space:pre;overflow-x:auto;line-height:normal;font-family:Menlo,'DejaVu Sans Mono',consolas,'Courier New',monospace\">23:41:51.107 | <span style=\"color: #008080; text-decoration-color: #008080\">INFO</span>    | Task run 'validate_data-2b8' - Finished in state <span style=\"color: #008000; text-decoration-color: #008000\">Completed</span>()\n",
       "</pre>\n"
      ],
      "text/plain": [
       "23:41:51.107 | \u001b[36mINFO\u001b[0m    | Task run 'validate_data-2b8' - Finished in state \u001b[32mCompleted\u001b[0m()\n"
      ]
     },
     "metadata": {},
     "output_type": "display_data"
    },
    {
     "data": {
      "text/html": [
       "<pre style=\"white-space:pre;overflow-x:auto;line-height:normal;font-family:Menlo,'DejaVu Sans Mono',consolas,'Courier New',monospace\">23:41:51.912 | <span style=\"color: #008080; text-decoration-color: #008080\">INFO</span>    | Task run 'prepare_data-f7c' - ✅ Data preparation complete. Shape: (10000, 14)\n",
       "</pre>\n"
      ],
      "text/plain": [
       "23:41:51.912 | \u001b[36mINFO\u001b[0m    | Task run 'prepare_data-f7c' - ✅ Data preparation complete. Shape: (10000, 14)\n"
      ]
     },
     "metadata": {},
     "output_type": "display_data"
    },
    {
     "data": {
      "text/html": [
       "<pre style=\"white-space:pre;overflow-x:auto;line-height:normal;font-family:Menlo,'DejaVu Sans Mono',consolas,'Courier New',monospace\">23:41:51.914 | <span style=\"color: #008080; text-decoration-color: #008080\">INFO</span>    | Task run 'prepare_data-f7c' - Finished in state <span style=\"color: #008000; text-decoration-color: #008000\">Completed</span>()\n",
       "</pre>\n"
      ],
      "text/plain": [
       "23:41:51.914 | \u001b[36mINFO\u001b[0m    | Task run 'prepare_data-f7c' - Finished in state \u001b[32mCompleted\u001b[0m()\n"
      ]
     },
     "metadata": {},
     "output_type": "display_data"
    },
    {
     "data": {
      "text/html": [
       "<pre style=\"white-space:pre;overflow-x:auto;line-height:normal;font-family:Menlo,'DejaVu Sans Mono',consolas,'Courier New',monospace\">23:41:51.973 | <span style=\"color: #008080; text-decoration-color: #008080\">INFO</span>    | Task run 'transform_data-970' - ✅ Data transformation complete. Shape: (10000, 15)\n",
       "</pre>\n"
      ],
      "text/plain": [
       "23:41:51.973 | \u001b[36mINFO\u001b[0m    | Task run 'transform_data-970' - ✅ Data transformation complete. Shape: (10000, 15)\n"
      ]
     },
     "metadata": {},
     "output_type": "display_data"
    },
    {
     "data": {
      "text/html": [
       "<pre style=\"white-space:pre;overflow-x:auto;line-height:normal;font-family:Menlo,'DejaVu Sans Mono',consolas,'Courier New',monospace\">23:41:51.975 | <span style=\"color: #008080; text-decoration-color: #008080\">INFO</span>    | Task run 'transform_data-970' - Finished in state <span style=\"color: #008000; text-decoration-color: #008000\">Completed</span>()\n",
       "</pre>\n"
      ],
      "text/plain": [
       "23:41:51.975 | \u001b[36mINFO\u001b[0m    | Task run 'transform_data-970' - Finished in state \u001b[32mCompleted\u001b[0m()\n"
      ]
     },
     "metadata": {},
     "output_type": "display_data"
    },
    {
     "data": {
      "text/html": [
       "<pre style=\"white-space:pre;overflow-x:auto;line-height:normal;font-family:Menlo,'DejaVu Sans Mono',consolas,'Courier New',monospace\">23:41:52.034 | <span style=\"color: #008080; text-decoration-color: #008080\">INFO</span>    | Task run 'build_feature_store-3d5' - ✅ Feature store created at featurestore/featurestore, DB path: featurestore/featurestore/feature_store.db\n",
       "</pre>\n"
      ],
      "text/plain": [
       "23:41:52.034 | \u001b[36mINFO\u001b[0m    | Task run 'build_feature_store-3d5' - ✅ Feature store created at featurestore/featurestore, DB path: featurestore/featurestore/feature_store.db\n"
      ]
     },
     "metadata": {},
     "output_type": "display_data"
    },
    {
     "data": {
      "text/html": [
       "<pre style=\"white-space:pre;overflow-x:auto;line-height:normal;font-family:Menlo,'DejaVu Sans Mono',consolas,'Courier New',monospace\">23:41:52.037 | <span style=\"color: #008080; text-decoration-color: #008080\">INFO</span>    | Task run 'build_feature_store-3d5' - Finished in state <span style=\"color: #008000; text-decoration-color: #008000\">Completed</span>()\n",
       "</pre>\n"
      ],
      "text/plain": [
       "23:41:52.037 | \u001b[36mINFO\u001b[0m    | Task run 'build_feature_store-3d5' - Finished in state \u001b[32mCompleted\u001b[0m()\n"
      ]
     },
     "metadata": {},
     "output_type": "display_data"
    },
    {
     "name": "stdout",
     "output_type": "stream",
     "text": [
      "[main c45fa1d] Dataset update: churn_raw.csv (raw + transformed) - Changes_Commited\n",
      " 14 files changed, 10334 insertions(+), 165 deletions(-)\n",
      " create mode 100644 datapreparation/prepared/cleaned_data_20250823_234151.csv\n",
      " create mode 100644 datapreparation/prepared/eda_report_20250823_234151.pdf\n",
      " create mode 100644 datatransformationandstorage/transformationandstorage/schema_design_20250823_234151.sql\n",
      " create mode 100644 datavalidation/reports/churn_data_issues_20250823_234151.csv\n",
      " create mode 100644 datavalidation/reports/churn_data_metadata_20250823_234151.csv\n",
      " create mode 100644 datavalidation/reports/churn_data_report_20250823_234151.pdf\n",
      "[main 3d77acd] Update version metadata for churn_raw.csv\n",
      " 1 file changed, 10 insertions(+)\n"
     ]
    },
    {
     "name": "stderr",
     "output_type": "stream",
     "text": [
      "From https://github.com/dhairyas87/dmml-bank-churn-pipeline\n",
      " * branch            main       -> FETCH_HEAD\n"
     ]
    },
    {
     "name": "stdout",
     "output_type": "stream",
     "text": [
      "Current branch main is up to date.\n",
      "✅ Raw + Transformed datasets for churn_raw.csv saved, versioned, and pushed under commit c45fa1d9118bafa0034d5c8334cbf7f38607adab\n"
     ]
    },
    {
     "name": "stderr",
     "output_type": "stream",
     "text": [
      "To https://github.com/dhairyas87/dmml-bank-churn-pipeline.git\n",
      "   897b017..3d77acd  main -> main\n"
     ]
    },
    {
     "data": {
      "text/html": [
       "<pre style=\"white-space:pre;overflow-x:auto;line-height:normal;font-family:Menlo,'DejaVu Sans Mono',consolas,'Courier New',monospace\">23:41:54.944 | <span style=\"color: #008080; text-decoration-color: #008080\">INFO</span>    | Task run 'version_data-c90' - ✅ Data versioning complete.\n",
       "</pre>\n"
      ],
      "text/plain": [
       "23:41:54.944 | \u001b[36mINFO\u001b[0m    | Task run 'version_data-c90' - ✅ Data versioning complete.\n"
      ]
     },
     "metadata": {},
     "output_type": "display_data"
    },
    {
     "data": {
      "text/html": [
       "<pre style=\"white-space:pre;overflow-x:auto;line-height:normal;font-family:Menlo,'DejaVu Sans Mono',consolas,'Courier New',monospace\">23:41:54.957 | <span style=\"color: #008080; text-decoration-color: #008080\">INFO</span>    | Task run 'version_data-c90' - Finished in state <span style=\"color: #008000; text-decoration-color: #008000\">Completed</span>()\n",
       "</pre>\n"
      ],
      "text/plain": [
       "23:41:54.957 | \u001b[36mINFO\u001b[0m    | Task run 'version_data-c90' - Finished in state \u001b[32mCompleted\u001b[0m()\n"
      ]
     },
     "metadata": {},
     "output_type": "display_data"
    },
    {
     "name": "stdout",
     "output_type": "stream",
     "text": [
      "✅ Training complete with engineered features.\n",
      "📂 Deliverables: models/, data/model_results.txt, data/model_versions.json\n"
     ]
    },
    {
     "data": {
      "text/html": [
       "<pre style=\"white-space:pre;overflow-x:auto;line-height:normal;font-family:Menlo,'DejaVu Sans Mono',consolas,'Courier New',monospace\">23:42:01.905 | <span style=\"color: #008080; text-decoration-color: #008080\">INFO</span>    | Task run 'train_model-0a8' - ✅ Model training complete.\n",
       "</pre>\n"
      ],
      "text/plain": [
       "23:42:01.905 | \u001b[36mINFO\u001b[0m    | Task run 'train_model-0a8' - ✅ Model training complete.\n"
      ]
     },
     "metadata": {},
     "output_type": "display_data"
    },
    {
     "data": {
      "text/html": [
       "<pre style=\"white-space:pre;overflow-x:auto;line-height:normal;font-family:Menlo,'DejaVu Sans Mono',consolas,'Courier New',monospace\">23:42:01.908 | <span style=\"color: #008080; text-decoration-color: #008080\">INFO</span>    | Task run 'train_model-0a8' - Finished in state <span style=\"color: #008000; text-decoration-color: #008000\">Completed</span>()\n",
       "</pre>\n"
      ],
      "text/plain": [
       "23:42:01.908 | \u001b[36mINFO\u001b[0m    | Task run 'train_model-0a8' - Finished in state \u001b[32mCompleted\u001b[0m()\n"
      ]
     },
     "metadata": {},
     "output_type": "display_data"
    },
    {
     "name": "stdout",
     "output_type": "stream",
     "text": [
      "✅ Pipeline complete!\n"
     ]
    },
    {
     "data": {
      "text/html": [
       "<pre style=\"white-space:pre;overflow-x:auto;line-height:normal;font-family:Menlo,'DejaVu Sans Mono',consolas,'Courier New',monospace\">23:42:01.930 | <span style=\"color: #008080; text-decoration-color: #008080\">INFO</span>    | Flow run<span style=\"color: #800080; text-decoration-color: #800080\"> 'axiomatic-bulldog'</span> - Finished in state <span style=\"color: #008000; text-decoration-color: #008000\">Completed</span>()\n",
       "</pre>\n"
      ],
      "text/plain": [
       "23:42:01.930 | \u001b[36mINFO\u001b[0m    | Flow run\u001b[35m 'axiomatic-bulldog'\u001b[0m - Finished in state \u001b[32mCompleted\u001b[0m()\n"
      ]
     },
     "metadata": {},
     "output_type": "display_data"
    }
   ],
   "source": [
    "import importlib\n",
    "import dataingestion.DataIngestion\n",
    "import datastorage.DataStorage\n",
    "import datavalidation.DataValidation\n",
    "import datapreparation.DataPreparation\n",
    "import datatransformationandstorage.DataTransformationAndStorage\n",
    "import featurestore.FeatureStore\n",
    "import dataversioning.DataVersioning\n",
    "import modelbuild.ModelBuild\n",
    "\n",
    "importlib.reload(dataingestion.DataIngestion)\n",
    "importlib.reload(datastorage.DataStorage)\n",
    "importlib.reload(datavalidation.DataValidation)\n",
    "importlib.reload(datapreparation.DataPreparation)\n",
    "importlib.reload(datatransformationandstorage.DataTransformationAndStorage)\n",
    "importlib.reload(featurestore.FeatureStore)\n",
    "importlib.reload(dataversioning.DataVersioning)\n",
    "importlib.reload(modelbuild.ModelBuild)\n",
    "\n",
    "\n",
    "from prefect import task, flow, get_run_logger\n",
    "from prefect.tasks import Task\n",
    "from dataingestion.DataIngestion import load_csv, load_api, load_db\n",
    "from datastorage.DataStorage import save_csv_or_db, save_api\n",
    "from datavalidation.DataValidation import validate_churn_data\n",
    "from datapreparation.DataPreparation import preprocess_and_eda\n",
    "from datatransformationandstorage.DataTransformationAndStorage import transform_and_store\n",
    "from featurestore.FeatureStore  import create_feature_store, sample_feature_queries\n",
    "from dataversioning.DataVersioning import save_and_version_both\n",
    "from modelbuild.ModelBuild import run_training\n",
    "import sqlite3  \n",
    "\n",
    "\n",
    "\n",
    "# Define dependencies between tasks\n",
    "dag_dependencies = {\n",
    "    \"ingest_data\": [\"store_data\", \"validate_data\", \"prepare_data\"],\n",
    "    \"prepare_data\": [\"transform_data\"],\n",
    "    \"transform_data\": [\"build_feature_store\"],\n",
    "    \"build_feature_store\": [\"train_model\", \"version_data\"],\n",
    "    \"ingest_data\": [\"version_data\"]\n",
    "}\n",
    "\n",
    "\n",
    "\n",
    "def draw_dag(dependencies, title=\"Churn ML Pipeline\"):\n",
    "    dot = Digraph(comment=title, format=\"svg\")\n",
    "\n",
    "    # Add all tasks as nodes\n",
    "    tasks = set(dependencies.keys()) | {t for deps in dependencies.values() for t in deps}\n",
    "    for task in tasks:\n",
    "        dot.node(task, task)\n",
    "\n",
    "    # Add edges\n",
    "    for parent, children in dependencies.items():\n",
    "        for child in children:\n",
    "            dot.edge(parent, child)\n",
    "\n",
    "    return dot\n",
    "    \n",
    "@task\n",
    "def ingest_data():\n",
    "    logger = get_run_logger()\n",
    "    csv_url = \"https://synapseaisolutionsa.z13.web.core.windows.net/data/bankcustomerchurn/churn.csv\"\n",
    "    logger.info(f\"📥 Ingesting data from {csv_url}\")\n",
    "    df_csv = load_csv(csv_url, csv_url)\n",
    "    logger.info(f\"✅ Data ingestion complete. Shape: {df_csv.shape}\")\n",
    "    return df_csv\n",
    "\n",
    "@task\n",
    "def store_data(df_csv):\n",
    "    logger = get_run_logger()\n",
    "    base_dir = \"datastorage\"\n",
    "    save_csv_or_db(df_csv, base_dir, \"csv\")\n",
    "    logger.info(f\"✅ Data stored at {base_dir}\")\n",
    "    return base_dir\n",
    "\n",
    "@task\n",
    "def validate_data(df_csv):\n",
    "    logger = get_run_logger()\n",
    "    base_dir = \"datavalidation/reports\"\n",
    "    issues, metadata = validate_churn_data(df_csv, base_dir, \"pdf\")\n",
    "    logger.info(f\"🔍 Validation complete. Issues: {len(issues)} Metadata: {metadata}\")\n",
    "    return issues, metadata\n",
    "\n",
    "@task\n",
    "def prepare_data(df_csv):\n",
    "    logger = get_run_logger()\n",
    "    base_dir = \"datapreparation/prepared\"\n",
    "    df_processed = preprocess_and_eda(df_csv, base_dir)\n",
    "    logger.info(f\"✅ Data preparation complete. Shape: {df_processed.shape}\")\n",
    "    return df_processed\n",
    "\n",
    "@task\n",
    "def transform_data(df_processed):\n",
    "    logger = get_run_logger()\n",
    "    base_dir = \"datatransformationandstorage/transformationandstorage\"\n",
    "    df_txfnstr = transform_and_store(df_processed, base_dir, \"churn\")\n",
    "    logger.info(f\"✅ Data transformation complete. Shape: {df_txfnstr.shape}\")\n",
    "    return df_txfnstr\n",
    "\n",
    "@task\n",
    "def build_feature_store(df_txfnstr):\n",
    "    logger = get_run_logger()\n",
    "    base_path = \"featurestore/featurestore\"\n",
    "    df_feature, conn, db_path = create_feature_store(df_txfnstr, base_path)\n",
    "    sample_feature_queries(conn, base_path)\n",
    "    logger.info(f\"✅ Feature store created at {base_path}, DB path: {db_path}\")\n",
    "    return df_feature, db_path\n",
    "\n",
    "@task\n",
    "def version_data(df_csv, df_feature):\n",
    "    logger = get_run_logger()\n",
    "    save_and_version_both(\n",
    "        df_csv,\n",
    "        df_feature,\n",
    "        \"dataversioning/raw/churn_raw.csv\",\n",
    "        \"dataversioning/transformed/churn_transformed_v1.csv\",\n",
    "        \"churn_raw.csv\",\n",
    "        \"Changes_Commited\"\n",
    "    )\n",
    "    logger.info(\"✅ Data versioning complete.\")\n",
    "\n",
    "@task\n",
    "def train_model(db_path):\n",
    "    logger = get_run_logger()\n",
    "    run_training(db_path)\n",
    "    logger.info(\"✅ Model training complete.\")\n",
    "\n",
    "\n",
    "@flow(name=\"Churn ML Pipeline Orchestration\")\n",
    "def churn_pipeline():\n",
    "    df_csv = ingest_data()\n",
    "    store_data(df_csv)\n",
    "    validate_data(df_csv)\n",
    "    df_processed = prepare_data(df_csv)\n",
    "    df_txfnstr = transform_data(df_processed)\n",
    "    df_feature, db_path = build_feature_store(df_txfnstr)\n",
    "    version_data(df_csv, df_feature)\n",
    "    train_model(db_path)\n",
    "\n",
    "    print(\"✅ Pipeline complete!\")\n",
    "\n",
    "# Draw DAG\n",
    "draw_dag(dag_dependencies)\n",
    "\n",
    "\n",
    "\n",
    "\n",
    "\n",
    "if __name__ == \"__main__\":\n",
    "    churn_pipeline()"
   ]
  },
  {
   "cell_type": "code",
   "execution_count": 10,
   "id": "793838c6-5393-4a55-b880-42bda744c5a8",
   "metadata": {},
   "outputs": [
    {
     "ename": "ExecutableNotFound",
     "evalue": "failed to execute PosixPath('dot'), make sure the Graphviz executables are on your systems' PATH",
     "output_type": "error",
     "traceback": [
      "\u001b[0;31m---------------------------------------------------------------------------\u001b[0m",
      "\u001b[0;31mFileNotFoundError\u001b[0m                         Traceback (most recent call last)",
      "File \u001b[0;32m/opt/anaconda3/lib/python3.12/site-packages/graphviz/backend/execute.py:76\u001b[0m, in \u001b[0;36mrun_check\u001b[0;34m(cmd, input_lines, encoding, quiet, **kwargs)\u001b[0m\n\u001b[1;32m     75\u001b[0m         kwargs[\u001b[38;5;124m'\u001b[39m\u001b[38;5;124mstdout\u001b[39m\u001b[38;5;124m'\u001b[39m] \u001b[38;5;241m=\u001b[39m kwargs[\u001b[38;5;124m'\u001b[39m\u001b[38;5;124mstderr\u001b[39m\u001b[38;5;124m'\u001b[39m] \u001b[38;5;241m=\u001b[39m subprocess\u001b[38;5;241m.\u001b[39mPIPE\n\u001b[0;32m---> 76\u001b[0m     proc \u001b[38;5;241m=\u001b[39m _run_input_lines(cmd, input_lines, kwargs\u001b[38;5;241m=\u001b[39mkwargs)\n\u001b[1;32m     77\u001b[0m \u001b[38;5;28;01melse\u001b[39;00m:\n",
      "File \u001b[0;32m/opt/anaconda3/lib/python3.12/site-packages/graphviz/backend/execute.py:96\u001b[0m, in \u001b[0;36m_run_input_lines\u001b[0;34m(cmd, input_lines, kwargs)\u001b[0m\n\u001b[1;32m     95\u001b[0m \u001b[38;5;28;01mdef\u001b[39;00m \u001b[38;5;21m_run_input_lines\u001b[39m(cmd, input_lines, \u001b[38;5;241m*\u001b[39m, kwargs):\n\u001b[0;32m---> 96\u001b[0m     popen \u001b[38;5;241m=\u001b[39m subprocess\u001b[38;5;241m.\u001b[39mPopen(cmd, stdin\u001b[38;5;241m=\u001b[39msubprocess\u001b[38;5;241m.\u001b[39mPIPE, \u001b[38;5;241m*\u001b[39m\u001b[38;5;241m*\u001b[39mkwargs)\n\u001b[1;32m     98\u001b[0m     stdin_write \u001b[38;5;241m=\u001b[39m popen\u001b[38;5;241m.\u001b[39mstdin\u001b[38;5;241m.\u001b[39mwrite\n",
      "File \u001b[0;32m/opt/anaconda3/lib/python3.12/subprocess.py:1026\u001b[0m, in \u001b[0;36mPopen.__init__\u001b[0;34m(self, args, bufsize, executable, stdin, stdout, stderr, preexec_fn, close_fds, shell, cwd, env, universal_newlines, startupinfo, creationflags, restore_signals, start_new_session, pass_fds, user, group, extra_groups, encoding, errors, text, umask, pipesize, process_group)\u001b[0m\n\u001b[1;32m   1023\u001b[0m             \u001b[38;5;28mself\u001b[39m\u001b[38;5;241m.\u001b[39mstderr \u001b[38;5;241m=\u001b[39m io\u001b[38;5;241m.\u001b[39mTextIOWrapper(\u001b[38;5;28mself\u001b[39m\u001b[38;5;241m.\u001b[39mstderr,\n\u001b[1;32m   1024\u001b[0m                     encoding\u001b[38;5;241m=\u001b[39mencoding, errors\u001b[38;5;241m=\u001b[39merrors)\n\u001b[0;32m-> 1026\u001b[0m     \u001b[38;5;28mself\u001b[39m\u001b[38;5;241m.\u001b[39m_execute_child(args, executable, preexec_fn, close_fds,\n\u001b[1;32m   1027\u001b[0m                         pass_fds, cwd, env,\n\u001b[1;32m   1028\u001b[0m                         startupinfo, creationflags, shell,\n\u001b[1;32m   1029\u001b[0m                         p2cread, p2cwrite,\n\u001b[1;32m   1030\u001b[0m                         c2pread, c2pwrite,\n\u001b[1;32m   1031\u001b[0m                         errread, errwrite,\n\u001b[1;32m   1032\u001b[0m                         restore_signals,\n\u001b[1;32m   1033\u001b[0m                         gid, gids, uid, umask,\n\u001b[1;32m   1034\u001b[0m                         start_new_session, process_group)\n\u001b[1;32m   1035\u001b[0m \u001b[38;5;28;01mexcept\u001b[39;00m:\n\u001b[1;32m   1036\u001b[0m     \u001b[38;5;66;03m# Cleanup if the child failed starting.\u001b[39;00m\n",
      "File \u001b[0;32m/opt/anaconda3/lib/python3.12/subprocess.py:1955\u001b[0m, in \u001b[0;36mPopen._execute_child\u001b[0;34m(self, args, executable, preexec_fn, close_fds, pass_fds, cwd, env, startupinfo, creationflags, shell, p2cread, p2cwrite, c2pread, c2pwrite, errread, errwrite, restore_signals, gid, gids, uid, umask, start_new_session, process_group)\u001b[0m\n\u001b[1;32m   1954\u001b[0m \u001b[38;5;28;01mif\u001b[39;00m err_filename \u001b[38;5;129;01mis\u001b[39;00m \u001b[38;5;129;01mnot\u001b[39;00m \u001b[38;5;28;01mNone\u001b[39;00m:\n\u001b[0;32m-> 1955\u001b[0m     \u001b[38;5;28;01mraise\u001b[39;00m child_exception_type(errno_num, err_msg, err_filename)\n\u001b[1;32m   1956\u001b[0m \u001b[38;5;28;01melse\u001b[39;00m:\n",
      "\u001b[0;31mFileNotFoundError\u001b[0m: [Errno 2] No such file or directory: PosixPath('dot')",
      "\nThe above exception was the direct cause of the following exception:\n",
      "\u001b[0;31mExecutableNotFound\u001b[0m                        Traceback (most recent call last)",
      "File \u001b[0;32m/opt/anaconda3/lib/python3.12/site-packages/IPython/core/formatters.py:977\u001b[0m, in \u001b[0;36mMimeBundleFormatter.__call__\u001b[0;34m(self, obj, include, exclude)\u001b[0m\n\u001b[1;32m    974\u001b[0m     method \u001b[38;5;241m=\u001b[39m get_real_method(obj, \u001b[38;5;28mself\u001b[39m\u001b[38;5;241m.\u001b[39mprint_method)\n\u001b[1;32m    976\u001b[0m     \u001b[38;5;28;01mif\u001b[39;00m method \u001b[38;5;129;01mis\u001b[39;00m \u001b[38;5;129;01mnot\u001b[39;00m \u001b[38;5;28;01mNone\u001b[39;00m:\n\u001b[0;32m--> 977\u001b[0m         \u001b[38;5;28;01mreturn\u001b[39;00m method(include\u001b[38;5;241m=\u001b[39minclude, exclude\u001b[38;5;241m=\u001b[39mexclude)\n\u001b[1;32m    978\u001b[0m     \u001b[38;5;28;01mreturn\u001b[39;00m \u001b[38;5;28;01mNone\u001b[39;00m\n\u001b[1;32m    979\u001b[0m \u001b[38;5;28;01melse\u001b[39;00m:\n",
      "File \u001b[0;32m/opt/anaconda3/lib/python3.12/site-packages/graphviz/jupyter_integration.py:98\u001b[0m, in \u001b[0;36mJupyterIntegration._repr_mimebundle_\u001b[0;34m(self, include, exclude, **_)\u001b[0m\n\u001b[1;32m     96\u001b[0m include \u001b[38;5;241m=\u001b[39m \u001b[38;5;28mset\u001b[39m(include) \u001b[38;5;28;01mif\u001b[39;00m include \u001b[38;5;129;01mis\u001b[39;00m \u001b[38;5;129;01mnot\u001b[39;00m \u001b[38;5;28;01mNone\u001b[39;00m \u001b[38;5;28;01melse\u001b[39;00m {\u001b[38;5;28mself\u001b[39m\u001b[38;5;241m.\u001b[39m_jupyter_mimetype}\n\u001b[1;32m     97\u001b[0m include \u001b[38;5;241m-\u001b[39m\u001b[38;5;241m=\u001b[39m \u001b[38;5;28mset\u001b[39m(exclude \u001b[38;5;129;01mor\u001b[39;00m [])\n\u001b[0;32m---> 98\u001b[0m \u001b[38;5;28;01mreturn\u001b[39;00m {mimetype: \u001b[38;5;28mgetattr\u001b[39m(\u001b[38;5;28mself\u001b[39m, method_name)()\n\u001b[1;32m     99\u001b[0m         \u001b[38;5;28;01mfor\u001b[39;00m mimetype, method_name \u001b[38;5;129;01min\u001b[39;00m MIME_TYPES\u001b[38;5;241m.\u001b[39mitems()\n\u001b[1;32m    100\u001b[0m         \u001b[38;5;28;01mif\u001b[39;00m mimetype \u001b[38;5;129;01min\u001b[39;00m include}\n",
      "File \u001b[0;32m/opt/anaconda3/lib/python3.12/site-packages/graphviz/jupyter_integration.py:112\u001b[0m, in \u001b[0;36mJupyterIntegration._repr_image_svg_xml\u001b[0;34m(self)\u001b[0m\n\u001b[1;32m    110\u001b[0m \u001b[38;5;28;01mdef\u001b[39;00m \u001b[38;5;21m_repr_image_svg_xml\u001b[39m(\u001b[38;5;28mself\u001b[39m) \u001b[38;5;241m-\u001b[39m\u001b[38;5;241m>\u001b[39m \u001b[38;5;28mstr\u001b[39m:\n\u001b[1;32m    111\u001b[0m \u001b[38;5;250m    \u001b[39m\u001b[38;5;124;03m\"\"\"Return the rendered graph as SVG string.\"\"\"\u001b[39;00m\n\u001b[0;32m--> 112\u001b[0m     \u001b[38;5;28;01mreturn\u001b[39;00m \u001b[38;5;28mself\u001b[39m\u001b[38;5;241m.\u001b[39mpipe(\u001b[38;5;28mformat\u001b[39m\u001b[38;5;241m=\u001b[39m\u001b[38;5;124m'\u001b[39m\u001b[38;5;124msvg\u001b[39m\u001b[38;5;124m'\u001b[39m, encoding\u001b[38;5;241m=\u001b[39mSVG_ENCODING)\n",
      "File \u001b[0;32m/opt/anaconda3/lib/python3.12/site-packages/graphviz/piping.py:104\u001b[0m, in \u001b[0;36mPipe.pipe\u001b[0;34m(self, format, renderer, formatter, neato_no_op, quiet, engine, encoding)\u001b[0m\n\u001b[1;32m     55\u001b[0m \u001b[38;5;28;01mdef\u001b[39;00m \u001b[38;5;21mpipe\u001b[39m(\u001b[38;5;28mself\u001b[39m,\n\u001b[1;32m     56\u001b[0m          \u001b[38;5;28mformat\u001b[39m: typing\u001b[38;5;241m.\u001b[39mOptional[\u001b[38;5;28mstr\u001b[39m] \u001b[38;5;241m=\u001b[39m \u001b[38;5;28;01mNone\u001b[39;00m,\n\u001b[1;32m     57\u001b[0m          renderer: typing\u001b[38;5;241m.\u001b[39mOptional[\u001b[38;5;28mstr\u001b[39m] \u001b[38;5;241m=\u001b[39m \u001b[38;5;28;01mNone\u001b[39;00m,\n\u001b[0;32m   (...)\u001b[0m\n\u001b[1;32m     61\u001b[0m          engine: typing\u001b[38;5;241m.\u001b[39mOptional[\u001b[38;5;28mstr\u001b[39m] \u001b[38;5;241m=\u001b[39m \u001b[38;5;28;01mNone\u001b[39;00m,\n\u001b[1;32m     62\u001b[0m          encoding: typing\u001b[38;5;241m.\u001b[39mOptional[\u001b[38;5;28mstr\u001b[39m] \u001b[38;5;241m=\u001b[39m \u001b[38;5;28;01mNone\u001b[39;00m) \u001b[38;5;241m-\u001b[39m\u001b[38;5;241m>\u001b[39m typing\u001b[38;5;241m.\u001b[39mUnion[\u001b[38;5;28mbytes\u001b[39m, \u001b[38;5;28mstr\u001b[39m]:\n\u001b[1;32m     63\u001b[0m \u001b[38;5;250m    \u001b[39m\u001b[38;5;124;03m\"\"\"Return the source piped through the Graphviz layout command.\u001b[39;00m\n\u001b[1;32m     64\u001b[0m \n\u001b[1;32m     65\u001b[0m \u001b[38;5;124;03m    Args:\u001b[39;00m\n\u001b[0;32m   (...)\u001b[0m\n\u001b[1;32m    102\u001b[0m \u001b[38;5;124;03m        '<?xml version='\u001b[39;00m\n\u001b[1;32m    103\u001b[0m \u001b[38;5;124;03m    \"\"\"\u001b[39;00m\n\u001b[0;32m--> 104\u001b[0m     \u001b[38;5;28;01mreturn\u001b[39;00m \u001b[38;5;28mself\u001b[39m\u001b[38;5;241m.\u001b[39m_pipe_legacy(\u001b[38;5;28mformat\u001b[39m,\n\u001b[1;32m    105\u001b[0m                              renderer\u001b[38;5;241m=\u001b[39mrenderer,\n\u001b[1;32m    106\u001b[0m                              formatter\u001b[38;5;241m=\u001b[39mformatter,\n\u001b[1;32m    107\u001b[0m                              neato_no_op\u001b[38;5;241m=\u001b[39mneato_no_op,\n\u001b[1;32m    108\u001b[0m                              quiet\u001b[38;5;241m=\u001b[39mquiet,\n\u001b[1;32m    109\u001b[0m                              engine\u001b[38;5;241m=\u001b[39mengine,\n\u001b[1;32m    110\u001b[0m                              encoding\u001b[38;5;241m=\u001b[39mencoding)\n",
      "File \u001b[0;32m/opt/anaconda3/lib/python3.12/site-packages/graphviz/_tools.py:185\u001b[0m, in \u001b[0;36mdeprecate_positional_args.<locals>.decorator.<locals>.wrapper\u001b[0;34m(*args, **kwargs)\u001b[0m\n\u001b[1;32m    177\u001b[0m     wanted \u001b[38;5;241m=\u001b[39m \u001b[38;5;124m'\u001b[39m\u001b[38;5;124m, \u001b[39m\u001b[38;5;124m'\u001b[39m\u001b[38;5;241m.\u001b[39mjoin(\u001b[38;5;124mf\u001b[39m\u001b[38;5;124m'\u001b[39m\u001b[38;5;132;01m{\u001b[39;00mname\u001b[38;5;132;01m}\u001b[39;00m\u001b[38;5;124m=\u001b[39m\u001b[38;5;132;01m{\u001b[39;00mvalue\u001b[38;5;132;01m!r}\u001b[39;00m\u001b[38;5;124m'\u001b[39m\n\u001b[1;32m    178\u001b[0m                        \u001b[38;5;28;01mfor\u001b[39;00m name, value \u001b[38;5;129;01min\u001b[39;00m deprecated\u001b[38;5;241m.\u001b[39mitems())\n\u001b[1;32m    179\u001b[0m     warnings\u001b[38;5;241m.\u001b[39mwarn(\u001b[38;5;124mf\u001b[39m\u001b[38;5;124m'\u001b[39m\u001b[38;5;124mThe signature of \u001b[39m\u001b[38;5;132;01m{\u001b[39;00mfunc_name\u001b[38;5;132;01m}\u001b[39;00m\u001b[38;5;124m will be reduced\u001b[39m\u001b[38;5;124m'\u001b[39m\n\u001b[1;32m    180\u001b[0m                   \u001b[38;5;124mf\u001b[39m\u001b[38;5;124m'\u001b[39m\u001b[38;5;124m to \u001b[39m\u001b[38;5;132;01m{\u001b[39;00msupported_number\u001b[38;5;132;01m}\u001b[39;00m\u001b[38;5;124m positional arg\u001b[39m\u001b[38;5;132;01m{\u001b[39;00ms_\u001b[38;5;132;01m}\u001b[39;00m\u001b[38;5;132;01m{\u001b[39;00mqualification\u001b[38;5;132;01m}\u001b[39;00m\u001b[38;5;124m'\u001b[39m\n\u001b[1;32m    181\u001b[0m                   \u001b[38;5;124mf\u001b[39m\u001b[38;5;124m'\u001b[39m\u001b[38;5;124m \u001b[39m\u001b[38;5;132;01m{\u001b[39;00m\u001b[38;5;28mlist\u001b[39m(supported)\u001b[38;5;132;01m}\u001b[39;00m\u001b[38;5;124m: pass \u001b[39m\u001b[38;5;132;01m{\u001b[39;00mwanted\u001b[38;5;132;01m}\u001b[39;00m\u001b[38;5;124m as keyword arg\u001b[39m\u001b[38;5;132;01m{\u001b[39;00ms_\u001b[38;5;132;01m}\u001b[39;00m\u001b[38;5;124m'\u001b[39m,\n\u001b[1;32m    182\u001b[0m                   stacklevel\u001b[38;5;241m=\u001b[39mstacklevel,\n\u001b[1;32m    183\u001b[0m                   category\u001b[38;5;241m=\u001b[39mcategory)\n\u001b[0;32m--> 185\u001b[0m \u001b[38;5;28;01mreturn\u001b[39;00m func(\u001b[38;5;241m*\u001b[39margs, \u001b[38;5;241m*\u001b[39m\u001b[38;5;241m*\u001b[39mkwargs)\n",
      "File \u001b[0;32m/opt/anaconda3/lib/python3.12/site-packages/graphviz/piping.py:121\u001b[0m, in \u001b[0;36mPipe._pipe_legacy\u001b[0;34m(self, format, renderer, formatter, neato_no_op, quiet, engine, encoding)\u001b[0m\n\u001b[1;32m    112\u001b[0m \u001b[38;5;129m@_tools\u001b[39m\u001b[38;5;241m.\u001b[39mdeprecate_positional_args(supported_number\u001b[38;5;241m=\u001b[39m\u001b[38;5;241m1\u001b[39m, ignore_arg\u001b[38;5;241m=\u001b[39m\u001b[38;5;124m'\u001b[39m\u001b[38;5;124mself\u001b[39m\u001b[38;5;124m'\u001b[39m)\n\u001b[1;32m    113\u001b[0m \u001b[38;5;28;01mdef\u001b[39;00m \u001b[38;5;21m_pipe_legacy\u001b[39m(\u001b[38;5;28mself\u001b[39m,\n\u001b[1;32m    114\u001b[0m                  \u001b[38;5;28mformat\u001b[39m: typing\u001b[38;5;241m.\u001b[39mOptional[\u001b[38;5;28mstr\u001b[39m] \u001b[38;5;241m=\u001b[39m \u001b[38;5;28;01mNone\u001b[39;00m,\n\u001b[0;32m   (...)\u001b[0m\n\u001b[1;32m    119\u001b[0m                  engine: typing\u001b[38;5;241m.\u001b[39mOptional[\u001b[38;5;28mstr\u001b[39m] \u001b[38;5;241m=\u001b[39m \u001b[38;5;28;01mNone\u001b[39;00m,\n\u001b[1;32m    120\u001b[0m                  encoding: typing\u001b[38;5;241m.\u001b[39mOptional[\u001b[38;5;28mstr\u001b[39m] \u001b[38;5;241m=\u001b[39m \u001b[38;5;28;01mNone\u001b[39;00m) \u001b[38;5;241m-\u001b[39m\u001b[38;5;241m>\u001b[39m typing\u001b[38;5;241m.\u001b[39mUnion[\u001b[38;5;28mbytes\u001b[39m, \u001b[38;5;28mstr\u001b[39m]:\n\u001b[0;32m--> 121\u001b[0m     \u001b[38;5;28;01mreturn\u001b[39;00m \u001b[38;5;28mself\u001b[39m\u001b[38;5;241m.\u001b[39m_pipe_future(\u001b[38;5;28mformat\u001b[39m,\n\u001b[1;32m    122\u001b[0m                              renderer\u001b[38;5;241m=\u001b[39mrenderer,\n\u001b[1;32m    123\u001b[0m                              formatter\u001b[38;5;241m=\u001b[39mformatter,\n\u001b[1;32m    124\u001b[0m                              neato_no_op\u001b[38;5;241m=\u001b[39mneato_no_op,\n\u001b[1;32m    125\u001b[0m                              quiet\u001b[38;5;241m=\u001b[39mquiet,\n\u001b[1;32m    126\u001b[0m                              engine\u001b[38;5;241m=\u001b[39mengine,\n\u001b[1;32m    127\u001b[0m                              encoding\u001b[38;5;241m=\u001b[39mencoding)\n",
      "File \u001b[0;32m/opt/anaconda3/lib/python3.12/site-packages/graphviz/piping.py:149\u001b[0m, in \u001b[0;36mPipe._pipe_future\u001b[0;34m(self, format, renderer, formatter, neato_no_op, quiet, engine, encoding)\u001b[0m\n\u001b[1;32m    146\u001b[0m \u001b[38;5;28;01mif\u001b[39;00m encoding \u001b[38;5;129;01mis\u001b[39;00m \u001b[38;5;129;01mnot\u001b[39;00m \u001b[38;5;28;01mNone\u001b[39;00m:\n\u001b[1;32m    147\u001b[0m     \u001b[38;5;28;01mif\u001b[39;00m codecs\u001b[38;5;241m.\u001b[39mlookup(encoding) \u001b[38;5;129;01mis\u001b[39;00m codecs\u001b[38;5;241m.\u001b[39mlookup(\u001b[38;5;28mself\u001b[39m\u001b[38;5;241m.\u001b[39mencoding):\n\u001b[1;32m    148\u001b[0m         \u001b[38;5;66;03m# common case: both stdin and stdout need the same encoding\u001b[39;00m\n\u001b[0;32m--> 149\u001b[0m         \u001b[38;5;28;01mreturn\u001b[39;00m \u001b[38;5;28mself\u001b[39m\u001b[38;5;241m.\u001b[39m_pipe_lines_string(\u001b[38;5;241m*\u001b[39margs, encoding\u001b[38;5;241m=\u001b[39mencoding, \u001b[38;5;241m*\u001b[39m\u001b[38;5;241m*\u001b[39mkwargs)\n\u001b[1;32m    150\u001b[0m     \u001b[38;5;28;01mtry\u001b[39;00m:\n\u001b[1;32m    151\u001b[0m         raw \u001b[38;5;241m=\u001b[39m \u001b[38;5;28mself\u001b[39m\u001b[38;5;241m.\u001b[39m_pipe_lines(\u001b[38;5;241m*\u001b[39margs, input_encoding\u001b[38;5;241m=\u001b[39m\u001b[38;5;28mself\u001b[39m\u001b[38;5;241m.\u001b[39mencoding, \u001b[38;5;241m*\u001b[39m\u001b[38;5;241m*\u001b[39mkwargs)\n",
      "File \u001b[0;32m/opt/anaconda3/lib/python3.12/site-packages/graphviz/backend/piping.py:212\u001b[0m, in \u001b[0;36mpipe_lines_string\u001b[0;34m(engine, format, input_lines, encoding, renderer, formatter, neato_no_op, quiet)\u001b[0m\n\u001b[1;32m    206\u001b[0m cmd \u001b[38;5;241m=\u001b[39m dot_command\u001b[38;5;241m.\u001b[39mcommand(engine, \u001b[38;5;28mformat\u001b[39m,\n\u001b[1;32m    207\u001b[0m                           renderer\u001b[38;5;241m=\u001b[39mrenderer,\n\u001b[1;32m    208\u001b[0m                           formatter\u001b[38;5;241m=\u001b[39mformatter,\n\u001b[1;32m    209\u001b[0m                           neato_no_op\u001b[38;5;241m=\u001b[39mneato_no_op)\n\u001b[1;32m    210\u001b[0m kwargs \u001b[38;5;241m=\u001b[39m {\u001b[38;5;124m'\u001b[39m\u001b[38;5;124minput_lines\u001b[39m\u001b[38;5;124m'\u001b[39m: input_lines, \u001b[38;5;124m'\u001b[39m\u001b[38;5;124mencoding\u001b[39m\u001b[38;5;124m'\u001b[39m: encoding}\n\u001b[0;32m--> 212\u001b[0m proc \u001b[38;5;241m=\u001b[39m execute\u001b[38;5;241m.\u001b[39mrun_check(cmd, capture_output\u001b[38;5;241m=\u001b[39m\u001b[38;5;28;01mTrue\u001b[39;00m, quiet\u001b[38;5;241m=\u001b[39mquiet, \u001b[38;5;241m*\u001b[39m\u001b[38;5;241m*\u001b[39mkwargs)\n\u001b[1;32m    213\u001b[0m \u001b[38;5;28;01mreturn\u001b[39;00m proc\u001b[38;5;241m.\u001b[39mstdout\n",
      "File \u001b[0;32m/opt/anaconda3/lib/python3.12/site-packages/graphviz/backend/execute.py:81\u001b[0m, in \u001b[0;36mrun_check\u001b[0;34m(cmd, input_lines, encoding, quiet, **kwargs)\u001b[0m\n\u001b[1;32m     79\u001b[0m \u001b[38;5;28;01mexcept\u001b[39;00m \u001b[38;5;167;01mOSError\u001b[39;00m \u001b[38;5;28;01mas\u001b[39;00m e:\n\u001b[1;32m     80\u001b[0m     \u001b[38;5;28;01mif\u001b[39;00m e\u001b[38;5;241m.\u001b[39merrno \u001b[38;5;241m==\u001b[39m errno\u001b[38;5;241m.\u001b[39mENOENT:\n\u001b[0;32m---> 81\u001b[0m         \u001b[38;5;28;01mraise\u001b[39;00m ExecutableNotFound(cmd) \u001b[38;5;28;01mfrom\u001b[39;00m \u001b[38;5;21;01me\u001b[39;00m\n\u001b[1;32m     82\u001b[0m     \u001b[38;5;28;01mraise\u001b[39;00m\n\u001b[1;32m     84\u001b[0m \u001b[38;5;28;01mif\u001b[39;00m \u001b[38;5;129;01mnot\u001b[39;00m quiet \u001b[38;5;129;01mand\u001b[39;00m proc\u001b[38;5;241m.\u001b[39mstderr:\n",
      "\u001b[0;31mExecutableNotFound\u001b[0m: failed to execute PosixPath('dot'), make sure the Graphviz executables are on your systems' PATH"
     ]
    },
    {
     "data": {
      "text/plain": [
       "<graphviz.graphs.Digraph at 0x16dc71040>"
      ]
     },
     "execution_count": 10,
     "metadata": {},
     "output_type": "execute_result"
    }
   ],
   "source": [
    "dot = draw_dag(dag_dependencies)\n",
    "dot"
   ]
  },
  {
   "cell_type": "code",
   "execution_count": null,
   "id": "dd442d81-f6a4-41af-845e-fe19a69843b9",
   "metadata": {},
   "outputs": [],
   "source": []
  }
 ],
 "metadata": {
  "kernelspec": {
   "display_name": "Python 3 (ipykernel)",
   "language": "python",
   "name": "python3"
  },
  "language_info": {
   "codemirror_mode": {
    "name": "ipython",
    "version": 3
   },
   "file_extension": ".py",
   "mimetype": "text/x-python",
   "name": "python",
   "nbconvert_exporter": "python",
   "pygments_lexer": "ipython3",
   "version": "3.12.7"
  }
 },
 "nbformat": 4,
 "nbformat_minor": 5
}
