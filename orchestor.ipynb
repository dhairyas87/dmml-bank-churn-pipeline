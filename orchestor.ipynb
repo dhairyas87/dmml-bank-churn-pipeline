{
 "cells": [
  {
   "cell_type": "code",
   "execution_count": 19,
   "id": "035ededa-a01a-402c-9bc3-18bb1cac1f45",
   "metadata": {},
   "outputs": [
    {
     "data": {
      "text/html": [
       "<pre style=\"white-space:pre;overflow-x:auto;line-height:normal;font-family:Menlo,'DejaVu Sans Mono',consolas,'Courier New',monospace\">00:51:40.373 | <span style=\"color: #008080; text-decoration-color: #008080\">INFO</span>    | Flow run<span style=\"color: #800080; text-decoration-color: #800080\"> 'carmine-petrel'</span> - Beginning flow run<span style=\"color: #800080; text-decoration-color: #800080\"> 'carmine-petrel'</span> for flow<span style=\"color: #800080; text-decoration-color: #800080; font-weight: bold\"> 'Churn ML Pipeline Orchestration'</span>\n",
       "</pre>\n"
      ],
      "text/plain": [
       "00:51:40.373 | \u001b[36mINFO\u001b[0m    | Flow run\u001b[35m 'carmine-petrel'\u001b[0m - Beginning flow run\u001b[35m 'carmine-petrel'\u001b[0m for flow\u001b[1;35m 'Churn ML Pipeline Orchestration'\u001b[0m\n"
      ]
     },
     "metadata": {},
     "output_type": "display_data"
    },
    {
     "data": {
      "text/html": [
       "<pre style=\"white-space:pre;overflow-x:auto;line-height:normal;font-family:Menlo,'DejaVu Sans Mono',consolas,'Courier New',monospace\">00:51:40.392 | <span style=\"color: #008080; text-decoration-color: #008080\">INFO</span>    | Task run 'ingest_data-887' - 📥 Ingesting data from <span style=\"color: #0000ff; text-decoration-color: #0000ff\">https://synapseaisolutionsa.z13.web.core.windows.net/data/bankcustomerchurn/churn.csv</span>\n",
       "</pre>\n"
      ],
      "text/plain": [
       "00:51:40.392 | \u001b[36mINFO\u001b[0m    | Task run 'ingest_data-887' - 📥 Ingesting data from \u001b[94mhttps://synapseaisolutionsa.z13.web.core.windows.net/data/bankcustomerchurn/churn.csv\u001b[0m\n"
      ]
     },
     "metadata": {},
     "output_type": "display_data"
    },
    {
     "data": {
      "text/html": [
       "<pre style=\"white-space:pre;overflow-x:auto;line-height:normal;font-family:Menlo,'DejaVu Sans Mono',consolas,'Courier New',monospace\">00:51:42.582 | <span style=\"color: #008080; text-decoration-color: #008080\">INFO</span>    | Task run 'ingest_data-887' - ✅ Data ingestion complete. Shape: (10000, 14)\n",
       "</pre>\n"
      ],
      "text/plain": [
       "00:51:42.582 | \u001b[36mINFO\u001b[0m    | Task run 'ingest_data-887' - ✅ Data ingestion complete. Shape: (10000, 14)\n"
      ]
     },
     "metadata": {},
     "output_type": "display_data"
    },
    {
     "data": {
      "text/html": [
       "<pre style=\"white-space:pre;overflow-x:auto;line-height:normal;font-family:Menlo,'DejaVu Sans Mono',consolas,'Courier New',monospace\">00:51:42.586 | <span style=\"color: #008080; text-decoration-color: #008080\">INFO</span>    | Task run 'ingest_data-887' - Finished in state <span style=\"color: #008000; text-decoration-color: #008000\">Completed</span>()\n",
       "</pre>\n"
      ],
      "text/plain": [
       "00:51:42.586 | \u001b[36mINFO\u001b[0m    | Task run 'ingest_data-887' - Finished in state \u001b[32mCompleted\u001b[0m()\n"
      ]
     },
     "metadata": {},
     "output_type": "display_data"
    },
    {
     "data": {
      "text/html": [
       "<pre style=\"white-space:pre;overflow-x:auto;line-height:normal;font-family:Menlo,'DejaVu Sans Mono',consolas,'Courier New',monospace\">00:51:42.657 | <span style=\"color: #008080; text-decoration-color: #008080\">INFO</span>    | Task run 'store_data-ff3' - ✅ Data stored at results/store_data\n",
       "</pre>\n"
      ],
      "text/plain": [
       "00:51:42.657 | \u001b[36mINFO\u001b[0m    | Task run 'store_data-ff3' - ✅ Data stored at results/store_data\n"
      ]
     },
     "metadata": {},
     "output_type": "display_data"
    },
    {
     "data": {
      "text/html": [
       "<pre style=\"white-space:pre;overflow-x:auto;line-height:normal;font-family:Menlo,'DejaVu Sans Mono',consolas,'Courier New',monospace\">00:51:42.659 | <span style=\"color: #008080; text-decoration-color: #008080\">INFO</span>    | Task run 'store_data-ff3' - Finished in state <span style=\"color: #008000; text-decoration-color: #008000\">Completed</span>()\n",
       "</pre>\n"
      ],
      "text/plain": [
       "00:51:42.659 | \u001b[36mINFO\u001b[0m    | Task run 'store_data-ff3' - Finished in state \u001b[32mCompleted\u001b[0m()\n"
      ]
     },
     "metadata": {},
     "output_type": "display_data"
    },
    {
     "data": {
      "text/html": [
       "<pre style=\"white-space:pre;overflow-x:auto;line-height:normal;font-family:Menlo,'DejaVu Sans Mono',consolas,'Courier New',monospace\">00:51:42.684 | <span style=\"color: #d7d700; text-decoration-color: #d7d700\">WARNING</span> | root - EstimatedSalary anomalies detected: 10 rows\n",
       "</pre>\n"
      ],
      "text/plain": [
       "00:51:42.684 | \u001b[38;5;184mWARNING\u001b[0m | root - EstimatedSalary anomalies detected: 10 rows\n"
      ]
     },
     "metadata": {},
     "output_type": "display_data"
    },
    {
     "data": {
      "text/html": [
       "<pre style=\"white-space:pre;overflow-x:auto;line-height:normal;font-family:Menlo,'DejaVu Sans Mono',consolas,'Courier New',monospace\">00:51:42.697 | <span style=\"color: #008080; text-decoration-color: #008080\">INFO</span>    | Task run 'validate_data-343' - 🔍 Validation complete. Issues: 1 Metadata: {'missing_values': {'RowNumber': 0, 'CustomerId': 0, 'Surname': 0, 'CreditScore': 0, 'Geography': 0, 'Gender': 0, 'Age': 0, 'Tenure': 0, 'Balance': 0, 'NumOfProducts': 0, 'HasCrCard': 0, 'IsActiveMember': 0, 'EstimatedSalary': 0, 'Exited': 0}, 'duplicate_rows': 0, 'data_types': {'RowNumber': 'int64', 'CustomerId': 'int64', 'Surname': 'object', 'CreditScore': 'int64', 'Geography': 'object', 'Gender': 'object', 'Age': 'int64', 'Tenure': 'int64', 'Balance': 'float64', 'NumOfProducts': 'int64', 'HasCrCard': 'int64', 'IsActiveMember': 'int64', 'EstimatedSalary': 'float64', 'Exited': 'int64'}, 'numeric_summary': {'RowNumber': {'count': 10000.0, 'mean': 5000.5, 'std': 2886.8956799071675, 'min': 1.0, '25%': 2500.75, '50%': 5000.5, '75%': 7500.25, 'max': 10000.0}, 'CustomerId': {'count': 10000.0, 'mean': 15690940.5694, 'std': 71936.18612274883, 'min': 15565701.0, '25%': 15628528.25, '50%': 15690738.0, '75%': 15753233.75, 'max': 15815690.0}, 'CreditScore': {'count': 10000.0, 'mean': 650.5288, 'std': 96.65329873613061, 'min': 350.0, '25%': 584.0, '50%': 652.0, '75%': 718.0, 'max': 850.0}, 'Age': {'count': 10000.0, 'mean': 38.9218, 'std': 10.487806451704591, 'min': 18.0, '25%': 32.0, '50%': 37.0, '75%': 44.0, 'max': 92.0}, 'Tenure': {'count': 10000.0, 'mean': 5.0128, 'std': 2.892174377049708, 'min': 0.0, '25%': 3.0, '50%': 5.0, '75%': 7.0, 'max': 10.0}, 'Balance': {'count': 10000.0, 'mean': 76485.889288, 'std': 62397.40520238623, 'min': 0.0, '25%': 0.0, '50%': 97198.54000000001, '75%': 127644.24, 'max': 250898.09}, 'NumOfProducts': {'count': 10000.0, 'mean': 1.5302, 'std': 0.5816543579989936, 'min': 1.0, '25%': 1.0, '50%': 1.0, '75%': 2.0, 'max': 4.0}, 'HasCrCard': {'count': 10000.0, 'mean': 0.7055, 'std': 0.45584046447514237, 'min': 0.0, '25%': 0.0, '50%': 1.0, '75%': 1.0, 'max': 1.0}, 'IsActiveMember': {'count': 10000.0, 'mean': 0.5151, 'std': 0.4997969284589202, 'min': 0.0, '25%': 0.0, '50%': 1.0, '75%': 1.0, 'max': 1.0}, 'EstimatedSalary': {'count': 10000.0, 'mean': 100090.239881, 'std': 57510.49281769822, 'min': 11.58, '25%': 51002.11, '50%': 100193.915, '75%': 149388.2475, 'max': 199992.48}, 'Exited': {'count': 10000.0, 'mean': 0.2037, 'std': 0.40276858399484955, 'min': 0.0, '25%': 0.0, '50%': 0.0, '75%': 0.0, 'max': 1.0}}}\n",
       "</pre>\n"
      ],
      "text/plain": [
       "00:51:42.697 | \u001b[36mINFO\u001b[0m    | Task run 'validate_data-343' - 🔍 Validation complete. Issues: 1 Metadata: {'missing_values': {'RowNumber': 0, 'CustomerId': 0, 'Surname': 0, 'CreditScore': 0, 'Geography': 0, 'Gender': 0, 'Age': 0, 'Tenure': 0, 'Balance': 0, 'NumOfProducts': 0, 'HasCrCard': 0, 'IsActiveMember': 0, 'EstimatedSalary': 0, 'Exited': 0}, 'duplicate_rows': 0, 'data_types': {'RowNumber': 'int64', 'CustomerId': 'int64', 'Surname': 'object', 'CreditScore': 'int64', 'Geography': 'object', 'Gender': 'object', 'Age': 'int64', 'Tenure': 'int64', 'Balance': 'float64', 'NumOfProducts': 'int64', 'HasCrCard': 'int64', 'IsActiveMember': 'int64', 'EstimatedSalary': 'float64', 'Exited': 'int64'}, 'numeric_summary': {'RowNumber': {'count': 10000.0, 'mean': 5000.5, 'std': 2886.8956799071675, 'min': 1.0, '25%': 2500.75, '50%': 5000.5, '75%': 7500.25, 'max': 10000.0}, 'CustomerId': {'count': 10000.0, 'mean': 15690940.5694, 'std': 71936.18612274883, 'min': 15565701.0, '25%': 15628528.25, '50%': 15690738.0, '75%': 15753233.75, 'max': 15815690.0}, 'CreditScore': {'count': 10000.0, 'mean': 650.5288, 'std': 96.65329873613061, 'min': 350.0, '25%': 584.0, '50%': 652.0, '75%': 718.0, 'max': 850.0}, 'Age': {'count': 10000.0, 'mean': 38.9218, 'std': 10.487806451704591, 'min': 18.0, '25%': 32.0, '50%': 37.0, '75%': 44.0, 'max': 92.0}, 'Tenure': {'count': 10000.0, 'mean': 5.0128, 'std': 2.892174377049708, 'min': 0.0, '25%': 3.0, '50%': 5.0, '75%': 7.0, 'max': 10.0}, 'Balance': {'count': 10000.0, 'mean': 76485.889288, 'std': 62397.40520238623, 'min': 0.0, '25%': 0.0, '50%': 97198.54000000001, '75%': 127644.24, 'max': 250898.09}, 'NumOfProducts': {'count': 10000.0, 'mean': 1.5302, 'std': 0.5816543579989936, 'min': 1.0, '25%': 1.0, '50%': 1.0, '75%': 2.0, 'max': 4.0}, 'HasCrCard': {'count': 10000.0, 'mean': 0.7055, 'std': 0.45584046447514237, 'min': 0.0, '25%': 0.0, '50%': 1.0, '75%': 1.0, 'max': 1.0}, 'IsActiveMember': {'count': 10000.0, 'mean': 0.5151, 'std': 0.4997969284589202, 'min': 0.0, '25%': 0.0, '50%': 1.0, '75%': 1.0, 'max': 1.0}, 'EstimatedSalary': {'count': 10000.0, 'mean': 100090.239881, 'std': 57510.49281769822, 'min': 11.58, '25%': 51002.11, '50%': 100193.915, '75%': 149388.2475, 'max': 199992.48}, 'Exited': {'count': 10000.0, 'mean': 0.2037, 'std': 0.40276858399484955, 'min': 0.0, '25%': 0.0, '50%': 0.0, '75%': 0.0, 'max': 1.0}}}\n"
      ]
     },
     "metadata": {},
     "output_type": "display_data"
    },
    {
     "data": {
      "text/html": [
       "<pre style=\"white-space:pre;overflow-x:auto;line-height:normal;font-family:Menlo,'DejaVu Sans Mono',consolas,'Courier New',monospace\">00:51:42.700 | <span style=\"color: #008080; text-decoration-color: #008080\">INFO</span>    | Task run 'validate_data-343' - Finished in state <span style=\"color: #008000; text-decoration-color: #008000\">Completed</span>()\n",
       "</pre>\n"
      ],
      "text/plain": [
       "00:51:42.700 | \u001b[36mINFO\u001b[0m    | Task run 'validate_data-343' - Finished in state \u001b[32mCompleted\u001b[0m()\n"
      ]
     },
     "metadata": {},
     "output_type": "display_data"
    },
    {
     "data": {
      "text/html": [
       "<pre style=\"white-space:pre;overflow-x:auto;line-height:normal;font-family:Menlo,'DejaVu Sans Mono',consolas,'Courier New',monospace\">00:51:43.495 | <span style=\"color: #008080; text-decoration-color: #008080\">INFO</span>    | Task run 'prepare_data-91e' - ✅ Data preparation complete. Shape: (10000, 14)\n",
       "</pre>\n"
      ],
      "text/plain": [
       "00:51:43.495 | \u001b[36mINFO\u001b[0m    | Task run 'prepare_data-91e' - ✅ Data preparation complete. Shape: (10000, 14)\n"
      ]
     },
     "metadata": {},
     "output_type": "display_data"
    },
    {
     "data": {
      "text/html": [
       "<pre style=\"white-space:pre;overflow-x:auto;line-height:normal;font-family:Menlo,'DejaVu Sans Mono',consolas,'Courier New',monospace\">00:51:43.497 | <span style=\"color: #008080; text-decoration-color: #008080\">INFO</span>    | Task run 'prepare_data-91e' - Finished in state <span style=\"color: #008000; text-decoration-color: #008000\">Completed</span>()\n",
       "</pre>\n"
      ],
      "text/plain": [
       "00:51:43.497 | \u001b[36mINFO\u001b[0m    | Task run 'prepare_data-91e' - Finished in state \u001b[32mCompleted\u001b[0m()\n"
      ]
     },
     "metadata": {},
     "output_type": "display_data"
    },
    {
     "data": {
      "text/html": [
       "<pre style=\"white-space:pre;overflow-x:auto;line-height:normal;font-family:Menlo,'DejaVu Sans Mono',consolas,'Courier New',monospace\">00:51:43.555 | <span style=\"color: #008080; text-decoration-color: #008080\">INFO</span>    | Task run 'transform_data-68f' - ✅ Data transformation complete. Shape: (10000, 15)\n",
       "</pre>\n"
      ],
      "text/plain": [
       "00:51:43.555 | \u001b[36mINFO\u001b[0m    | Task run 'transform_data-68f' - ✅ Data transformation complete. Shape: (10000, 15)\n"
      ]
     },
     "metadata": {},
     "output_type": "display_data"
    },
    {
     "data": {
      "text/html": [
       "<pre style=\"white-space:pre;overflow-x:auto;line-height:normal;font-family:Menlo,'DejaVu Sans Mono',consolas,'Courier New',monospace\">00:51:43.557 | <span style=\"color: #008080; text-decoration-color: #008080\">INFO</span>    | Task run 'transform_data-68f' - Finished in state <span style=\"color: #008000; text-decoration-color: #008000\">Completed</span>()\n",
       "</pre>\n"
      ],
      "text/plain": [
       "00:51:43.557 | \u001b[36mINFO\u001b[0m    | Task run 'transform_data-68f' - Finished in state \u001b[32mCompleted\u001b[0m()\n"
      ]
     },
     "metadata": {},
     "output_type": "display_data"
    },
    {
     "data": {
      "text/html": [
       "<pre style=\"white-space:pre;overflow-x:auto;line-height:normal;font-family:Menlo,'DejaVu Sans Mono',consolas,'Courier New',monospace\">00:51:43.614 | <span style=\"color: #008080; text-decoration-color: #008080\">INFO</span>    | Task run 'build_feature_store-4a8' - ✅ Feature store created at results/featurestore, DB path: results/featurestore/feature_store.db\n",
       "</pre>\n"
      ],
      "text/plain": [
       "00:51:43.614 | \u001b[36mINFO\u001b[0m    | Task run 'build_feature_store-4a8' - ✅ Feature store created at results/featurestore, DB path: results/featurestore/feature_store.db\n"
      ]
     },
     "metadata": {},
     "output_type": "display_data"
    },
    {
     "data": {
      "text/html": [
       "<pre style=\"white-space:pre;overflow-x:auto;line-height:normal;font-family:Menlo,'DejaVu Sans Mono',consolas,'Courier New',monospace\">00:51:43.616 | <span style=\"color: #008080; text-decoration-color: #008080\">INFO</span>    | Task run 'build_feature_store-4a8' - Finished in state <span style=\"color: #008000; text-decoration-color: #008000\">Completed</span>()\n",
       "</pre>\n"
      ],
      "text/plain": [
       "00:51:43.616 | \u001b[36mINFO\u001b[0m    | Task run 'build_feature_store-4a8' - Finished in state \u001b[32mCompleted\u001b[0m()\n"
      ]
     },
     "metadata": {},
     "output_type": "display_data"
    },
    {
     "name": "stdout",
     "output_type": "stream",
     "text": [
      "[main 6dbea8c] Dataset update: churn_raw (raw + transformed) - Pipeline_runnning_updates\n",
      " 14 files changed, 10351 insertions(+), 178 deletions(-)\n",
      " create mode 100644 results/prepared_data/cleaned_data_20250824_005143.csv\n",
      " create mode 100644 results/prepared_data/eda_report_20250824_005142.pdf\n",
      " create mode 100644 results/transformation_and_storage/schema_design_20250824_005143.sql\n",
      " create mode 100644 results/validate_data_reports/churn_data_issues_20250824_005142.csv\n",
      " create mode 100644 results/validate_data_reports/churn_data_metadata_20250824_005142.csv\n",
      " create mode 100644 results/validate_data_reports/churn_data_report_20250824_005142.pdf\n",
      "[main decf4d2] Update version metadata for churn_raw\n",
      " 1 file changed, 10 insertions(+)\n"
     ]
    },
    {
     "name": "stderr",
     "output_type": "stream",
     "text": [
      "From https://github.com/dhairyas87/dmml-bank-churn-pipeline\n",
      " * branch            main       -> FETCH_HEAD\n"
     ]
    },
    {
     "name": "stdout",
     "output_type": "stream",
     "text": [
      "Current branch main is up to date.\n",
      "✅ Raw + Transformed datasets for churn_raw saved, versioned, and pushed under commit 6dbea8cd5e7d5cf90747dd74e9ded867e5971537\n"
     ]
    },
    {
     "name": "stderr",
     "output_type": "stream",
     "text": [
      "To https://github.com/dhairyas87/dmml-bank-churn-pipeline.git\n",
      "   f377cff..decf4d2  main -> main\n"
     ]
    },
    {
     "data": {
      "text/html": [
       "<pre style=\"white-space:pre;overflow-x:auto;line-height:normal;font-family:Menlo,'DejaVu Sans Mono',consolas,'Courier New',monospace\">00:51:46.581 | <span style=\"color: #008080; text-decoration-color: #008080\">INFO</span>    | Task run 'version_data-407' - ✅ Data versioning complete.\n",
       "</pre>\n"
      ],
      "text/plain": [
       "00:51:46.581 | \u001b[36mINFO\u001b[0m    | Task run 'version_data-407' - ✅ Data versioning complete.\n"
      ]
     },
     "metadata": {},
     "output_type": "display_data"
    },
    {
     "data": {
      "text/html": [
       "<pre style=\"white-space:pre;overflow-x:auto;line-height:normal;font-family:Menlo,'DejaVu Sans Mono',consolas,'Courier New',monospace\">00:51:46.586 | <span style=\"color: #008080; text-decoration-color: #008080\">INFO</span>    | Task run 'version_data-407' - Finished in state <span style=\"color: #008000; text-decoration-color: #008000\">Completed</span>()\n",
       "</pre>\n"
      ],
      "text/plain": [
       "00:51:46.586 | \u001b[36mINFO\u001b[0m    | Task run 'version_data-407' - Finished in state \u001b[32mCompleted\u001b[0m()\n"
      ]
     },
     "metadata": {},
     "output_type": "display_data"
    },
    {
     "name": "stdout",
     "output_type": "stream",
     "text": [
      "✅ Training complete with engineered features.\n",
      "📂 Deliverables: models/, data/model_results.txt, data/model_versions.json\n"
     ]
    },
    {
     "data": {
      "text/html": [
       "<pre style=\"white-space:pre;overflow-x:auto;line-height:normal;font-family:Menlo,'DejaVu Sans Mono',consolas,'Courier New',monospace\">00:51:53.582 | <span style=\"color: #008080; text-decoration-color: #008080\">INFO</span>    | Task run 'train_model-e7b' - ✅ Model training complete.\n",
       "</pre>\n"
      ],
      "text/plain": [
       "00:51:53.582 | \u001b[36mINFO\u001b[0m    | Task run 'train_model-e7b' - ✅ Model training complete.\n"
      ]
     },
     "metadata": {},
     "output_type": "display_data"
    },
    {
     "data": {
      "text/html": [
       "<pre style=\"white-space:pre;overflow-x:auto;line-height:normal;font-family:Menlo,'DejaVu Sans Mono',consolas,'Courier New',monospace\">00:51:53.586 | <span style=\"color: #008080; text-decoration-color: #008080\">INFO</span>    | Task run 'train_model-e7b' - Finished in state <span style=\"color: #008000; text-decoration-color: #008000\">Completed</span>()\n",
       "</pre>\n"
      ],
      "text/plain": [
       "00:51:53.586 | \u001b[36mINFO\u001b[0m    | Task run 'train_model-e7b' - Finished in state \u001b[32mCompleted\u001b[0m()\n"
      ]
     },
     "metadata": {},
     "output_type": "display_data"
    },
    {
     "data": {
      "text/html": [
       "<pre style=\"white-space:pre;overflow-x:auto;line-height:normal;font-family:Menlo,'DejaVu Sans Mono',consolas,'Courier New',monospace\">00:51:53.604 | <span style=\"color: #d70000; text-decoration-color: #d70000\">ERROR</span>   | Flow run<span style=\"color: #800080; text-decoration-color: #800080\"> 'carmine-petrel'</span> - Encountered exception during execution: ExecutableNotFound(\"failed to execute PosixPath('dot'), make sure the Graphviz executables are on your systems' PATH\")\n",
       "Traceback (most recent call last):\n",
       "  File \"/opt/anaconda3/lib/python3.12/site-packages/graphviz/backend/execute.py\", line 78, in run_check\n",
       "    proc = subprocess.run(cmd, **kwargs)\n",
       "           ^^^^^^^^^^^^^^^^^^^^^^^^^^^^^\n",
       "  File \"/opt/anaconda3/lib/python3.12/subprocess.py\", line 548, in run\n",
       "    with Popen(*popenargs, **kwargs) as process:\n",
       "         ^^^^^^^^^^^^^^^^^^^^^^^^^^^\n",
       "  File \"/opt/anaconda3/lib/python3.12/subprocess.py\", line 1026, in __init__\n",
       "    self._execute_child(args, executable, preexec_fn, close_fds,\n",
       "  File \"/opt/anaconda3/lib/python3.12/subprocess.py\", line 1955, in _execute_child\n",
       "    raise child_exception_type(errno_num, err_msg, err_filename)\n",
       "FileNotFoundError: [Errno 2] No such file or directory: PosixPath('dot')\n",
       "\n",
       "The above exception was the direct cause of the following exception:\n",
       "\n",
       "Traceback (most recent call last):\n",
       "  File \"/opt/anaconda3/lib/python3.12/site-packages/prefect/flow_engine.py\", line 782, in run_context\n",
       "    yield self\n",
       "  File \"/opt/anaconda3/lib/python3.12/site-packages/prefect/flow_engine.py\", line 1397, in run_flow_sync\n",
       "    engine.call_flow_fn()\n",
       "  File \"/opt/anaconda3/lib/python3.12/site-packages/prefect/flow_engine.py\", line 802, in call_flow_fn\n",
       "    result = call_with_parameters(self.flow.fn, self.parameters)\n",
       "             ^^^^^^^^^^^^^^^^^^^^^^^^^^^^^^^^^^^^^^^^^^^^^^^^^^^\n",
       "  File \"/opt/anaconda3/lib/python3.12/site-packages/prefect/utilities/callables.py\", line 210, in call_with_parameters\n",
       "    return fn(*args, **kwargs)\n",
       "           ^^^^^^^^^^^^^^^^^^^\n",
       "  File \"/var/folders/sk/qzp6psz960qdsy0d5vhbz84w0000gn/T/ipykernel_5896/131420863.py\", line 150, in churn_pipeline\n",
       "    dot = draw_dag(dag_dependencies)\n",
       "          ^^^^^^^^^^^^^^^^^^^^^^^^^^\n",
       "  File \"/var/folders/sk/qzp6psz960qdsy0d5vhbz84w0000gn/T/ipykernel_5896/131420863.py\", line 66, in draw_dag\n",
       "    dot.render(output_path, cleanup=True)\n",
       "  File \"/opt/anaconda3/lib/python3.12/site-packages/graphviz/_tools.py\", line 185, in wrapper\n",
       "    return func(*args, **kwargs)\n",
       "           ^^^^^^^^^^^^^^^^^^^^^\n",
       "  File \"/opt/anaconda3/lib/python3.12/site-packages/graphviz/rendering.py\", line 122, in render\n",
       "    rendered = self._render(*args, **kwargs)\n",
       "               ^^^^^^^^^^^^^^^^^^^^^^^^^^^^^\n",
       "  File \"/opt/anaconda3/lib/python3.12/site-packages/graphviz/_tools.py\", line 185, in wrapper\n",
       "    return func(*args, **kwargs)\n",
       "           ^^^^^^^^^^^^^^^^^^^^^\n",
       "  File \"/opt/anaconda3/lib/python3.12/site-packages/graphviz/backend/rendering.py\", line 326, in render\n",
       "    execute.run_check(cmd,\n",
       "  File \"/opt/anaconda3/lib/python3.12/site-packages/graphviz/backend/execute.py\", line 81, in run_check\n",
       "    raise ExecutableNotFound(cmd) from e\n",
       "graphviz.backend.execute.ExecutableNotFound: failed to execute PosixPath('dot'), make sure the Graphviz executables are on your systems' PATH\n",
       "</pre>\n"
      ],
      "text/plain": [
       "00:51:53.604 | \u001b[38;5;160mERROR\u001b[0m   | Flow run\u001b[35m 'carmine-petrel'\u001b[0m - Encountered exception during execution: ExecutableNotFound(\"failed to execute PosixPath('dot'), make sure the Graphviz executables are on your systems' PATH\")\n",
       "Traceback (most recent call last):\n",
       "  File \"/opt/anaconda3/lib/python3.12/site-packages/graphviz/backend/execute.py\", line 78, in run_check\n",
       "    proc = subprocess.run(cmd, **kwargs)\n",
       "           ^^^^^^^^^^^^^^^^^^^^^^^^^^^^^\n",
       "  File \"/opt/anaconda3/lib/python3.12/subprocess.py\", line 548, in run\n",
       "    with Popen(*popenargs, **kwargs) as process:\n",
       "         ^^^^^^^^^^^^^^^^^^^^^^^^^^^\n",
       "  File \"/opt/anaconda3/lib/python3.12/subprocess.py\", line 1026, in __init__\n",
       "    self._execute_child(args, executable, preexec_fn, close_fds,\n",
       "  File \"/opt/anaconda3/lib/python3.12/subprocess.py\", line 1955, in _execute_child\n",
       "    raise child_exception_type(errno_num, err_msg, err_filename)\n",
       "FileNotFoundError: [Errno 2] No such file or directory: PosixPath('dot')\n",
       "\n",
       "The above exception was the direct cause of the following exception:\n",
       "\n",
       "Traceback (most recent call last):\n",
       "  File \"/opt/anaconda3/lib/python3.12/site-packages/prefect/flow_engine.py\", line 782, in run_context\n",
       "    yield self\n",
       "  File \"/opt/anaconda3/lib/python3.12/site-packages/prefect/flow_engine.py\", line 1397, in run_flow_sync\n",
       "    engine.call_flow_fn()\n",
       "  File \"/opt/anaconda3/lib/python3.12/site-packages/prefect/flow_engine.py\", line 802, in call_flow_fn\n",
       "    result = call_with_parameters(self.flow.fn, self.parameters)\n",
       "             ^^^^^^^^^^^^^^^^^^^^^^^^^^^^^^^^^^^^^^^^^^^^^^^^^^^\n",
       "  File \"/opt/anaconda3/lib/python3.12/site-packages/prefect/utilities/callables.py\", line 210, in call_with_parameters\n",
       "    return fn(*args, **kwargs)\n",
       "           ^^^^^^^^^^^^^^^^^^^\n",
       "  File \"/var/folders/sk/qzp6psz960qdsy0d5vhbz84w0000gn/T/ipykernel_5896/131420863.py\", line 150, in churn_pipeline\n",
       "    dot = draw_dag(dag_dependencies)\n",
       "          ^^^^^^^^^^^^^^^^^^^^^^^^^^\n",
       "  File \"/var/folders/sk/qzp6psz960qdsy0d5vhbz84w0000gn/T/ipykernel_5896/131420863.py\", line 66, in draw_dag\n",
       "    dot.render(output_path, cleanup=True)\n",
       "  File \"/opt/anaconda3/lib/python3.12/site-packages/graphviz/_tools.py\", line 185, in wrapper\n",
       "    return func(*args, **kwargs)\n",
       "           ^^^^^^^^^^^^^^^^^^^^^\n",
       "  File \"/opt/anaconda3/lib/python3.12/site-packages/graphviz/rendering.py\", line 122, in render\n",
       "    rendered = self._render(*args, **kwargs)\n",
       "               ^^^^^^^^^^^^^^^^^^^^^^^^^^^^^\n",
       "  File \"/opt/anaconda3/lib/python3.12/site-packages/graphviz/_tools.py\", line 185, in wrapper\n",
       "    return func(*args, **kwargs)\n",
       "           ^^^^^^^^^^^^^^^^^^^^^\n",
       "  File \"/opt/anaconda3/lib/python3.12/site-packages/graphviz/backend/rendering.py\", line 326, in render\n",
       "    execute.run_check(cmd,\n",
       "  File \"/opt/anaconda3/lib/python3.12/site-packages/graphviz/backend/execute.py\", line 81, in run_check\n",
       "    raise ExecutableNotFound(cmd) from e\n",
       "graphviz.backend.execute.ExecutableNotFound: failed to execute PosixPath('dot'), make sure the Graphviz executables are on your systems' PATH\n"
      ]
     },
     "metadata": {},
     "output_type": "display_data"
    },
    {
     "data": {
      "text/html": [
       "<pre style=\"white-space:pre;overflow-x:auto;line-height:normal;font-family:Menlo,'DejaVu Sans Mono',consolas,'Courier New',monospace\">00:51:53.622 | <span style=\"color: #008080; text-decoration-color: #008080\">INFO</span>    | Flow run<span style=\"color: #800080; text-decoration-color: #800080\"> 'carmine-petrel'</span> - Finished in state <span style=\"color: #d70000; text-decoration-color: #d70000\">Failed</span>(\"Flow run encountered an exception: ExecutableNotFound: failed to execute PosixPath('dot'), make sure the Graphviz executables are on your systems' PATH\")\n",
       "</pre>\n"
      ],
      "text/plain": [
       "00:51:53.622 | \u001b[36mINFO\u001b[0m    | Flow run\u001b[35m 'carmine-petrel'\u001b[0m - Finished in state \u001b[38;5;160mFailed\u001b[0m(\"Flow run encountered an exception: ExecutableNotFound: failed to execute PosixPath('dot'), make sure the Graphviz executables are on your systems' PATH\")\n"
      ]
     },
     "metadata": {},
     "output_type": "display_data"
    },
    {
     "ename": "ExecutableNotFound",
     "evalue": "failed to execute PosixPath('dot'), make sure the Graphviz executables are on your systems' PATH",
     "output_type": "error",
     "traceback": [
      "\u001b[0;31m---------------------------------------------------------------------------\u001b[0m",
      "\u001b[0;31mFileNotFoundError\u001b[0m                         Traceback (most recent call last)",
      "File \u001b[0;32m/opt/anaconda3/lib/python3.12/site-packages/graphviz/backend/execute.py:78\u001b[0m, in \u001b[0;36mrun_check\u001b[0;34m(cmd, input_lines, encoding, quiet, **kwargs)\u001b[0m\n\u001b[1;32m     77\u001b[0m     \u001b[38;5;28;01melse\u001b[39;00m:\n\u001b[0;32m---> 78\u001b[0m         proc \u001b[38;5;241m=\u001b[39m subprocess\u001b[38;5;241m.\u001b[39mrun(cmd, \u001b[38;5;241m*\u001b[39m\u001b[38;5;241m*\u001b[39mkwargs)\n\u001b[1;32m     79\u001b[0m \u001b[38;5;28;01mexcept\u001b[39;00m \u001b[38;5;167;01mOSError\u001b[39;00m \u001b[38;5;28;01mas\u001b[39;00m e:\n",
      "File \u001b[0;32m/opt/anaconda3/lib/python3.12/subprocess.py:548\u001b[0m, in \u001b[0;36mrun\u001b[0;34m(input, capture_output, timeout, check, *popenargs, **kwargs)\u001b[0m\n\u001b[1;32m    546\u001b[0m     kwargs[\u001b[38;5;124m'\u001b[39m\u001b[38;5;124mstderr\u001b[39m\u001b[38;5;124m'\u001b[39m] \u001b[38;5;241m=\u001b[39m PIPE\n\u001b[0;32m--> 548\u001b[0m \u001b[38;5;28;01mwith\u001b[39;00m Popen(\u001b[38;5;241m*\u001b[39mpopenargs, \u001b[38;5;241m*\u001b[39m\u001b[38;5;241m*\u001b[39mkwargs) \u001b[38;5;28;01mas\u001b[39;00m process:\n\u001b[1;32m    549\u001b[0m     \u001b[38;5;28;01mtry\u001b[39;00m:\n",
      "File \u001b[0;32m/opt/anaconda3/lib/python3.12/subprocess.py:1026\u001b[0m, in \u001b[0;36mPopen.__init__\u001b[0;34m(self, args, bufsize, executable, stdin, stdout, stderr, preexec_fn, close_fds, shell, cwd, env, universal_newlines, startupinfo, creationflags, restore_signals, start_new_session, pass_fds, user, group, extra_groups, encoding, errors, text, umask, pipesize, process_group)\u001b[0m\n\u001b[1;32m   1023\u001b[0m             \u001b[38;5;28mself\u001b[39m\u001b[38;5;241m.\u001b[39mstderr \u001b[38;5;241m=\u001b[39m io\u001b[38;5;241m.\u001b[39mTextIOWrapper(\u001b[38;5;28mself\u001b[39m\u001b[38;5;241m.\u001b[39mstderr,\n\u001b[1;32m   1024\u001b[0m                     encoding\u001b[38;5;241m=\u001b[39mencoding, errors\u001b[38;5;241m=\u001b[39merrors)\n\u001b[0;32m-> 1026\u001b[0m     \u001b[38;5;28mself\u001b[39m\u001b[38;5;241m.\u001b[39m_execute_child(args, executable, preexec_fn, close_fds,\n\u001b[1;32m   1027\u001b[0m                         pass_fds, cwd, env,\n\u001b[1;32m   1028\u001b[0m                         startupinfo, creationflags, shell,\n\u001b[1;32m   1029\u001b[0m                         p2cread, p2cwrite,\n\u001b[1;32m   1030\u001b[0m                         c2pread, c2pwrite,\n\u001b[1;32m   1031\u001b[0m                         errread, errwrite,\n\u001b[1;32m   1032\u001b[0m                         restore_signals,\n\u001b[1;32m   1033\u001b[0m                         gid, gids, uid, umask,\n\u001b[1;32m   1034\u001b[0m                         start_new_session, process_group)\n\u001b[1;32m   1035\u001b[0m \u001b[38;5;28;01mexcept\u001b[39;00m:\n\u001b[1;32m   1036\u001b[0m     \u001b[38;5;66;03m# Cleanup if the child failed starting.\u001b[39;00m\n",
      "File \u001b[0;32m/opt/anaconda3/lib/python3.12/subprocess.py:1955\u001b[0m, in \u001b[0;36mPopen._execute_child\u001b[0;34m(self, args, executable, preexec_fn, close_fds, pass_fds, cwd, env, startupinfo, creationflags, shell, p2cread, p2cwrite, c2pread, c2pwrite, errread, errwrite, restore_signals, gid, gids, uid, umask, start_new_session, process_group)\u001b[0m\n\u001b[1;32m   1954\u001b[0m \u001b[38;5;28;01mif\u001b[39;00m err_filename \u001b[38;5;129;01mis\u001b[39;00m \u001b[38;5;129;01mnot\u001b[39;00m \u001b[38;5;28;01mNone\u001b[39;00m:\n\u001b[0;32m-> 1955\u001b[0m     \u001b[38;5;28;01mraise\u001b[39;00m child_exception_type(errno_num, err_msg, err_filename)\n\u001b[1;32m   1956\u001b[0m \u001b[38;5;28;01melse\u001b[39;00m:\n",
      "\u001b[0;31mFileNotFoundError\u001b[0m: [Errno 2] No such file or directory: PosixPath('dot')",
      "\nThe above exception was the direct cause of the following exception:\n",
      "\u001b[0;31mExecutableNotFound\u001b[0m                        Traceback (most recent call last)",
      "Cell \u001b[0;32mIn[19], line 162\u001b[0m\n\u001b[1;32m    154\u001b[0m \u001b[38;5;66;03m# Draw DAG\u001b[39;00m\n\u001b[1;32m    161\u001b[0m \u001b[38;5;28;01mif\u001b[39;00m \u001b[38;5;18m__name__\u001b[39m \u001b[38;5;241m==\u001b[39m \u001b[38;5;124m\"\u001b[39m\u001b[38;5;124m__main__\u001b[39m\u001b[38;5;124m\"\u001b[39m:\n\u001b[0;32m--> 162\u001b[0m     churn_pipeline()\n",
      "File \u001b[0;32m/opt/anaconda3/lib/python3.12/site-packages/prefect/flows.py:1702\u001b[0m, in \u001b[0;36mFlow.__call__\u001b[0;34m(self, return_state, wait_for, *args, **kwargs)\u001b[0m\n\u001b[1;32m   1698\u001b[0m     \u001b[38;5;28;01mreturn\u001b[39;00m track_viz_task(\u001b[38;5;28mself\u001b[39m\u001b[38;5;241m.\u001b[39misasync, \u001b[38;5;28mself\u001b[39m\u001b[38;5;241m.\u001b[39mname, parameters)\n\u001b[1;32m   1700\u001b[0m \u001b[38;5;28;01mfrom\u001b[39;00m \u001b[38;5;21;01mprefect\u001b[39;00m\u001b[38;5;21;01m.\u001b[39;00m\u001b[38;5;21;01mflow_engine\u001b[39;00m \u001b[38;5;28;01mimport\u001b[39;00m run_flow\n\u001b[0;32m-> 1702\u001b[0m \u001b[38;5;28;01mreturn\u001b[39;00m run_flow(\n\u001b[1;32m   1703\u001b[0m     flow\u001b[38;5;241m=\u001b[39m\u001b[38;5;28mself\u001b[39m,\n\u001b[1;32m   1704\u001b[0m     parameters\u001b[38;5;241m=\u001b[39mparameters,\n\u001b[1;32m   1705\u001b[0m     wait_for\u001b[38;5;241m=\u001b[39mwait_for,\n\u001b[1;32m   1706\u001b[0m     return_type\u001b[38;5;241m=\u001b[39mreturn_type,\n\u001b[1;32m   1707\u001b[0m )\n",
      "File \u001b[0;32m/opt/anaconda3/lib/python3.12/site-packages/prefect/flow_engine.py:1554\u001b[0m, in \u001b[0;36mrun_flow\u001b[0;34m(flow, flow_run, parameters, wait_for, return_type, error_logger, context)\u001b[0m\n\u001b[1;32m   1552\u001b[0m         ret_val \u001b[38;5;241m=\u001b[39m run_flow_async(\u001b[38;5;241m*\u001b[39m\u001b[38;5;241m*\u001b[39mkwargs)\n\u001b[1;32m   1553\u001b[0m     \u001b[38;5;28;01melse\u001b[39;00m:\n\u001b[0;32m-> 1554\u001b[0m         ret_val \u001b[38;5;241m=\u001b[39m run_flow_sync(\u001b[38;5;241m*\u001b[39m\u001b[38;5;241m*\u001b[39mkwargs)\n\u001b[1;32m   1555\u001b[0m \u001b[38;5;28;01mexcept\u001b[39;00m (Abort, Pause):\n\u001b[1;32m   1556\u001b[0m     \u001b[38;5;28;01mraise\u001b[39;00m\n",
      "File \u001b[0;32m/opt/anaconda3/lib/python3.12/site-packages/prefect/flow_engine.py:1399\u001b[0m, in \u001b[0;36mrun_flow_sync\u001b[0;34m(flow, flow_run, parameters, wait_for, return_type, context)\u001b[0m\n\u001b[1;32m   1396\u001b[0m         \u001b[38;5;28;01mwith\u001b[39;00m engine\u001b[38;5;241m.\u001b[39mrun_context():\n\u001b[1;32m   1397\u001b[0m             engine\u001b[38;5;241m.\u001b[39mcall_flow_fn()\n\u001b[0;32m-> 1399\u001b[0m \u001b[38;5;28;01mreturn\u001b[39;00m engine\u001b[38;5;241m.\u001b[39mstate \u001b[38;5;28;01mif\u001b[39;00m return_type \u001b[38;5;241m==\u001b[39m \u001b[38;5;124m\"\u001b[39m\u001b[38;5;124mstate\u001b[39m\u001b[38;5;124m\"\u001b[39m \u001b[38;5;28;01melse\u001b[39;00m engine\u001b[38;5;241m.\u001b[39mresult()\n",
      "File \u001b[0;32m/opt/anaconda3/lib/python3.12/site-packages/prefect/flow_engine.py:361\u001b[0m, in \u001b[0;36mFlowRunEngine.result\u001b[0;34m(self, raise_on_failure)\u001b[0m\n\u001b[1;32m    359\u001b[0m \u001b[38;5;28;01mif\u001b[39;00m \u001b[38;5;28mself\u001b[39m\u001b[38;5;241m.\u001b[39m_raised \u001b[38;5;129;01mis\u001b[39;00m \u001b[38;5;129;01mnot\u001b[39;00m NotSet:\n\u001b[1;32m    360\u001b[0m     \u001b[38;5;28;01mif\u001b[39;00m raise_on_failure:\n\u001b[0;32m--> 361\u001b[0m         \u001b[38;5;28;01mraise\u001b[39;00m \u001b[38;5;28mself\u001b[39m\u001b[38;5;241m.\u001b[39m_raised\n\u001b[1;32m    362\u001b[0m     \u001b[38;5;28;01mreturn\u001b[39;00m \u001b[38;5;28mself\u001b[39m\u001b[38;5;241m.\u001b[39m_raised\n\u001b[1;32m    364\u001b[0m \u001b[38;5;66;03m# This is a fall through case which leans on the existing state result mechanics to get the\u001b[39;00m\n\u001b[1;32m    365\u001b[0m \u001b[38;5;66;03m# return value. This is necessary because we currently will return a State object if the\u001b[39;00m\n\u001b[1;32m    366\u001b[0m \u001b[38;5;66;03m# the State was Prefect-created.\u001b[39;00m\n\u001b[1;32m    367\u001b[0m \u001b[38;5;66;03m# TODO: Remove the need to get the result from a State except in cases where the return value\u001b[39;00m\n\u001b[1;32m    368\u001b[0m \u001b[38;5;66;03m# is a State object.\u001b[39;00m\n",
      "File \u001b[0;32m/opt/anaconda3/lib/python3.12/site-packages/prefect/flow_engine.py:782\u001b[0m, in \u001b[0;36mFlowRunEngine.run_context\u001b[0;34m(self)\u001b[0m\n\u001b[1;32m    775\u001b[0m     \u001b[38;5;28;01mwith\u001b[39;00m timeout_context(\n\u001b[1;32m    776\u001b[0m         seconds\u001b[38;5;241m=\u001b[39m\u001b[38;5;28mself\u001b[39m\u001b[38;5;241m.\u001b[39mflow\u001b[38;5;241m.\u001b[39mtimeout_seconds,\n\u001b[1;32m    777\u001b[0m         timeout_exc_type\u001b[38;5;241m=\u001b[39mFlowRunTimeoutError,\n\u001b[1;32m    778\u001b[0m     ):\n\u001b[1;32m    779\u001b[0m         \u001b[38;5;28mself\u001b[39m\u001b[38;5;241m.\u001b[39mlogger\u001b[38;5;241m.\u001b[39mdebug(\n\u001b[1;32m    780\u001b[0m             \u001b[38;5;124mf\u001b[39m\u001b[38;5;124m\"\u001b[39m\u001b[38;5;124mExecuting flow \u001b[39m\u001b[38;5;132;01m{\u001b[39;00m\u001b[38;5;28mself\u001b[39m\u001b[38;5;241m.\u001b[39mflow\u001b[38;5;241m.\u001b[39mname\u001b[38;5;132;01m!r}\u001b[39;00m\u001b[38;5;124m for flow run \u001b[39m\u001b[38;5;132;01m{\u001b[39;00m\u001b[38;5;28mself\u001b[39m\u001b[38;5;241m.\u001b[39mflow_run\u001b[38;5;241m.\u001b[39mname\u001b[38;5;132;01m!r}\u001b[39;00m\u001b[38;5;124m...\u001b[39m\u001b[38;5;124m\"\u001b[39m\n\u001b[1;32m    781\u001b[0m         )\n\u001b[0;32m--> 782\u001b[0m         \u001b[38;5;28;01myield\u001b[39;00m \u001b[38;5;28mself\u001b[39m\n\u001b[1;32m    783\u001b[0m \u001b[38;5;28;01mexcept\u001b[39;00m \u001b[38;5;167;01mTimeoutError\u001b[39;00m \u001b[38;5;28;01mas\u001b[39;00m exc:\n\u001b[1;32m    784\u001b[0m     \u001b[38;5;28mself\u001b[39m\u001b[38;5;241m.\u001b[39mhandle_timeout(exc)\n",
      "File \u001b[0;32m/opt/anaconda3/lib/python3.12/site-packages/prefect/flow_engine.py:1397\u001b[0m, in \u001b[0;36mrun_flow_sync\u001b[0;34m(flow, flow_run, parameters, wait_for, return_type, context)\u001b[0m\n\u001b[1;32m   1395\u001b[0m     \u001b[38;5;28;01mwhile\u001b[39;00m engine\u001b[38;5;241m.\u001b[39mis_running():\n\u001b[1;32m   1396\u001b[0m         \u001b[38;5;28;01mwith\u001b[39;00m engine\u001b[38;5;241m.\u001b[39mrun_context():\n\u001b[0;32m-> 1397\u001b[0m             engine\u001b[38;5;241m.\u001b[39mcall_flow_fn()\n\u001b[1;32m   1399\u001b[0m \u001b[38;5;28;01mreturn\u001b[39;00m engine\u001b[38;5;241m.\u001b[39mstate \u001b[38;5;28;01mif\u001b[39;00m return_type \u001b[38;5;241m==\u001b[39m \u001b[38;5;124m\"\u001b[39m\u001b[38;5;124mstate\u001b[39m\u001b[38;5;124m\"\u001b[39m \u001b[38;5;28;01melse\u001b[39;00m engine\u001b[38;5;241m.\u001b[39mresult()\n",
      "File \u001b[0;32m/opt/anaconda3/lib/python3.12/site-packages/prefect/flow_engine.py:802\u001b[0m, in \u001b[0;36mFlowRunEngine.call_flow_fn\u001b[0;34m(self)\u001b[0m\n\u001b[1;32m    800\u001b[0m     \u001b[38;5;28;01mreturn\u001b[39;00m _call_flow_fn()\n\u001b[1;32m    801\u001b[0m \u001b[38;5;28;01melse\u001b[39;00m:\n\u001b[0;32m--> 802\u001b[0m     result \u001b[38;5;241m=\u001b[39m call_with_parameters(\u001b[38;5;28mself\u001b[39m\u001b[38;5;241m.\u001b[39mflow\u001b[38;5;241m.\u001b[39mfn, \u001b[38;5;28mself\u001b[39m\u001b[38;5;241m.\u001b[39mparameters)\n\u001b[1;32m    803\u001b[0m     \u001b[38;5;28mself\u001b[39m\u001b[38;5;241m.\u001b[39mhandle_success(result)\n",
      "File \u001b[0;32m/opt/anaconda3/lib/python3.12/site-packages/prefect/utilities/callables.py:210\u001b[0m, in \u001b[0;36mcall_with_parameters\u001b[0;34m(fn, parameters)\u001b[0m\n\u001b[1;32m    202\u001b[0m \u001b[38;5;250m\u001b[39m\u001b[38;5;124;03m\"\"\"\u001b[39;00m\n\u001b[1;32m    203\u001b[0m \u001b[38;5;124;03mCall a function with parameters extracted with `get_call_parameters`\u001b[39;00m\n\u001b[1;32m    204\u001b[0m \n\u001b[0;32m   (...)\u001b[0m\n\u001b[1;32m    207\u001b[0m \u001b[38;5;124;03mthe args/kwargs using `parameters_to_positional_and_keyword` directly\u001b[39;00m\n\u001b[1;32m    208\u001b[0m \u001b[38;5;124;03m\"\"\"\u001b[39;00m\n\u001b[1;32m    209\u001b[0m args, kwargs \u001b[38;5;241m=\u001b[39m parameters_to_args_kwargs(fn, parameters)\n\u001b[0;32m--> 210\u001b[0m \u001b[38;5;28;01mreturn\u001b[39;00m fn(\u001b[38;5;241m*\u001b[39margs, \u001b[38;5;241m*\u001b[39m\u001b[38;5;241m*\u001b[39mkwargs)\n",
      "Cell \u001b[0;32mIn[19], line 150\u001b[0m, in \u001b[0;36mchurn_pipeline\u001b[0;34m()\u001b[0m\n\u001b[1;32m    148\u001b[0m version_data(df_csv, df_feature)\n\u001b[1;32m    149\u001b[0m train_model(db_path)\n\u001b[0;32m--> 150\u001b[0m dot \u001b[38;5;241m=\u001b[39m draw_dag(dag_dependencies)\n\u001b[1;32m    151\u001b[0m \u001b[38;5;28mprint\u001b[39m(dot)\n\u001b[1;32m    152\u001b[0m \u001b[38;5;28mprint\u001b[39m(\u001b[38;5;124m\"\u001b[39m\u001b[38;5;124m✅ Pipeline complete!\u001b[39m\u001b[38;5;124m\"\u001b[39m)\n",
      "Cell \u001b[0;32mIn[19], line 66\u001b[0m, in \u001b[0;36mdraw_dag\u001b[0;34m(dependencies, title)\u001b[0m\n\u001b[1;32m     63\u001b[0m \u001b[38;5;66;03m# Save graph to folder as SVG\u001b[39;00m\n\u001b[1;32m     65\u001b[0m output_path \u001b[38;5;241m=\u001b[39m os\u001b[38;5;241m.\u001b[39mpath\u001b[38;5;241m.\u001b[39mjoin(output_folder, \u001b[38;5;124m\"\u001b[39m\u001b[38;5;124mchurn_pipeline\u001b[39m\u001b[38;5;124m\"\u001b[39m)\n\u001b[0;32m---> 66\u001b[0m dot\u001b[38;5;241m.\u001b[39mrender(output_path, cleanup\u001b[38;5;241m=\u001b[39m\u001b[38;5;28;01mTrue\u001b[39;00m)\n\u001b[1;32m     68\u001b[0m \u001b[38;5;28;01mreturn\u001b[39;00m dot\n",
      "File \u001b[0;32m/opt/anaconda3/lib/python3.12/site-packages/graphviz/_tools.py:185\u001b[0m, in \u001b[0;36mdeprecate_positional_args.<locals>.decorator.<locals>.wrapper\u001b[0;34m(*args, **kwargs)\u001b[0m\n\u001b[1;32m    177\u001b[0m     wanted \u001b[38;5;241m=\u001b[39m \u001b[38;5;124m'\u001b[39m\u001b[38;5;124m, \u001b[39m\u001b[38;5;124m'\u001b[39m\u001b[38;5;241m.\u001b[39mjoin(\u001b[38;5;124mf\u001b[39m\u001b[38;5;124m'\u001b[39m\u001b[38;5;132;01m{\u001b[39;00mname\u001b[38;5;132;01m}\u001b[39;00m\u001b[38;5;124m=\u001b[39m\u001b[38;5;132;01m{\u001b[39;00mvalue\u001b[38;5;132;01m!r}\u001b[39;00m\u001b[38;5;124m'\u001b[39m\n\u001b[1;32m    178\u001b[0m                        \u001b[38;5;28;01mfor\u001b[39;00m name, value \u001b[38;5;129;01min\u001b[39;00m deprecated\u001b[38;5;241m.\u001b[39mitems())\n\u001b[1;32m    179\u001b[0m     warnings\u001b[38;5;241m.\u001b[39mwarn(\u001b[38;5;124mf\u001b[39m\u001b[38;5;124m'\u001b[39m\u001b[38;5;124mThe signature of \u001b[39m\u001b[38;5;132;01m{\u001b[39;00mfunc_name\u001b[38;5;132;01m}\u001b[39;00m\u001b[38;5;124m will be reduced\u001b[39m\u001b[38;5;124m'\u001b[39m\n\u001b[1;32m    180\u001b[0m                   \u001b[38;5;124mf\u001b[39m\u001b[38;5;124m'\u001b[39m\u001b[38;5;124m to \u001b[39m\u001b[38;5;132;01m{\u001b[39;00msupported_number\u001b[38;5;132;01m}\u001b[39;00m\u001b[38;5;124m positional arg\u001b[39m\u001b[38;5;132;01m{\u001b[39;00ms_\u001b[38;5;132;01m}\u001b[39;00m\u001b[38;5;132;01m{\u001b[39;00mqualification\u001b[38;5;132;01m}\u001b[39;00m\u001b[38;5;124m'\u001b[39m\n\u001b[1;32m    181\u001b[0m                   \u001b[38;5;124mf\u001b[39m\u001b[38;5;124m'\u001b[39m\u001b[38;5;124m \u001b[39m\u001b[38;5;132;01m{\u001b[39;00m\u001b[38;5;28mlist\u001b[39m(supported)\u001b[38;5;132;01m}\u001b[39;00m\u001b[38;5;124m: pass \u001b[39m\u001b[38;5;132;01m{\u001b[39;00mwanted\u001b[38;5;132;01m}\u001b[39;00m\u001b[38;5;124m as keyword arg\u001b[39m\u001b[38;5;132;01m{\u001b[39;00ms_\u001b[38;5;132;01m}\u001b[39;00m\u001b[38;5;124m'\u001b[39m,\n\u001b[1;32m    182\u001b[0m                   stacklevel\u001b[38;5;241m=\u001b[39mstacklevel,\n\u001b[1;32m    183\u001b[0m                   category\u001b[38;5;241m=\u001b[39mcategory)\n\u001b[0;32m--> 185\u001b[0m \u001b[38;5;28;01mreturn\u001b[39;00m func(\u001b[38;5;241m*\u001b[39margs, \u001b[38;5;241m*\u001b[39m\u001b[38;5;241m*\u001b[39mkwargs)\n",
      "File \u001b[0;32m/opt/anaconda3/lib/python3.12/site-packages/graphviz/rendering.py:122\u001b[0m, in \u001b[0;36mRender.render\u001b[0;34m(self, filename, directory, view, cleanup, format, renderer, formatter, neato_no_op, quiet, quiet_view, outfile, engine, raise_if_result_exists, overwrite_source)\u001b[0m\n\u001b[1;32m    118\u001b[0m filepath \u001b[38;5;241m=\u001b[39m \u001b[38;5;28mself\u001b[39m\u001b[38;5;241m.\u001b[39msave(filename, directory\u001b[38;5;241m=\u001b[39mdirectory, skip_existing\u001b[38;5;241m=\u001b[39m\u001b[38;5;28;01mNone\u001b[39;00m)\n\u001b[1;32m    120\u001b[0m args\u001b[38;5;241m.\u001b[39mappend(filepath)\n\u001b[0;32m--> 122\u001b[0m rendered \u001b[38;5;241m=\u001b[39m \u001b[38;5;28mself\u001b[39m\u001b[38;5;241m.\u001b[39m_render(\u001b[38;5;241m*\u001b[39margs, \u001b[38;5;241m*\u001b[39m\u001b[38;5;241m*\u001b[39mkwargs)\n\u001b[1;32m    124\u001b[0m \u001b[38;5;28;01mif\u001b[39;00m cleanup:\n\u001b[1;32m    125\u001b[0m     log\u001b[38;5;241m.\u001b[39mdebug(\u001b[38;5;124m'\u001b[39m\u001b[38;5;124mdelete \u001b[39m\u001b[38;5;132;01m%r\u001b[39;00m\u001b[38;5;124m'\u001b[39m, filepath)\n",
      "File \u001b[0;32m/opt/anaconda3/lib/python3.12/site-packages/graphviz/_tools.py:185\u001b[0m, in \u001b[0;36mdeprecate_positional_args.<locals>.decorator.<locals>.wrapper\u001b[0;34m(*args, **kwargs)\u001b[0m\n\u001b[1;32m    177\u001b[0m     wanted \u001b[38;5;241m=\u001b[39m \u001b[38;5;124m'\u001b[39m\u001b[38;5;124m, \u001b[39m\u001b[38;5;124m'\u001b[39m\u001b[38;5;241m.\u001b[39mjoin(\u001b[38;5;124mf\u001b[39m\u001b[38;5;124m'\u001b[39m\u001b[38;5;132;01m{\u001b[39;00mname\u001b[38;5;132;01m}\u001b[39;00m\u001b[38;5;124m=\u001b[39m\u001b[38;5;132;01m{\u001b[39;00mvalue\u001b[38;5;132;01m!r}\u001b[39;00m\u001b[38;5;124m'\u001b[39m\n\u001b[1;32m    178\u001b[0m                        \u001b[38;5;28;01mfor\u001b[39;00m name, value \u001b[38;5;129;01min\u001b[39;00m deprecated\u001b[38;5;241m.\u001b[39mitems())\n\u001b[1;32m    179\u001b[0m     warnings\u001b[38;5;241m.\u001b[39mwarn(\u001b[38;5;124mf\u001b[39m\u001b[38;5;124m'\u001b[39m\u001b[38;5;124mThe signature of \u001b[39m\u001b[38;5;132;01m{\u001b[39;00mfunc_name\u001b[38;5;132;01m}\u001b[39;00m\u001b[38;5;124m will be reduced\u001b[39m\u001b[38;5;124m'\u001b[39m\n\u001b[1;32m    180\u001b[0m                   \u001b[38;5;124mf\u001b[39m\u001b[38;5;124m'\u001b[39m\u001b[38;5;124m to \u001b[39m\u001b[38;5;132;01m{\u001b[39;00msupported_number\u001b[38;5;132;01m}\u001b[39;00m\u001b[38;5;124m positional arg\u001b[39m\u001b[38;5;132;01m{\u001b[39;00ms_\u001b[38;5;132;01m}\u001b[39;00m\u001b[38;5;132;01m{\u001b[39;00mqualification\u001b[38;5;132;01m}\u001b[39;00m\u001b[38;5;124m'\u001b[39m\n\u001b[1;32m    181\u001b[0m                   \u001b[38;5;124mf\u001b[39m\u001b[38;5;124m'\u001b[39m\u001b[38;5;124m \u001b[39m\u001b[38;5;132;01m{\u001b[39;00m\u001b[38;5;28mlist\u001b[39m(supported)\u001b[38;5;132;01m}\u001b[39;00m\u001b[38;5;124m: pass \u001b[39m\u001b[38;5;132;01m{\u001b[39;00mwanted\u001b[38;5;132;01m}\u001b[39;00m\u001b[38;5;124m as keyword arg\u001b[39m\u001b[38;5;132;01m{\u001b[39;00ms_\u001b[38;5;132;01m}\u001b[39;00m\u001b[38;5;124m'\u001b[39m,\n\u001b[1;32m    182\u001b[0m                   stacklevel\u001b[38;5;241m=\u001b[39mstacklevel,\n\u001b[1;32m    183\u001b[0m                   category\u001b[38;5;241m=\u001b[39mcategory)\n\u001b[0;32m--> 185\u001b[0m \u001b[38;5;28;01mreturn\u001b[39;00m func(\u001b[38;5;241m*\u001b[39margs, \u001b[38;5;241m*\u001b[39m\u001b[38;5;241m*\u001b[39mkwargs)\n",
      "File \u001b[0;32m/opt/anaconda3/lib/python3.12/site-packages/graphviz/backend/rendering.py:326\u001b[0m, in \u001b[0;36mrender\u001b[0;34m(engine, format, filepath, renderer, formatter, neato_no_op, quiet, outfile, raise_if_result_exists, overwrite_filepath)\u001b[0m\n\u001b[1;32m    322\u001b[0m cmd \u001b[38;5;241m+\u001b[39m\u001b[38;5;241m=\u001b[39m args\n\u001b[1;32m    324\u001b[0m \u001b[38;5;28;01massert\u001b[39;00m filepath \u001b[38;5;129;01mis\u001b[39;00m \u001b[38;5;129;01mnot\u001b[39;00m \u001b[38;5;28;01mNone\u001b[39;00m, \u001b[38;5;124m'\u001b[39m\u001b[38;5;124mwork around pytype false alarm\u001b[39m\u001b[38;5;124m'\u001b[39m\n\u001b[0;32m--> 326\u001b[0m execute\u001b[38;5;241m.\u001b[39mrun_check(cmd,\n\u001b[1;32m    327\u001b[0m                   cwd\u001b[38;5;241m=\u001b[39mfilepath\u001b[38;5;241m.\u001b[39mparent \u001b[38;5;28;01mif\u001b[39;00m filepath\u001b[38;5;241m.\u001b[39mparent\u001b[38;5;241m.\u001b[39mparts \u001b[38;5;28;01melse\u001b[39;00m \u001b[38;5;28;01mNone\u001b[39;00m,\n\u001b[1;32m    328\u001b[0m                   quiet\u001b[38;5;241m=\u001b[39mquiet,\n\u001b[1;32m    329\u001b[0m                   capture_output\u001b[38;5;241m=\u001b[39m\u001b[38;5;28;01mTrue\u001b[39;00m)\n\u001b[1;32m    331\u001b[0m \u001b[38;5;28;01mreturn\u001b[39;00m os\u001b[38;5;241m.\u001b[39mfspath(outfile)\n",
      "File \u001b[0;32m/opt/anaconda3/lib/python3.12/site-packages/graphviz/backend/execute.py:81\u001b[0m, in \u001b[0;36mrun_check\u001b[0;34m(cmd, input_lines, encoding, quiet, **kwargs)\u001b[0m\n\u001b[1;32m     79\u001b[0m \u001b[38;5;28;01mexcept\u001b[39;00m \u001b[38;5;167;01mOSError\u001b[39;00m \u001b[38;5;28;01mas\u001b[39;00m e:\n\u001b[1;32m     80\u001b[0m     \u001b[38;5;28;01mif\u001b[39;00m e\u001b[38;5;241m.\u001b[39merrno \u001b[38;5;241m==\u001b[39m errno\u001b[38;5;241m.\u001b[39mENOENT:\n\u001b[0;32m---> 81\u001b[0m         \u001b[38;5;28;01mraise\u001b[39;00m ExecutableNotFound(cmd) \u001b[38;5;28;01mfrom\u001b[39;00m \u001b[38;5;21;01me\u001b[39;00m\n\u001b[1;32m     82\u001b[0m     \u001b[38;5;28;01mraise\u001b[39;00m\n\u001b[1;32m     84\u001b[0m \u001b[38;5;28;01mif\u001b[39;00m \u001b[38;5;129;01mnot\u001b[39;00m quiet \u001b[38;5;129;01mand\u001b[39;00m proc\u001b[38;5;241m.\u001b[39mstderr:\n",
      "\u001b[0;31mExecutableNotFound\u001b[0m: failed to execute PosixPath('dot'), make sure the Graphviz executables are on your systems' PATH"
     ]
    }
   ],
   "source": [
    "import importlib\n",
    "import dataingestion.DataIngestion\n",
    "import datastorage.DataStorage\n",
    "import datavalidation.DataValidation\n",
    "import datapreparation.DataPreparation\n",
    "import datatransformationandstorage.DataTransformationAndStorage\n",
    "import featurestore.FeatureStore\n",
    "import dataversioning.DataVersioning\n",
    "import modelbuild.ModelBuild\n",
    "import os\n",
    "importlib.reload(dataingestion.DataIngestion)\n",
    "importlib.reload(datastorage.DataStorage)\n",
    "importlib.reload(datavalidation.DataValidation)\n",
    "importlib.reload(datapreparation.DataPreparation)\n",
    "importlib.reload(datatransformationandstorage.DataTransformationAndStorage)\n",
    "importlib.reload(featurestore.FeatureStore)\n",
    "importlib.reload(dataversioning.DataVersioning)\n",
    "importlib.reload(modelbuild.ModelBuild)\n",
    "\n",
    "\n",
    "from prefect import task, flow, get_run_logger\n",
    "from prefect.tasks import Task\n",
    "from dataingestion.DataIngestion import load_csv, load_api, load_db\n",
    "from datastorage.DataStorage import save_csv_or_db, save_api\n",
    "from datavalidation.DataValidation import validate_churn_data\n",
    "from datapreparation.DataPreparation import preprocess_and_eda\n",
    "from datatransformationandstorage.DataTransformationAndStorage import transform_and_store\n",
    "from featurestore.FeatureStore  import create_feature_store, sample_feature_queries\n",
    "from dataversioning.DataVersioning import save_and_version_both\n",
    "from modelbuild.ModelBuild import run_training\n",
    "import sqlite3  \n",
    "from graphviz import Digraph\n",
    "import os\n",
    "Digraph.format = \"png\"   # ensures inline rendering\n",
    "\n",
    "\n",
    "# Define dependencies between tasks\n",
    "dag_dependencies = {\n",
    "    \"ingest_data\": [\"store_data\", \"validate_data\", \"prepare_data\"],\n",
    "    \"prepare_data\": [\"transform_data\"],\n",
    "    \"transform_data\": [\"build_feature_store\"],\n",
    "    \"build_feature_store\": [\"train_model\", \"version_data\"]\n",
    "}\n",
    "\n",
    "\n",
    "\n",
    "def draw_dag(dependencies, title=\"Churn ML Pipeline\"):\n",
    "    dot = Digraph(comment=title, format=\"png\")\n",
    "\n",
    "    # Add all tasks as nodes\n",
    "    tasks = set(dependencies.keys()) | {t for deps in dependencies.values() for t in deps}\n",
    "    for task in tasks:\n",
    "        dot.node(task, task)\n",
    "\n",
    "    # Add edges\n",
    "    for parent, children in dependencies.items():\n",
    "        for child in children:\n",
    "            dot.edge(parent, child)\n",
    "\n",
    "    output_folder = \"results\"\n",
    "    os.makedirs(output_folder, exist_ok=True)  # Create folder if it doesn't exist\n",
    "\n",
    "    # Save graph to folder as SVG\n",
    "   \n",
    "    output_path = os.path.join(output_folder, \"churn_pipeline\")\n",
    "    dot.render(output_path, cleanup=True)\n",
    "\n",
    "    return dot\n",
    "    \n",
    "@task\n",
    "def ingest_data():\n",
    "    logger = get_run_logger()\n",
    "    csv_url = \"https://synapseaisolutionsa.z13.web.core.windows.net/data/bankcustomerchurn/churn.csv\"\n",
    "    logger.info(f\"📥 Ingesting data from {csv_url}\")\n",
    "    df_csv = load_csv(csv_url, csv_url)\n",
    "    logger.info(f\"✅ Data ingestion complete. Shape: {df_csv.shape}\")\n",
    "    return df_csv\n",
    "\n",
    "@task\n",
    "def store_data(df_csv):\n",
    "    logger = get_run_logger()\n",
    "    base_dir = \"results/store_data\"\n",
    "    save_csv_or_db(df_csv, base_dir, \"csv\")\n",
    "    logger.info(f\"✅ Data stored at {base_dir}\")\n",
    "    return base_dir\n",
    "\n",
    "@task\n",
    "def validate_data(df_csv):\n",
    "    logger = get_run_logger()\n",
    "    base_dir = \"results/validate_data_reports\"\n",
    "    issues, metadata = validate_churn_data(df_csv, base_dir, \"pdf\")\n",
    "    logger.info(f\"🔍 Validation complete. Issues: {len(issues)} Metadata: {metadata}\")\n",
    "    return issues, metadata\n",
    "\n",
    "@task\n",
    "def prepare_data(df_csv):\n",
    "    logger = get_run_logger()\n",
    "    base_dir = \"results/prepared_data\"\n",
    "    df_processed = preprocess_and_eda(df_csv, base_dir)\n",
    "    logger.info(f\"✅ Data preparation complete. Shape: {df_processed.shape}\")\n",
    "    return df_processed\n",
    "\n",
    "@task\n",
    "def transform_data(df_processed):\n",
    "    logger = get_run_logger()\n",
    "    base_dir = \"results/transformation_and_storage\"\n",
    "    df_txfnstr = transform_and_store(df_processed, base_dir, \"churn\")\n",
    "    logger.info(f\"✅ Data transformation complete. Shape: {df_txfnstr.shape}\")\n",
    "    return df_txfnstr\n",
    "\n",
    "@task\n",
    "def build_feature_store(df_txfnstr):\n",
    "    logger = get_run_logger()\n",
    "    base_path = \"results/featurestore\"\n",
    "    df_feature, conn, db_path = create_feature_store(df_txfnstr, base_path)\n",
    "    sample_feature_queries(conn, base_path)\n",
    "    logger.info(f\"✅ Feature store created at {base_path}, DB path: {db_path}\")\n",
    "    return df_feature, db_path\n",
    "\n",
    "@task\n",
    "def version_data(df_csv, df_feature):\n",
    "    logger = get_run_logger()\n",
    "    save_and_version_both(\n",
    "        df_csv,\n",
    "        df_feature,\n",
    "        \"results/dataversion/churn_raw.csv\",\n",
    "        \"results/dataversion/churn_transformed_v1.csv\",\n",
    "        \"churn_raw\",\n",
    "        \"Pipeline_runnning_updates\"\n",
    "    )\n",
    "    logger.info(\"✅ Data versioning complete.\")\n",
    "\n",
    "@task\n",
    "def train_model(db_path):\n",
    "    logger = get_run_logger()\n",
    "    run_training(db_path)\n",
    "    logger.info(\"✅ Model training complete.\")\n",
    "\n",
    "\n",
    "@flow(name=\"Churn ML Pipeline Orchestration\")\n",
    "def churn_pipeline():\n",
    "    df_csv = ingest_data()\n",
    "    store_data(df_csv)\n",
    "    validate_data(df_csv)\n",
    "    df_processed = prepare_data(df_csv)\n",
    "    df_txfnstr = transform_data(df_processed)\n",
    "    df_feature, db_path = build_feature_store(df_txfnstr)\n",
    "    version_data(df_csv, df_feature)\n",
    "    train_model(db_path)\n",
    "    dot = draw_dag(dag_dependencies)\n",
    "    print(dot)\n",
    "    print(\"✅ Pipeline complete!\")\n",
    "\n",
    "# Draw DAG\n",
    "   \n",
    "\n",
    "\n",
    "\n",
    "\n",
    "\n",
    "if __name__ == \"__main__\":\n",
    "    churn_pipeline()"
   ]
  },
  {
   "cell_type": "code",
   "execution_count": null,
   "id": "dd442d81-f6a4-41af-845e-fe19a69843b9",
   "metadata": {},
   "outputs": [],
   "source": []
  }
 ],
 "metadata": {
  "kernelspec": {
   "display_name": "Python 3 (ipykernel)",
   "language": "python",
   "name": "python3"
  },
  "language_info": {
   "codemirror_mode": {
    "name": "ipython",
    "version": 3
   },
   "file_extension": ".py",
   "mimetype": "text/x-python",
   "name": "python",
   "nbconvert_exporter": "python",
   "pygments_lexer": "ipython3",
   "version": "3.12.7"
  }
 },
 "nbformat": 4,
 "nbformat_minor": 5
}
