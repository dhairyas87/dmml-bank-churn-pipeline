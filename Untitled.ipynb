{
 "cells": [
  {
   "cell_type": "code",
   "execution_count": 6,
   "id": "035ededa-a01a-402c-9bc3-18bb1cac1f45",
   "metadata": {},
   "outputs": [
    {
     "data": {
      "text/html": [
       "<pre style=\"white-space:pre;overflow-x:auto;line-height:normal;font-family:Menlo,'DejaVu Sans Mono',consolas,'Courier New',monospace\">23:36:27.683 | <span style=\"color: #008080; text-decoration-color: #008080\">INFO</span>    | Flow run<span style=\"color: #800080; text-decoration-color: #800080\"> 'unselfish-limpet'</span> - Beginning flow run<span style=\"color: #800080; text-decoration-color: #800080\"> 'unselfish-limpet'</span> for flow<span style=\"color: #800080; text-decoration-color: #800080; font-weight: bold\"> 'Churn ML Pipeline Orchestration'</span>\n",
       "</pre>\n"
      ],
      "text/plain": [
       "23:36:27.683 | \u001b[36mINFO\u001b[0m    | Flow run\u001b[35m 'unselfish-limpet'\u001b[0m - Beginning flow run\u001b[35m 'unselfish-limpet'\u001b[0m for flow\u001b[1;35m 'Churn ML Pipeline Orchestration'\u001b[0m\n"
      ]
     },
     "metadata": {},
     "output_type": "display_data"
    },
    {
     "data": {
      "text/html": [
       "<pre style=\"white-space:pre;overflow-x:auto;line-height:normal;font-family:Menlo,'DejaVu Sans Mono',consolas,'Courier New',monospace\">23:36:27.702 | <span style=\"color: #008080; text-decoration-color: #008080\">INFO</span>    | Task run 'ingest_data-dfc' - 📥 Ingesting data from <span style=\"color: #0000ff; text-decoration-color: #0000ff\">https://synapseaisolutionsa.z13.web.core.windows.net/data/bankcustomerchurn/churn.csv</span>\n",
       "</pre>\n"
      ],
      "text/plain": [
       "23:36:27.702 | \u001b[36mINFO\u001b[0m    | Task run 'ingest_data-dfc' - 📥 Ingesting data from \u001b[94mhttps://synapseaisolutionsa.z13.web.core.windows.net/data/bankcustomerchurn/churn.csv\u001b[0m\n"
      ]
     },
     "metadata": {},
     "output_type": "display_data"
    },
    {
     "data": {
      "text/html": [
       "<pre style=\"white-space:pre;overflow-x:auto;line-height:normal;font-family:Menlo,'DejaVu Sans Mono',consolas,'Courier New',monospace\">23:36:29.657 | <span style=\"color: #008080; text-decoration-color: #008080\">INFO</span>    | Task run 'ingest_data-dfc' - ✅ Data ingestion complete. Shape: (10000, 14)\n",
       "</pre>\n"
      ],
      "text/plain": [
       "23:36:29.657 | \u001b[36mINFO\u001b[0m    | Task run 'ingest_data-dfc' - ✅ Data ingestion complete. Shape: (10000, 14)\n"
      ]
     },
     "metadata": {},
     "output_type": "display_data"
    },
    {
     "data": {
      "text/html": [
       "<pre style=\"white-space:pre;overflow-x:auto;line-height:normal;font-family:Menlo,'DejaVu Sans Mono',consolas,'Courier New',monospace\">23:36:29.662 | <span style=\"color: #008080; text-decoration-color: #008080\">INFO</span>    | Task run 'ingest_data-dfc' - Finished in state <span style=\"color: #008000; text-decoration-color: #008000\">Completed</span>()\n",
       "</pre>\n"
      ],
      "text/plain": [
       "23:36:29.662 | \u001b[36mINFO\u001b[0m    | Task run 'ingest_data-dfc' - Finished in state \u001b[32mCompleted\u001b[0m()\n"
      ]
     },
     "metadata": {},
     "output_type": "display_data"
    },
    {
     "data": {
      "text/html": [
       "<pre style=\"white-space:pre;overflow-x:auto;line-height:normal;font-family:Menlo,'DejaVu Sans Mono',consolas,'Courier New',monospace\">23:36:29.728 | <span style=\"color: #008080; text-decoration-color: #008080\">INFO</span>    | Task run 'store_data-ca6' - ✅ Data stored at datastorage\n",
       "</pre>\n"
      ],
      "text/plain": [
       "23:36:29.728 | \u001b[36mINFO\u001b[0m    | Task run 'store_data-ca6' - ✅ Data stored at datastorage\n"
      ]
     },
     "metadata": {},
     "output_type": "display_data"
    },
    {
     "data": {
      "text/html": [
       "<pre style=\"white-space:pre;overflow-x:auto;line-height:normal;font-family:Menlo,'DejaVu Sans Mono',consolas,'Courier New',monospace\">23:36:29.730 | <span style=\"color: #008080; text-decoration-color: #008080\">INFO</span>    | Task run 'store_data-ca6' - Finished in state <span style=\"color: #008000; text-decoration-color: #008000\">Completed</span>()\n",
       "</pre>\n"
      ],
      "text/plain": [
       "23:36:29.730 | \u001b[36mINFO\u001b[0m    | Task run 'store_data-ca6' - Finished in state \u001b[32mCompleted\u001b[0m()\n"
      ]
     },
     "metadata": {},
     "output_type": "display_data"
    },
    {
     "data": {
      "text/html": [
       "<pre style=\"white-space:pre;overflow-x:auto;line-height:normal;font-family:Menlo,'DejaVu Sans Mono',consolas,'Courier New',monospace\">23:36:29.754 | <span style=\"color: #d7d700; text-decoration-color: #d7d700\">WARNING</span> | root - EstimatedSalary anomalies detected: 10 rows\n",
       "</pre>\n"
      ],
      "text/plain": [
       "23:36:29.754 | \u001b[38;5;184mWARNING\u001b[0m | root - EstimatedSalary anomalies detected: 10 rows\n"
      ]
     },
     "metadata": {},
     "output_type": "display_data"
    },
    {
     "data": {
      "text/html": [
       "<pre style=\"white-space:pre;overflow-x:auto;line-height:normal;font-family:Menlo,'DejaVu Sans Mono',consolas,'Courier New',monospace\">23:36:29.767 | <span style=\"color: #008080; text-decoration-color: #008080\">INFO</span>    | Task run 'validate_data-d4c' - 🔍 Validation complete. Issues: 1 Metadata: {'missing_values': {'RowNumber': 0, 'CustomerId': 0, 'Surname': 0, 'CreditScore': 0, 'Geography': 0, 'Gender': 0, 'Age': 0, 'Tenure': 0, 'Balance': 0, 'NumOfProducts': 0, 'HasCrCard': 0, 'IsActiveMember': 0, 'EstimatedSalary': 0, 'Exited': 0}, 'duplicate_rows': 0, 'data_types': {'RowNumber': 'int64', 'CustomerId': 'int64', 'Surname': 'object', 'CreditScore': 'int64', 'Geography': 'object', 'Gender': 'object', 'Age': 'int64', 'Tenure': 'int64', 'Balance': 'float64', 'NumOfProducts': 'int64', 'HasCrCard': 'int64', 'IsActiveMember': 'int64', 'EstimatedSalary': 'float64', 'Exited': 'int64'}, 'numeric_summary': {'RowNumber': {'count': 10000.0, 'mean': 5000.5, 'std': 2886.8956799071675, 'min': 1.0, '25%': 2500.75, '50%': 5000.5, '75%': 7500.25, 'max': 10000.0}, 'CustomerId': {'count': 10000.0, 'mean': 15690940.5694, 'std': 71936.18612274883, 'min': 15565701.0, '25%': 15628528.25, '50%': 15690738.0, '75%': 15753233.75, 'max': 15815690.0}, 'CreditScore': {'count': 10000.0, 'mean': 650.5288, 'std': 96.65329873613061, 'min': 350.0, '25%': 584.0, '50%': 652.0, '75%': 718.0, 'max': 850.0}, 'Age': {'count': 10000.0, 'mean': 38.9218, 'std': 10.487806451704591, 'min': 18.0, '25%': 32.0, '50%': 37.0, '75%': 44.0, 'max': 92.0}, 'Tenure': {'count': 10000.0, 'mean': 5.0128, 'std': 2.892174377049708, 'min': 0.0, '25%': 3.0, '50%': 5.0, '75%': 7.0, 'max': 10.0}, 'Balance': {'count': 10000.0, 'mean': 76485.889288, 'std': 62397.40520238623, 'min': 0.0, '25%': 0.0, '50%': 97198.54000000001, '75%': 127644.24, 'max': 250898.09}, 'NumOfProducts': {'count': 10000.0, 'mean': 1.5302, 'std': 0.5816543579989936, 'min': 1.0, '25%': 1.0, '50%': 1.0, '75%': 2.0, 'max': 4.0}, 'HasCrCard': {'count': 10000.0, 'mean': 0.7055, 'std': 0.45584046447514237, 'min': 0.0, '25%': 0.0, '50%': 1.0, '75%': 1.0, 'max': 1.0}, 'IsActiveMember': {'count': 10000.0, 'mean': 0.5151, 'std': 0.4997969284589202, 'min': 0.0, '25%': 0.0, '50%': 1.0, '75%': 1.0, 'max': 1.0}, 'EstimatedSalary': {'count': 10000.0, 'mean': 100090.239881, 'std': 57510.49281769822, 'min': 11.58, '25%': 51002.11, '50%': 100193.915, '75%': 149388.2475, 'max': 199992.48}, 'Exited': {'count': 10000.0, 'mean': 0.2037, 'std': 0.40276858399484955, 'min': 0.0, '25%': 0.0, '50%': 0.0, '75%': 0.0, 'max': 1.0}}}\n",
       "</pre>\n"
      ],
      "text/plain": [
       "23:36:29.767 | \u001b[36mINFO\u001b[0m    | Task run 'validate_data-d4c' - 🔍 Validation complete. Issues: 1 Metadata: {'missing_values': {'RowNumber': 0, 'CustomerId': 0, 'Surname': 0, 'CreditScore': 0, 'Geography': 0, 'Gender': 0, 'Age': 0, 'Tenure': 0, 'Balance': 0, 'NumOfProducts': 0, 'HasCrCard': 0, 'IsActiveMember': 0, 'EstimatedSalary': 0, 'Exited': 0}, 'duplicate_rows': 0, 'data_types': {'RowNumber': 'int64', 'CustomerId': 'int64', 'Surname': 'object', 'CreditScore': 'int64', 'Geography': 'object', 'Gender': 'object', 'Age': 'int64', 'Tenure': 'int64', 'Balance': 'float64', 'NumOfProducts': 'int64', 'HasCrCard': 'int64', 'IsActiveMember': 'int64', 'EstimatedSalary': 'float64', 'Exited': 'int64'}, 'numeric_summary': {'RowNumber': {'count': 10000.0, 'mean': 5000.5, 'std': 2886.8956799071675, 'min': 1.0, '25%': 2500.75, '50%': 5000.5, '75%': 7500.25, 'max': 10000.0}, 'CustomerId': {'count': 10000.0, 'mean': 15690940.5694, 'std': 71936.18612274883, 'min': 15565701.0, '25%': 15628528.25, '50%': 15690738.0, '75%': 15753233.75, 'max': 15815690.0}, 'CreditScore': {'count': 10000.0, 'mean': 650.5288, 'std': 96.65329873613061, 'min': 350.0, '25%': 584.0, '50%': 652.0, '75%': 718.0, 'max': 850.0}, 'Age': {'count': 10000.0, 'mean': 38.9218, 'std': 10.487806451704591, 'min': 18.0, '25%': 32.0, '50%': 37.0, '75%': 44.0, 'max': 92.0}, 'Tenure': {'count': 10000.0, 'mean': 5.0128, 'std': 2.892174377049708, 'min': 0.0, '25%': 3.0, '50%': 5.0, '75%': 7.0, 'max': 10.0}, 'Balance': {'count': 10000.0, 'mean': 76485.889288, 'std': 62397.40520238623, 'min': 0.0, '25%': 0.0, '50%': 97198.54000000001, '75%': 127644.24, 'max': 250898.09}, 'NumOfProducts': {'count': 10000.0, 'mean': 1.5302, 'std': 0.5816543579989936, 'min': 1.0, '25%': 1.0, '50%': 1.0, '75%': 2.0, 'max': 4.0}, 'HasCrCard': {'count': 10000.0, 'mean': 0.7055, 'std': 0.45584046447514237, 'min': 0.0, '25%': 0.0, '50%': 1.0, '75%': 1.0, 'max': 1.0}, 'IsActiveMember': {'count': 10000.0, 'mean': 0.5151, 'std': 0.4997969284589202, 'min': 0.0, '25%': 0.0, '50%': 1.0, '75%': 1.0, 'max': 1.0}, 'EstimatedSalary': {'count': 10000.0, 'mean': 100090.239881, 'std': 57510.49281769822, 'min': 11.58, '25%': 51002.11, '50%': 100193.915, '75%': 149388.2475, 'max': 199992.48}, 'Exited': {'count': 10000.0, 'mean': 0.2037, 'std': 0.40276858399484955, 'min': 0.0, '25%': 0.0, '50%': 0.0, '75%': 0.0, 'max': 1.0}}}\n"
      ]
     },
     "metadata": {},
     "output_type": "display_data"
    },
    {
     "data": {
      "text/html": [
       "<pre style=\"white-space:pre;overflow-x:auto;line-height:normal;font-family:Menlo,'DejaVu Sans Mono',consolas,'Courier New',monospace\">23:36:29.769 | <span style=\"color: #008080; text-decoration-color: #008080\">INFO</span>    | Task run 'validate_data-d4c' - Finished in state <span style=\"color: #008000; text-decoration-color: #008000\">Completed</span>()\n",
       "</pre>\n"
      ],
      "text/plain": [
       "23:36:29.769 | \u001b[36mINFO\u001b[0m    | Task run 'validate_data-d4c' - Finished in state \u001b[32mCompleted\u001b[0m()\n"
      ]
     },
     "metadata": {},
     "output_type": "display_data"
    },
    {
     "data": {
      "text/html": [
       "<pre style=\"white-space:pre;overflow-x:auto;line-height:normal;font-family:Menlo,'DejaVu Sans Mono',consolas,'Courier New',monospace\">23:36:30.725 | <span style=\"color: #008080; text-decoration-color: #008080\">INFO</span>    | Task run 'prepare_data-91d' - ✅ Data preparation complete. Shape: (10000, 14)\n",
       "</pre>\n"
      ],
      "text/plain": [
       "23:36:30.725 | \u001b[36mINFO\u001b[0m    | Task run 'prepare_data-91d' - ✅ Data preparation complete. Shape: (10000, 14)\n"
      ]
     },
     "metadata": {},
     "output_type": "display_data"
    },
    {
     "data": {
      "text/html": [
       "<pre style=\"white-space:pre;overflow-x:auto;line-height:normal;font-family:Menlo,'DejaVu Sans Mono',consolas,'Courier New',monospace\">23:36:30.727 | <span style=\"color: #008080; text-decoration-color: #008080\">INFO</span>    | Task run 'prepare_data-91d' - Finished in state <span style=\"color: #008000; text-decoration-color: #008000\">Completed</span>()\n",
       "</pre>\n"
      ],
      "text/plain": [
       "23:36:30.727 | \u001b[36mINFO\u001b[0m    | Task run 'prepare_data-91d' - Finished in state \u001b[32mCompleted\u001b[0m()\n"
      ]
     },
     "metadata": {},
     "output_type": "display_data"
    },
    {
     "data": {
      "text/html": [
       "<pre style=\"white-space:pre;overflow-x:auto;line-height:normal;font-family:Menlo,'DejaVu Sans Mono',consolas,'Courier New',monospace\">23:36:30.785 | <span style=\"color: #008080; text-decoration-color: #008080\">INFO</span>    | Task run 'transform_data-e32' - ✅ Data transformation complete. Shape: (10000, 15)\n",
       "</pre>\n"
      ],
      "text/plain": [
       "23:36:30.785 | \u001b[36mINFO\u001b[0m    | Task run 'transform_data-e32' - ✅ Data transformation complete. Shape: (10000, 15)\n"
      ]
     },
     "metadata": {},
     "output_type": "display_data"
    },
    {
     "data": {
      "text/html": [
       "<pre style=\"white-space:pre;overflow-x:auto;line-height:normal;font-family:Menlo,'DejaVu Sans Mono',consolas,'Courier New',monospace\">23:36:30.787 | <span style=\"color: #008080; text-decoration-color: #008080\">INFO</span>    | Task run 'transform_data-e32' - Finished in state <span style=\"color: #008000; text-decoration-color: #008000\">Completed</span>()\n",
       "</pre>\n"
      ],
      "text/plain": [
       "23:36:30.787 | \u001b[36mINFO\u001b[0m    | Task run 'transform_data-e32' - Finished in state \u001b[32mCompleted\u001b[0m()\n"
      ]
     },
     "metadata": {},
     "output_type": "display_data"
    },
    {
     "data": {
      "text/html": [
       "<pre style=\"white-space:pre;overflow-x:auto;line-height:normal;font-family:Menlo,'DejaVu Sans Mono',consolas,'Courier New',monospace\">23:36:30.841 | <span style=\"color: #008080; text-decoration-color: #008080\">INFO</span>    | Task run 'build_feature_store-b30' - ✅ Feature store created at featurestore/featurestore, DB path: featurestore/featurestore/feature_store.db\n",
       "</pre>\n"
      ],
      "text/plain": [
       "23:36:30.841 | \u001b[36mINFO\u001b[0m    | Task run 'build_feature_store-b30' - ✅ Feature store created at featurestore/featurestore, DB path: featurestore/featurestore/feature_store.db\n"
      ]
     },
     "metadata": {},
     "output_type": "display_data"
    },
    {
     "data": {
      "text/html": [
       "<pre style=\"white-space:pre;overflow-x:auto;line-height:normal;font-family:Menlo,'DejaVu Sans Mono',consolas,'Courier New',monospace\">23:36:30.843 | <span style=\"color: #008080; text-decoration-color: #008080\">INFO</span>    | Task run 'build_feature_store-b30' - Finished in state <span style=\"color: #008000; text-decoration-color: #008000\">Completed</span>()\n",
       "</pre>\n"
      ],
      "text/plain": [
       "23:36:30.843 | \u001b[36mINFO\u001b[0m    | Task run 'build_feature_store-b30' - Finished in state \u001b[32mCompleted\u001b[0m()\n"
      ]
     },
     "metadata": {},
     "output_type": "display_data"
    },
    {
     "name": "stdout",
     "output_type": "stream",
     "text": [
      "[main b8b75bf] Dataset update: churn_raw.csv (raw + transformed) - Changes_Commited\n",
      " 14 files changed, 10317 insertions(+), 142 deletions(-)\n",
      " create mode 100644 datapreparation/prepared/cleaned_data_20250823_233630.csv\n",
      " create mode 100644 datapreparation/prepared/eda_report_20250823_233629.pdf\n",
      " create mode 100644 datatransformationandstorage/transformationandstorage/schema_design_20250823_233630.sql\n",
      " create mode 100644 datavalidation/reports/churn_data_issues_20250823_233629.csv\n",
      " create mode 100644 datavalidation/reports/churn_data_metadata_20250823_233629.csv\n",
      " create mode 100644 datavalidation/reports/churn_data_report_20250823_233629.pdf\n",
      "[main 94d0a01] Update version metadata for churn_raw.csv\n",
      " 1 file changed, 10 insertions(+)\n"
     ]
    },
    {
     "name": "stderr",
     "output_type": "stream",
     "text": [
      "From https://github.com/dhairyas87/dmml-bank-churn-pipeline\n",
      " * branch            main       -> FETCH_HEAD\n"
     ]
    },
    {
     "name": "stdout",
     "output_type": "stream",
     "text": [
      "Current branch main is up to date.\n",
      "✅ Raw + Transformed datasets for churn_raw.csv saved, versioned, and pushed under commit b8b75bf4787d933959e2f52484a327225bef4bda\n"
     ]
    },
    {
     "name": "stderr",
     "output_type": "stream",
     "text": [
      "To https://github.com/dhairyas87/dmml-bank-churn-pipeline.git\n",
      "   5691a28..94d0a01  main -> main\n"
     ]
    },
    {
     "data": {
      "text/html": [
       "<pre style=\"white-space:pre;overflow-x:auto;line-height:normal;font-family:Menlo,'DejaVu Sans Mono',consolas,'Courier New',monospace\">23:36:33.611 | <span style=\"color: #008080; text-decoration-color: #008080\">INFO</span>    | Task run 'version_data-7cf' - ✅ Data versioning complete.\n",
       "</pre>\n"
      ],
      "text/plain": [
       "23:36:33.611 | \u001b[36mINFO\u001b[0m    | Task run 'version_data-7cf' - ✅ Data versioning complete.\n"
      ]
     },
     "metadata": {},
     "output_type": "display_data"
    },
    {
     "data": {
      "text/html": [
       "<pre style=\"white-space:pre;overflow-x:auto;line-height:normal;font-family:Menlo,'DejaVu Sans Mono',consolas,'Courier New',monospace\">23:36:33.623 | <span style=\"color: #008080; text-decoration-color: #008080\">INFO</span>    | Task run 'version_data-7cf' - Finished in state <span style=\"color: #008000; text-decoration-color: #008000\">Completed</span>()\n",
       "</pre>\n"
      ],
      "text/plain": [
       "23:36:33.623 | \u001b[36mINFO\u001b[0m    | Task run 'version_data-7cf' - Finished in state \u001b[32mCompleted\u001b[0m()\n"
      ]
     },
     "metadata": {},
     "output_type": "display_data"
    },
    {
     "name": "stdout",
     "output_type": "stream",
     "text": [
      "✅ Training complete with engineered features.\n",
      "📂 Deliverables: models/, data/model_results.txt, data/model_versions.json\n"
     ]
    },
    {
     "data": {
      "text/html": [
       "<pre style=\"white-space:pre;overflow-x:auto;line-height:normal;font-family:Menlo,'DejaVu Sans Mono',consolas,'Courier New',monospace\">23:36:40.573 | <span style=\"color: #008080; text-decoration-color: #008080\">INFO</span>    | Task run 'train_model-5a1' - ✅ Model training complete.\n",
       "</pre>\n"
      ],
      "text/plain": [
       "23:36:40.573 | \u001b[36mINFO\u001b[0m    | Task run 'train_model-5a1' - ✅ Model training complete.\n"
      ]
     },
     "metadata": {},
     "output_type": "display_data"
    },
    {
     "data": {
      "text/html": [
       "<pre style=\"white-space:pre;overflow-x:auto;line-height:normal;font-family:Menlo,'DejaVu Sans Mono',consolas,'Courier New',monospace\">23:36:40.577 | <span style=\"color: #008080; text-decoration-color: #008080\">INFO</span>    | Task run 'train_model-5a1' - Finished in state <span style=\"color: #008000; text-decoration-color: #008000\">Completed</span>()\n",
       "</pre>\n"
      ],
      "text/plain": [
       "23:36:40.577 | \u001b[36mINFO\u001b[0m    | Task run 'train_model-5a1' - Finished in state \u001b[32mCompleted\u001b[0m()\n"
      ]
     },
     "metadata": {},
     "output_type": "display_data"
    },
    {
     "name": "stdout",
     "output_type": "stream",
     "text": [
      "✅ Pipeline complete!\n"
     ]
    },
    {
     "data": {
      "text/html": [
       "<pre style=\"white-space:pre;overflow-x:auto;line-height:normal;font-family:Menlo,'DejaVu Sans Mono',consolas,'Courier New',monospace\">23:36:40.596 | <span style=\"color: #008080; text-decoration-color: #008080\">INFO</span>    | Flow run<span style=\"color: #800080; text-decoration-color: #800080\"> 'unselfish-limpet'</span> - Finished in state <span style=\"color: #008000; text-decoration-color: #008000\">Completed</span>()\n",
       "</pre>\n"
      ],
      "text/plain": [
       "23:36:40.596 | \u001b[36mINFO\u001b[0m    | Flow run\u001b[35m 'unselfish-limpet'\u001b[0m - Finished in state \u001b[32mCompleted\u001b[0m()\n"
      ]
     },
     "metadata": {},
     "output_type": "display_data"
    },
    {
     "ename": "TypeError",
     "evalue": "'NoneType' object is not iterable",
     "output_type": "error",
     "traceback": [
      "\u001b[0;31m---------------------------------------------------------------------------\u001b[0m",
      "\u001b[0;31mTypeError\u001b[0m                                 Traceback (most recent call last)",
      "Cell \u001b[0;32mIn[6], line 133\u001b[0m\n\u001b[1;32m    129\u001b[0m     train_model(db_path)\n\u001b[1;32m    131\u001b[0m     \u001b[38;5;28mprint\u001b[39m(\u001b[38;5;124m\"\u001b[39m\u001b[38;5;124m✅ Pipeline complete!\u001b[39m\u001b[38;5;124m\"\u001b[39m)\n\u001b[0;32m--> 133\u001b[0m visualize_flow(churn_pipeline)\n\u001b[1;32m    136\u001b[0m \u001b[38;5;28;01mif\u001b[39;00m \u001b[38;5;18m__name__\u001b[39m \u001b[38;5;241m==\u001b[39m \u001b[38;5;124m\"\u001b[39m\u001b[38;5;124m__main__\u001b[39m\u001b[38;5;124m\"\u001b[39m:\n\u001b[1;32m    137\u001b[0m     churn_pipeline()\n",
      "Cell \u001b[0;32mIn[6], line 41\u001b[0m, in \u001b[0;36mvisualize_flow\u001b[0;34m(flow_func)\u001b[0m\n\u001b[1;32m     38\u001b[0m dot \u001b[38;5;241m=\u001b[39m Digraph(comment\u001b[38;5;241m=\u001b[39m\u001b[38;5;124m\"\u001b[39m\u001b[38;5;124mPrefect Flow DAG\u001b[39m\u001b[38;5;124m\"\u001b[39m, \u001b[38;5;28mformat\u001b[39m\u001b[38;5;241m=\u001b[39m\u001b[38;5;124m\"\u001b[39m\u001b[38;5;124mpng\u001b[39m\u001b[38;5;124m\"\u001b[39m)\n\u001b[1;32m     40\u001b[0m \u001b[38;5;66;03m# Collect dependencies manually\u001b[39;00m\n\u001b[0;32m---> 41\u001b[0m \u001b[38;5;28;01mfor\u001b[39;00m fut \u001b[38;5;129;01min\u001b[39;00m futures:\n\u001b[1;32m     42\u001b[0m     \u001b[38;5;28;01mif\u001b[39;00m \u001b[38;5;28mhasattr\u001b[39m(fut, \u001b[38;5;124m\"\u001b[39m\u001b[38;5;124mname\u001b[39m\u001b[38;5;124m\"\u001b[39m):\n\u001b[1;32m     43\u001b[0m         dot\u001b[38;5;241m.\u001b[39mnode(fut\u001b[38;5;241m.\u001b[39mname, fut\u001b[38;5;241m.\u001b[39mname)\n",
      "\u001b[0;31mTypeError\u001b[0m: 'NoneType' object is not iterable"
     ]
    }
   ],
   "source": [
    "import importlib\n",
    "import dataingestion.DataIngestion\n",
    "import datastorage.DataStorage\n",
    "import datavalidation.DataValidation\n",
    "import datapreparation.DataPreparation\n",
    "import datatransformationandstorage.DataTransformationAndStorage\n",
    "import featurestore.FeatureStore\n",
    "import dataversioning.DataVersioning\n",
    "import modelbuild.ModelBuild\n",
    "\n",
    "importlib.reload(dataingestion.DataIngestion)\n",
    "importlib.reload(datastorage.DataStorage)\n",
    "importlib.reload(datavalidation.DataValidation)\n",
    "importlib.reload(datapreparation.DataPreparation)\n",
    "importlib.reload(datatransformationandstorage.DataTransformationAndStorage)\n",
    "importlib.reload(featurestore.FeatureStore)\n",
    "importlib.reload(dataversioning.DataVersioning)\n",
    "importlib.reload(modelbuild.ModelBuild)\n",
    "\n",
    "\n",
    "from prefect import task, flow, get_run_logger\n",
    "from prefect.tasks import Task\n",
    "from dataingestion.DataIngestion import load_csv, load_api, load_db\n",
    "from datastorage.DataStorage import save_csv_or_db, save_api\n",
    "from datavalidation.DataValidation import validate_churn_data\n",
    "from datapreparation.DataPreparation import preprocess_and_eda\n",
    "from datatransformationandstorage.DataTransformationAndStorage import transform_and_store\n",
    "from featurestore.FeatureStore  import create_feature_store, sample_feature_queries\n",
    "from dataversioning.DataVersioning import save_and_version_both\n",
    "from modelbuild.ModelBuild import run_training\n",
    "import sqlite3  \n",
    "\n",
    "\n",
    "def visualize_flow(flow_func):\n",
    "    # Run once (small dummy run, doesn't execute heavy code since tasks are empty here)\n",
    "    futures = flow_func()\n",
    "\n",
    "    dot = Digraph(comment=\"Prefect Flow DAG\", format=\"png\")\n",
    "\n",
    "    # Collect dependencies manually\n",
    "    for fut in futures:\n",
    "        if hasattr(fut, \"name\"):\n",
    "            dot.node(fut.name, fut.name)\n",
    "\n",
    "            # Prefect 2 futures keep upstream dependencies\n",
    "            for upstream in fut.wait()._parent_task_run_ids or []:\n",
    "                dot.edge(str(upstream), fut.name)\n",
    "\n",
    "    return dot\n",
    "@task\n",
    "def ingest_data():\n",
    "    logger = get_run_logger()\n",
    "    csv_url = \"https://synapseaisolutionsa.z13.web.core.windows.net/data/bankcustomerchurn/churn.csv\"\n",
    "    logger.info(f\"📥 Ingesting data from {csv_url}\")\n",
    "    df_csv = load_csv(csv_url, csv_url)\n",
    "    logger.info(f\"✅ Data ingestion complete. Shape: {df_csv.shape}\")\n",
    "    return df_csv\n",
    "\n",
    "@task\n",
    "def store_data(df_csv):\n",
    "    logger = get_run_logger()\n",
    "    base_dir = \"datastorage\"\n",
    "    save_csv_or_db(df_csv, base_dir, \"csv\")\n",
    "    logger.info(f\"✅ Data stored at {base_dir}\")\n",
    "    return base_dir\n",
    "\n",
    "@task\n",
    "def validate_data(df_csv):\n",
    "    logger = get_run_logger()\n",
    "    base_dir = \"datavalidation/reports\"\n",
    "    issues, metadata = validate_churn_data(df_csv, base_dir, \"pdf\")\n",
    "    logger.info(f\"🔍 Validation complete. Issues: {len(issues)} Metadata: {metadata}\")\n",
    "    return issues, metadata\n",
    "\n",
    "@task\n",
    "def prepare_data(df_csv):\n",
    "    logger = get_run_logger()\n",
    "    base_dir = \"datapreparation/prepared\"\n",
    "    df_processed = preprocess_and_eda(df_csv, base_dir)\n",
    "    logger.info(f\"✅ Data preparation complete. Shape: {df_processed.shape}\")\n",
    "    return df_processed\n",
    "\n",
    "@task\n",
    "def transform_data(df_processed):\n",
    "    logger = get_run_logger()\n",
    "    base_dir = \"datatransformationandstorage/transformationandstorage\"\n",
    "    df_txfnstr = transform_and_store(df_processed, base_dir, \"churn\")\n",
    "    logger.info(f\"✅ Data transformation complete. Shape: {df_txfnstr.shape}\")\n",
    "    return df_txfnstr\n",
    "\n",
    "@task\n",
    "def build_feature_store(df_txfnstr):\n",
    "    logger = get_run_logger()\n",
    "    base_path = \"featurestore/featurestore\"\n",
    "    df_feature, conn, db_path = create_feature_store(df_txfnstr, base_path)\n",
    "    sample_feature_queries(conn, base_path)\n",
    "    logger.info(f\"✅ Feature store created at {base_path}, DB path: {db_path}\")\n",
    "    return df_feature, db_path\n",
    "\n",
    "@task\n",
    "def version_data(df_csv, df_feature):\n",
    "    logger = get_run_logger()\n",
    "    save_and_version_both(\n",
    "        df_csv,\n",
    "        df_feature,\n",
    "        \"dataversioning/raw/churn_raw.csv\",\n",
    "        \"dataversioning/transformed/churn_transformed_v1.csv\",\n",
    "        \"churn_raw.csv\",\n",
    "        \"Changes_Commited\"\n",
    "    )\n",
    "    logger.info(\"✅ Data versioning complete.\")\n",
    "\n",
    "@task\n",
    "def train_model(db_path):\n",
    "    logger = get_run_logger()\n",
    "    run_training(db_path)\n",
    "    logger.info(\"✅ Model training complete.\")\n",
    "\n",
    "\n",
    "@flow(name=\"Churn ML Pipeline Orchestration\")\n",
    "def churn_pipeline():\n",
    "    df_csv = ingest_data()\n",
    "    store_data(df_csv)\n",
    "    validate_data(df_csv)\n",
    "    df_processed = prepare_data(df_csv)\n",
    "    df_txfnstr = transform_data(df_processed)\n",
    "    df_feature, db_path = build_feature_store(df_txfnstr)\n",
    "    version_data(df_csv, df_feature)\n",
    "    train_model(db_path)\n",
    "\n",
    "    print(\"✅ Pipeline complete!\")\n",
    "\n",
    "# Define dependencies between tasks\n",
    "dag_dependencies = {\n",
    "    \"ingest_data\": [\"store_data\", \"validate_data\", \"prepare_data\"],\n",
    "    \"prepare_data\": [\"transform_data\"],\n",
    "    \"transform_data\": [\"build_feature_store\"],\n",
    "    \"build_feature_store\": [\"train_model\", \"version_data\"],\n",
    "    \"ingest_data\": [\"version_data\"]\n",
    "}\n",
    "\n",
    "\n",
    "\n",
    "\n",
    "visualize_flow(churn_pipeline)\n",
    "\n",
    "\n",
    "if __name__ == \"__main__\":\n",
    "    churn_pipeline()"
   ]
  },
  {
   "cell_type": "code",
   "execution_count": null,
   "id": "793838c6-5393-4a55-b880-42bda744c5a8",
   "metadata": {},
   "outputs": [],
   "source": []
  }
 ],
 "metadata": {
  "kernelspec": {
   "display_name": "Python 3 (ipykernel)",
   "language": "python",
   "name": "python3"
  },
  "language_info": {
   "codemirror_mode": {
    "name": "ipython",
    "version": 3
   },
   "file_extension": ".py",
   "mimetype": "text/x-python",
   "name": "python",
   "nbconvert_exporter": "python",
   "pygments_lexer": "ipython3",
   "version": "3.12.7"
  }
 },
 "nbformat": 4,
 "nbformat_minor": 5
}
