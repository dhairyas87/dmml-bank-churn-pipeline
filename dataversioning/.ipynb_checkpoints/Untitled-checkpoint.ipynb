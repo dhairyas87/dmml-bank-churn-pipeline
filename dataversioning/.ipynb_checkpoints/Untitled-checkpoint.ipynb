{
 "cells": [
  {
   "cell_type": "code",
   "execution_count": 3,
   "id": "fe1833f4-f37d-4b14-89d1-16999ecad5ce",
   "metadata": {},
   "outputs": [
    {
     "name": "stdout",
     "output_type": "stream",
     "text": [
      "[NbConvertApp] Converting notebook DataVersioning.ipynb to script\n",
      "[NbConvertApp] Writing 1834 bytes to DataVersioning.py\n"
     ]
    }
   ],
   "source": [
    "!jupyter nbconvert --to script DataVersioning.ipynb"
   ]
  },
  {
   "cell_type": "code",
   "execution_count": null,
   "id": "6ea47690-5164-4814-88e1-8f7e9b3b4bf8",
   "metadata": {},
   "outputs": [],
   "source": []
  }
 ],
 "metadata": {
  "kernelspec": {
   "display_name": "Python 3 (ipykernel)",
   "language": "python",
   "name": "python3"
  },
  "language_info": {
   "codemirror_mode": {
    "name": "ipython",
    "version": 3
   },
   "file_extension": ".py",
   "mimetype": "text/x-python",
   "name": "python",
   "nbconvert_exporter": "python",
   "pygments_lexer": "ipython3",
   "version": "3.12.7"
  }
 },
 "nbformat": 4,
 "nbformat_minor": 5
}
