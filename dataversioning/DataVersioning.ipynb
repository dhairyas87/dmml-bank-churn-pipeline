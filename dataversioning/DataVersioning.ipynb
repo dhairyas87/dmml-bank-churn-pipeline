{
 "cells": [
  {
   "cell_type": "code",
   "execution_count": 3,
   "id": "a902b5f3-352b-47ed-96d9-4a814b0896d6",
   "metadata": {},
   "outputs": [],
   "source": [
    "import os\n",
    "import subprocess\n",
    "import json\n",
    "from datetime import datetime\n",
    "\n",
    "def save_and_version_dataset(df, path, dataset_name, dataset_type, notes=\"\", remote=\"origin\", branch=\"main\"):\n",
    "    \"\"\"\n",
    "    Save dataset to path, commit with git, push to remote, and track version metadata.\n",
    "    \"\"\"\n",
    "    os.makedirs(os.path.dirname(path), exist_ok=True)\n",
    "    df.to_csv(path, index=False)\n",
    "\n",
    "    # Git add & commit\n",
    "    subprocess.run([\"git\", \"add\", path], check=True)\n",
    "    commit_msg = f\"{dataset_type.capitalize()} dataset update: {dataset_name} - {notes}\"\n",
    "    subprocess.run([\"git\", \"commit\", \"-m\", commit_msg], check=True)\n",
    "\n",
    "    # Get current commit hash\n",
    "    commit_id = subprocess.check_output([\"git\", \"rev-parse\", \"HEAD\"]).decode(\"utf-8\").strip()\n",
    "\n",
    "    # Store version metadata\n",
    "    metadata_file = \"dataversioning/version_metadata.json\"\n",
    "    if os.path.exists(metadata_file):\n",
    "        with open(metadata_file, \"r\") as f:\n",
    "            metadata = json.load(f)\n",
    "    else:\n",
    "        metadata = []\n",
    "\n",
    "    entry = {\n",
    "        \"dataset_name\": dataset_name,\n",
    "        \"dataset_type\": dataset_type,\n",
    "        \"path\": path,\n",
    "        \"version_id\": commit_id,\n",
    "        \"timestamp\": datetime.now().strftime(\"%Y-%m-%d %H:%M:%S\"),\n",
    "        \"notes\": notes\n",
    "    }\n",
    "    metadata.append(entry)\n",
    "\n",
    "    with open(metadata_file, \"w\") as f:\n",
    "        json.dump(metadata, f, indent=4)\n",
    "\n",
    "    subprocess.run([\"git\", \"add\", metadata_file], check=True)\n",
    "    subprocess.run([\"git\", \"commit\", \"-m\", f\"Update version metadata for {dataset_name}\"], check=True)\n",
    "\n",
    "    # Push to remote\n",
    "    subprocess.run([\"git\", \"pull\", \"--rebase\", remote, branch], check=True)\n",
    "    subprocess.run([\"git\", \"push\", remote, branch], check=True)\n",
    "\n",
    "    print(f\"✅ {dataset_type.capitalize()} dataset {dataset_name} saved, versioned, and pushed with commit {commit_id}\")\n"
   ]
  },
  {
   "cell_type": "code",
   "execution_count": null,
   "id": "e3cccd1f-e0b0-480f-badd-993742908c8c",
   "metadata": {},
   "outputs": [],
   "source": []
  }
 ],
 "metadata": {
  "kernelspec": {
   "display_name": "Python 3 (ipykernel)",
   "language": "python",
   "name": "python3"
  },
  "language_info": {
   "codemirror_mode": {
    "name": "ipython",
    "version": 3
   },
   "file_extension": ".py",
   "mimetype": "text/x-python",
   "name": "python",
   "nbconvert_exporter": "python",
   "pygments_lexer": "ipython3",
   "version": "3.12.7"
  }
 },
 "nbformat": 4,
 "nbformat_minor": 5
}
