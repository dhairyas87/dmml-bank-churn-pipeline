{
 "cells": [
  {
   "cell_type": "code",
   "execution_count": 6,
   "id": "086148e2-5efd-4e11-b4c5-f75423ac3160",
   "metadata": {},
   "outputs": [
    {
     "name": "stdout",
     "output_type": "stream",
     "text": [
      "[NbConvertApp] Converting notebook DataTransformationAndStorage.ipynb to script\n",
      "[NbConvertApp] Writing 5085 bytes to DataTransformationAndStorage.py\n"
     ]
    }
   ],
   "source": [
    "!jupyter nbconvert --to script DataTransformationAndStorage.ipynb\n"
   ]
  },
  {
   "cell_type": "code",
   "execution_count": null,
   "id": "f1224ea8-3f29-4276-a67d-2f589dd1b993",
   "metadata": {},
   "outputs": [],
   "source": []
  }
 ],
 "metadata": {
  "kernelspec": {
   "display_name": "Python 3 (ipykernel)",
   "language": "python",
   "name": "python3"
  },
  "language_info": {
   "codemirror_mode": {
    "name": "ipython",
    "version": 3
   },
   "file_extension": ".py",
   "mimetype": "text/x-python",
   "name": "python",
   "nbconvert_exporter": "python",
   "pygments_lexer": "ipython3",
   "version": "3.12.7"
  }
 },
 "nbformat": 4,
 "nbformat_minor": 5
}
