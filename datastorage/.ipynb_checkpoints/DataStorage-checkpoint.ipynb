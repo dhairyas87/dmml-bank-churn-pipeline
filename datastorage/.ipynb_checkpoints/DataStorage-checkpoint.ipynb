{
 "cells": [
  {
   "cell_type": "code",
   "execution_count": 7,
   "id": "eb89b543-84eb-4626-8c2d-14b00d7d512b",
   "metadata": {},
   "outputs": [],
   "source": [
    "import os\n",
    "import pandas as pd\n",
    "import logging\n",
    "from datetime import datetime\n",
    "\n",
    "logging.basicConfig(\n",
    "    level=logging.INFO,\n",
    "    format=\"%(asctime)s [%(levelname)s] %(message)s\",\n",
    "    handlers=[logging.StreamHandler()]\n",
    ")\n",
    "\n",
    "def ensure_dir(path: str):\n",
    "    os.makedirs(path, exist_ok=True)\n",
    "\n",
    "def get_partitioned_path(base_dir: str, source: str, ext: str) -> str:\n",
    "    now = datetime.now()\n",
    "    folder = os.path.join(\n",
    "        base_dir,\n",
    "        source,\n",
    "        f\"year={now.year}\",\n",
    "        f\"month={now.month:02d}\",\n",
    "        f\"day={now.day:02d}\"\n",
    "    )\n",
    "    ensure_dir(folder)\n",
    "    return os.path.join(folder, f\"{source}_DataStorage.{ext}\")\n",
    "\n",
    "def save_csv_or_db(df: pd.DataFrame, base_dir: str, source: str):\n",
    "    if not df.empty:\n",
    "        path = get_partitioned_path(base_dir, source, \"csv\")\n",
    "        df.to_csv(path, index=False)\n",
    "        logging.info(f\"{source.upper()} data stored at {path}\")\n",
    "\n",
    "def save_api(data, base_dir: str, source: str):\n",
    "    if data:\n",
    "        path = get_partitioned_path(base_dir, source, \"json\")\n",
    "        pd.Series(data).to_json(path, orient=\"records\", indent=2)\n",
    "        logging.info(f\"{source.upper()} data stored at {path}\")"
   ]
  },
  {
   "cell_type": "code",
   "execution_count": 8,
   "id": "bc41dc16-8ad7-4376-bc33-444959bca39e",
   "metadata": {},
   "outputs": [
    {
     "name": "stdout",
     "output_type": "stream",
     "text": [
      "[NbConvertApp] Converting notebook DataStorage.ipynb to script\n",
      "[NbConvertApp] Writing 1184 bytes to DataStorage.py\n"
     ]
    }
   ],
   "source": []
  },
  {
   "cell_type": "code",
   "execution_count": null,
   "id": "6d4c796a-9275-44c9-abf2-0a0bbeee7013",
   "metadata": {},
   "outputs": [],
   "source": []
  }
 ],
 "metadata": {
  "kernelspec": {
   "display_name": "Python 3 (ipykernel)",
   "language": "python",
   "name": "python3"
  },
  "language_info": {
   "codemirror_mode": {
    "name": "ipython",
    "version": 3
   },
   "file_extension": ".py",
   "mimetype": "text/x-python",
   "name": "python",
   "nbconvert_exporter": "python",
   "pygments_lexer": "ipython3",
   "version": "3.12.7"
  }
 },
 "nbformat": 4,
 "nbformat_minor": 5
}
