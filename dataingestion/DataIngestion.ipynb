{
 "cells": [
  {
   "cell_type": "code",
   "execution_count": 1,
   "id": "eebdc5bd-2e46-41af-8033-b9829ef6db9e",
   "metadata": {},
   "outputs": [],
   "source": [
    "import pandas as pd\n",
    "import requests\n",
    "import sqlalchemy\n",
    "import logging\n",
    "\n",
    "logging.basicConfig(\n",
    "    level=logging.INFO,\n",
    "    format=\"%(asctime)s [%(levelname)s] %(message)s\",\n",
    "    handlers=[logging.StreamHandler()]\n",
    ")\n",
    "\n",
    "def load_csv(path_or_url: str,source: str) -> pd.DataFrame:\n",
    "    try:\n",
    "        logging.info(f\"CSV data loading from Path with source {source}\")\n",
    "        df = pd.read_csv(path_or_url)\n",
    "        logging.info(f\"CSV data loaded with shape {df.shape}\")\n",
    "        return df\n",
    "    except Exception as e:\n",
    "        logging.error(f\"CSV ingestion failed: {e}\")\n",
    "        return pd.DataFrame()\n",
    "\n",
    "def load_api(endpoint: str, params=None, headers=None):\n",
    "    try:\n",
    "        logging.info(f\"API data fetched from endpoint {endpoint}\")\n",
    "        response = requests.get(endpoint, params=params, headers=headers, timeout=10)\n",
    "        response.raise_for_status()\n",
    "        data = response.json()\n",
    "        logging.info(f\"API data fetched with {len(data)} records\")\n",
    "        return data\n",
    "    except Exception as e:\n",
    "        logging.error(f\"API ingestion failed: {e}\")\n",
    "        return []\n",
    "\n",
    "def load_db(query: str, connection_string: str) -> pd.DataFrame:\n",
    "    try:\n",
    "        logging.info(f\"DB data loaded from Database with connection {connection_string}\")\n",
    "        engine = sqlalchemy.create_engine(connection_string)\n",
    "        df = pd.read_sql(query, engine)\n",
    "        logging.info(f\"DB data loaded with shape {df.shape}\")\n",
    "        return df\n",
    "    except Exception as e:\n",
    "        logging.error(f\"DB ingestion failed: {e}\")\n",
    "        return pd.DataFrame()"
   ]
  },
  {
   "cell_type": "code",
   "execution_count": null,
   "id": "bb53497f-43eb-4ddb-9b8e-5712dd10d6fe",
   "metadata": {},
   "outputs": [],
   "source": []
  },
  {
   "cell_type": "code",
   "execution_count": null,
   "id": "a5ffdb49-1662-4101-a675-d2e7a38d4877",
   "metadata": {},
   "outputs": [],
   "source": []
  }
 ],
 "metadata": {
  "kernelspec": {
   "display_name": "Python 3 (ipykernel)",
   "language": "python",
   "name": "python3"
  },
  "language_info": {
   "codemirror_mode": {
    "name": "ipython",
    "version": 3
   },
   "file_extension": ".py",
   "mimetype": "text/x-python",
   "name": "python",
   "nbconvert_exporter": "python",
   "pygments_lexer": "ipython3",
   "version": "3.12.7"
  }
 },
 "nbformat": 4,
 "nbformat_minor": 5
}
