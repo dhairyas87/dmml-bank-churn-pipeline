{
 "cells": [
  {
   "cell_type": "code",
   "execution_count": 6,
   "id": "a5fd3d33-6eb1-4ad5-a685-d239d615b6a8",
   "metadata": {},
   "outputs": [
    {
     "name": "stdout",
     "output_type": "stream",
     "text": [
      "[NbConvertApp] Converting notebook DataIngestion.ipynb to script\n",
      "[NbConvertApp] Writing 1584 bytes to DataIngestion.py\n"
     ]
    }
   ],
   "source": [
    "\n",
    "!jupyter nbconvert --to script DataIngestion.ipynb"
   ]
  },
  {
   "cell_type": "code",
   "execution_count": null,
   "id": "26ba6702-3bdb-4330-a0a1-636e624caa22",
   "metadata": {},
   "outputs": [],
   "source": []
  }
 ],
 "metadata": {
  "kernelspec": {
   "display_name": "Python 3 (ipykernel)",
   "language": "python",
   "name": "python3"
  },
  "language_info": {
   "codemirror_mode": {
    "name": "ipython",
    "version": 3
   },
   "file_extension": ".py",
   "mimetype": "text/x-python",
   "name": "python",
   "nbconvert_exporter": "python",
   "pygments_lexer": "ipython3",
   "version": "3.12.7"
  }
 },
 "nbformat": 4,
 "nbformat_minor": 5
}
