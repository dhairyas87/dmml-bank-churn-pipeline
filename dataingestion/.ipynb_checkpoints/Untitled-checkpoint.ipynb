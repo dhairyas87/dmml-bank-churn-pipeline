{
 "cells": [
  {
   "cell_type": "code",
   "execution_count": 3,
   "id": "c49880c5-f722-4fbb-85b9-e64bf94fdb0a",
   "metadata": {},
   "outputs": [
    {
     "name": "stdout",
     "output_type": "stream",
     "text": [
      "[NbConvertApp] Converting notebook DataIngestion.ipynb to script\n",
      "[NbConvertApp] Writing 4068 bytes to DataIngestion.py\n"
     ]
    }
   ],
   "source": [
    "!jupyter nbconvert --to script DataIngestion.ipynb"
   ]
  },
  {
   "cell_type": "code",
   "execution_count": null,
   "id": "bfb13319-e7f9-4773-a81e-d9d08b5b8808",
   "metadata": {},
   "outputs": [],
   "source": []
  }
 ],
 "metadata": {
  "kernelspec": {
   "display_name": "Python 3 (ipykernel)",
   "language": "python",
   "name": "python3"
  },
  "language_info": {
   "codemirror_mode": {
    "name": "ipython",
    "version": 3
   },
   "file_extension": ".py",
   "mimetype": "text/x-python",
   "name": "python",
   "nbconvert_exporter": "python",
   "pygments_lexer": "ipython3",
   "version": "3.12.7"
  }
 },
 "nbformat": 4,
 "nbformat_minor": 5
}
