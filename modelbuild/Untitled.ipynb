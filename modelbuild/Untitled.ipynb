{
 "cells": [
  {
   "cell_type": "code",
   "execution_count": 1,
   "id": "8654be0c-142b-422d-b65c-c69fcd19655e",
   "metadata": {},
   "outputs": [
    {
     "name": "stdout",
     "output_type": "stream",
     "text": [
      "[NbConvertApp] Converting notebook ModelBuild.ipynb to script\n",
      "[NbConvertApp] Writing 4233 bytes to ModelBuild.py\n"
     ]
    }
   ],
   "source": [
    "!jupyter nbconvert --to script ModelBuild.ipynb"
   ]
  },
  {
   "cell_type": "code",
   "execution_count": null,
   "id": "552c93bf-c410-491a-a0ff-0f9fe5b72682",
   "metadata": {},
   "outputs": [],
   "source": []
  }
 ],
 "metadata": {
  "kernelspec": {
   "display_name": "Python 3 (ipykernel)",
   "language": "python",
   "name": "python3"
  },
  "language_info": {
   "codemirror_mode": {
    "name": "ipython",
    "version": 3
   },
   "file_extension": ".py",
   "mimetype": "text/x-python",
   "name": "python",
   "nbconvert_exporter": "python",
   "pygments_lexer": "ipython3",
   "version": "3.12.7"
  }
 },
 "nbformat": 4,
 "nbformat_minor": 5
}
