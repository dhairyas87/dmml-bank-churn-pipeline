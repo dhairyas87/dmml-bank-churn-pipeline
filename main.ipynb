{
 "cells": [
  {
   "cell_type": "code",
   "execution_count": 1,
   "id": "28b88a5a-fc4d-44d5-a4bf-eba3c109f024",
   "metadata": {},
   "outputs": [
    {
     "name": "stderr",
     "output_type": "stream",
     "text": [
      "2025-08-23 18:29:19,087 [INFO] CSV data loading from Path with source https://synapseaisolutionsa.z13.web.core.windows.net/data/bankcustomerchurn/churn.csv\n",
      "2025-08-23 18:29:21,891 [INFO] CSV data loaded with shape (10000, 14)\n",
      "2025-08-23 18:29:21,941 [INFO] CSV data stored at datastorage/csv/year=2025/month=08/day=23/csv_DataStorage.csv\n",
      "2025-08-23 18:29:21,942 [INFO] ===== Validation started =====\n",
      "2025-08-23 18:29:21,942 [INFO] Starting check: RowNumber sequence\n",
      "2025-08-23 18:29:21,943 [INFO] Completed check: RowNumber sequence\n",
      "2025-08-23 18:29:21,943 [INFO] Starting check: CustomerId uniqueness\n",
      "2025-08-23 18:29:21,943 [INFO] Completed check: CustomerId uniqueness\n",
      "2025-08-23 18:29:21,943 [INFO] Starting check: CreditScore validity\n",
      "2025-08-23 18:29:21,944 [INFO] Completed check: CreditScore validity\n",
      "2025-08-23 18:29:21,944 [INFO] Starting check: Geography validity\n",
      "2025-08-23 18:29:21,945 [INFO] Completed check: Geography validity\n",
      "2025-08-23 18:29:21,946 [INFO] Starting check: Gender validity\n",
      "2025-08-23 18:29:21,946 [INFO] Completed check: Gender validity\n",
      "2025-08-23 18:29:21,947 [INFO] Starting check: Age range\n",
      "2025-08-23 18:29:21,947 [INFO] Completed check: Age range\n",
      "2025-08-23 18:29:21,947 [INFO] Starting check: Tenure range\n",
      "2025-08-23 18:29:21,948 [INFO] Completed check: Tenure range\n",
      "2025-08-23 18:29:21,948 [INFO] Starting check: Balance non-negative\n",
      "2025-08-23 18:29:21,949 [INFO] Completed check: Balance non-negative\n",
      "2025-08-23 18:29:21,949 [INFO] Starting check: NumOfProducts range\n",
      "2025-08-23 18:29:21,949 [INFO] Completed check: NumOfProducts range\n",
      "2025-08-23 18:29:21,949 [INFO] Starting check: HasCrCard binary values\n",
      "2025-08-23 18:29:21,950 [INFO] Completed check: HasCrCard binary values\n",
      "2025-08-23 18:29:21,950 [INFO] Starting check: IsActiveMember binary values\n",
      "2025-08-23 18:29:21,951 [INFO] Completed check: IsActiveMember binary values\n",
      "2025-08-23 18:29:21,951 [INFO] Starting check: Exited binary values\n",
      "2025-08-23 18:29:21,951 [INFO] Completed check: Exited binary values\n",
      "2025-08-23 18:29:21,952 [INFO] Starting check: EstimatedSalary outliers\n",
      "2025-08-23 18:29:21,953 [WARNING] EstimatedSalary anomalies detected: 10 rows\n",
      "2025-08-23 18:29:21,953 [INFO] Completed check: EstimatedSalary outliers\n",
      "2025-08-23 18:29:21,985 [INFO] Issues report saved at datavalidation/reports/churn_data_issues_20250823_182921.csv\n",
      "2025-08-23 18:29:21,985 [INFO] Metadata report saved at datavalidation/reports/churn_data_metadata_20250823_182921.csv\n",
      "2025-08-23 18:29:21,985 [INFO] PDF report saved at datavalidation/reports/churn_data_report_20250823_182921.pdf\n",
      "2025-08-23 18:29:21,985 [INFO] ===== Validation completed =====\n",
      "2025-08-23 18:29:21,986 [INFO] Starting preprocessing and EDA...\n",
      "2025-08-23 18:29:21,987 [INFO] Handling missing values...\n",
      "2025-08-23 18:29:21,992 [INFO] Encoding categorical string variables...\n",
      "2025-08-23 18:29:21,998 [INFO] Normalizing continuous numeric attributes...\n",
      "2025-08-23 18:29:22,000 [INFO] Generating summary statistics...\n",
      "2025-08-23 18:29:22,009 [INFO] Creating EDA visualizations and saving to PDF...\n",
      "2025-08-23 18:29:22,362 [INFO] Using categorical units to plot a list of strings that are all parsable as floats or dates. If these strings should be plotted as numbers, cast to the appropriate data type before plotting.\n",
      "2025-08-23 18:29:22,376 [INFO] Using categorical units to plot a list of strings that are all parsable as floats or dates. If these strings should be plotted as numbers, cast to the appropriate data type before plotting.\n",
      "2025-08-23 18:29:22,434 [INFO] Using categorical units to plot a list of strings that are all parsable as floats or dates. If these strings should be plotted as numbers, cast to the appropriate data type before plotting.\n",
      "2025-08-23 18:29:22,448 [INFO] Using categorical units to plot a list of strings that are all parsable as floats or dates. If these strings should be plotted as numbers, cast to the appropriate data type before plotting.\n",
      "2025-08-23 18:29:22,476 [INFO] Using categorical units to plot a list of strings that are all parsable as floats or dates. If these strings should be plotted as numbers, cast to the appropriate data type before plotting.\n",
      "2025-08-23 18:29:22,489 [INFO] Using categorical units to plot a list of strings that are all parsable as floats or dates. If these strings should be plotted as numbers, cast to the appropriate data type before plotting.\n",
      "2025-08-23 18:29:22,540 [INFO] Using categorical units to plot a list of strings that are all parsable as floats or dates. If these strings should be plotted as numbers, cast to the appropriate data type before plotting.\n",
      "2025-08-23 18:29:22,553 [INFO] Using categorical units to plot a list of strings that are all parsable as floats or dates. If these strings should be plotted as numbers, cast to the appropriate data type before plotting.\n",
      "2025-08-23 18:29:22,851 [INFO] Preprocessing and EDA completed. Cleaned data saved at datapreparation/prepared/cleaned_data_20250823_182922.csv\n",
      "2025-08-23 18:29:22,851 [INFO] EDA PDF report saved at datapreparation/prepared/eda_report_20250823_182922.pdf\n",
      "2025-08-23 18:29:22,852 [INFO] Starting data transformation...\n",
      "2025-08-23 18:29:22,853 [INFO] Dropped columns: ['RowNumber', 'Surname']\n",
      "2025-08-23 18:29:22,853 [INFO] Creating new features...\n",
      "2025-08-23 18:29:22,855 [INFO] Feature engineering completed.\n",
      "2025-08-23 18:29:22,878 [INFO] Data successfully stored in SQLite: datatransformationandstorage/transformationandstorage/churn\n",
      "2025-08-23 18:29:22,879 [INFO] SQL schema design saved at datatransformationandstorage/transformationandstorage/schema_design_20250823_182922.sql\n",
      "2025-08-23 18:29:22,879 [INFO] Sample SQL queries saved at datatransformationandstorage/transformationandstorage/sample_queries.sql\n",
      "2025-08-23 18:29:22,891 [INFO] Query outputs saved at datatransformationandstorage/transformationandstorage/sample_query_outputs.txt\n",
      "2025-08-23 18:29:22,892 [INFO] Transformation summary saved at datatransformationandstorage/transformationandstorage/transformation_summary.txt\n",
      "2025-08-23 18:29:22,893 [INFO] Engineering features for feature store...\n",
      "2025-08-23 18:29:22,925 [INFO] Feature documentation generated at featurestore/featurestore/feature_documentation.md\n",
      "2025-08-23 18:29:22,925 [INFO] Feature store created at featurestore/featurestore/feature_store.db\n",
      "2025-08-23 18:29:22,933 [INFO] Sample queries saved at featurestore/featurestore/sample_queries.txt\n",
      "2025-08-23 18:29:22,933 [INFO] Query results saved at featurestore/featurestore/query_results.txt\n"
     ]
    },
    {
     "name": "stdout",
     "output_type": "stream",
     "text": [
      "[main 835cb76] Dataset update: churn_raw.csv (raw + transformed) - Changes_Commited\n",
      " 15 files changed, 10184 insertions(+), 8 deletions(-)\n",
      " create mode 100644 datapreparation/prepared/cleaned_data_20250823_182922.csv\n",
      " create mode 100644 datapreparation/prepared/eda_report_20250823_182922.pdf\n",
      " create mode 100644 datatransformationandstorage/transformationandstorage/schema_design_20250823_182922.sql\n",
      " create mode 100644 datavalidation/reports/churn_data_issues_20250823_182921.csv\n",
      " create mode 100644 datavalidation/reports/churn_data_metadata_20250823_182921.csv\n",
      " create mode 100644 datavalidation/reports/churn_data_report_20250823_182921.pdf\n",
      "[main 584ba46] Update version metadata for churn_raw.csv\n",
      " 1 file changed, 10 insertions(+)\n"
     ]
    },
    {
     "name": "stderr",
     "output_type": "stream",
     "text": [
      "From https://github.com/dhairyas87/dmml-bank-churn-pipeline\n",
      " * branch            main       -> FETCH_HEAD\n"
     ]
    },
    {
     "name": "stdout",
     "output_type": "stream",
     "text": [
      "Current branch main is up to date.\n"
     ]
    },
    {
     "name": "stderr",
     "output_type": "stream",
     "text": [
      "To https://github.com/dhairyas87/dmml-bank-churn-pipeline.git\n",
      "   d35db03..584ba46  main -> main\n"
     ]
    },
    {
     "name": "stdout",
     "output_type": "stream",
     "text": [
      "✅ Raw + Transformed datasets for churn_raw.csv saved, versioned, and pushed under commit 835cb76faf886b5f3b6fe5c047e617df8ad153c7\n"
     ]
    },
    {
     "ename": "NameError",
     "evalue": "name 'run_training' is not defined",
     "output_type": "error",
     "traceback": [
      "\u001b[0;31m---------------------------------------------------------------------------\u001b[0m",
      "\u001b[0;31mNameError\u001b[0m                                 Traceback (most recent call last)",
      "Cell \u001b[0;32mIn[1], line 63\u001b[0m\n\u001b[1;32m     60\u001b[0m     run_training(db_path)\n\u001b[1;32m     62\u001b[0m \u001b[38;5;28;01mif\u001b[39;00m \u001b[38;5;18m__name__\u001b[39m \u001b[38;5;241m==\u001b[39m \u001b[38;5;124m\"\u001b[39m\u001b[38;5;124m__main__\u001b[39m\u001b[38;5;124m\"\u001b[39m:\n\u001b[0;32m---> 63\u001b[0m     main()\n",
      "Cell \u001b[0;32mIn[1], line 60\u001b[0m, in \u001b[0;36mmain\u001b[0;34m()\u001b[0m\n\u001b[1;32m     55\u001b[0m conn\u001b[38;5;241m.\u001b[39mclose()\n\u001b[1;32m     58\u001b[0m save_and_version_both(df_csv, df_feature,\u001b[38;5;124m\"\u001b[39m\u001b[38;5;124mdataversioning/raw/churn_raw.csv\u001b[39m\u001b[38;5;124m\"\u001b[39m, \u001b[38;5;124m\"\u001b[39m\u001b[38;5;124mdataversioning/transformed/churn_transformed_v1.csv\u001b[39m\u001b[38;5;124m\"\u001b[39m, \u001b[38;5;124m\"\u001b[39m\u001b[38;5;124mchurn_raw.csv\u001b[39m\u001b[38;5;124m\"\u001b[39m, \u001b[38;5;124m\"\u001b[39m\u001b[38;5;124mChanges_Commited\u001b[39m\u001b[38;5;124m\"\u001b[39m)\n\u001b[0;32m---> 60\u001b[0m run_training(db_path)\n",
      "\u001b[0;31mNameError\u001b[0m: name 'run_training' is not defined"
     ]
    }
   ],
   "source": [
    "import importlib\n",
    "import dataingestion.DataIngestion\n",
    "import datastorage.DataStorage\n",
    "import datavalidation.DataValidation\n",
    "import datapreparation.DataPreparation\n",
    "import datatransformationandstorage.DataTransformationAndStorage\n",
    "import featurestore.FeatureStore\n",
    "import dataversioning.DataVersioning\n",
    "\n",
    "\n",
    "importlib.reload(dataingestion.DataIngestion)\n",
    "importlib.reload(datastorage.DataStorage)\n",
    "importlib.reload(datavalidation.DataValidation)\n",
    "importlib.reload(datapreparation.DataPreparation)\n",
    "importlib.reload(datatransformationandstorage.DataTransformationAndStorage)\n",
    "importlib.reload(featurestore.FeatureStore)\n",
    "importlib.reload(dataversioning.DataVersioning)\n",
    "\n",
    "\n",
    "\n",
    "from dataingestion.DataIngestion import load_csv, load_api, load_db\n",
    "from datastorage.DataStorage import save_csv_or_db, save_api\n",
    "from datavalidation.DataValidation import validate_churn_data\n",
    "from datapreparation.DataPreparation import preprocess_and_eda\n",
    "from datatransformationandstorage.DataTransformationAndStorage import transform_and_store\n",
    "from featurestore.FeatureStore  import create_feature_store,sample_feature_queries\n",
    "from dataversioning.DataVersioning import save_and_version_both\n",
    "\n",
    "\n",
    "def main():\n",
    "   \n",
    "\n",
    "    # CSV example\n",
    "    csv_url = \"https://synapseaisolutionsa.z13.web.core.windows.net/data/bankcustomerchurn/churn.csv\"\n",
    "    df_csv = load_csv(csv_url,csv_url)\n",
    "\n",
    "    base_dir = \"datastorage\"\n",
    "    save_csv_or_db(df_csv, base_dir, \"csv\")\n",
    "\n",
    "    base_dir = \"datavalidation/reports\"\n",
    "    issues, metadata = validate_churn_data(df_csv,base_dir,\"pdf\")\n",
    "\n",
    "    base_dir = \"datapreparation/prepared\"\n",
    "    df_processed = preprocess_and_eda(df_csv,base_dir) \n",
    "\n",
    "    base_dir = \"datatransformationandstorage/transformationandstorage\"\n",
    "    df_txfnstr = transform_and_store(df_processed,base_dir,\"churn\")\n",
    "\n",
    "    base_path = \"featurestore/featurestore\"   # <<< define your path here\n",
    "    df_feature,conn, db_path = create_feature_store(df_txfnstr, base_path)\n",
    "\n",
    "    # Run demo queries\n",
    "    sample_feature_queries(conn, base_path)\n",
    "\n",
    "    conn.close()\n",
    "\n",
    "\n",
    "    save_and_version_both(df_csv, df_feature,\"dataversioning/raw/churn_raw.csv\", \"dataversioning/transformed/churn_transformed_v1.csv\", \"churn_raw.csv\", \"Changes_Commited\")\n",
    "\n",
    "    run_training(db_path)\n",
    "\n",
    "if __name__ == \"__main__\":\n",
    "    main()"
   ]
  },
  {
   "cell_type": "code",
   "execution_count": null,
   "id": "84cac164-549a-4576-8c35-3bbef411696b",
   "metadata": {},
   "outputs": [],
   "source": []
  },
  {
   "cell_type": "code",
   "execution_count": null,
   "id": "9bde366d-2b45-4c06-99fa-c54613f46171",
   "metadata": {},
   "outputs": [],
   "source": []
  },
  {
   "cell_type": "code",
   "execution_count": null,
   "id": "c6c53d39-40be-406a-a206-f20604b27412",
   "metadata": {},
   "outputs": [],
   "source": []
  }
 ],
 "metadata": {
  "kernelspec": {
   "display_name": "Python 3 (ipykernel)",
   "language": "python",
   "name": "python3"
  },
  "language_info": {
   "codemirror_mode": {
    "name": "ipython",
    "version": 3
   },
   "file_extension": ".py",
   "mimetype": "text/x-python",
   "name": "python",
   "nbconvert_exporter": "python",
   "pygments_lexer": "ipython3",
   "version": "3.12.7"
  }
 },
 "nbformat": 4,
 "nbformat_minor": 5
}
