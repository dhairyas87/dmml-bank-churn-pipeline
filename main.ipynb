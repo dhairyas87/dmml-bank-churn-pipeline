{
 "cells": [
  {
   "cell_type": "code",
   "execution_count": 4,
   "id": "28b88a5a-fc4d-44d5-a4bf-eba3c109f024",
   "metadata": {},
   "outputs": [
    {
     "name": "stderr",
     "output_type": "stream",
     "text": [
      "2025-08-23 19:01:12,591 [INFO] CSV data loading from Path with source https://synapseaisolutionsa.z13.web.core.windows.net/data/bankcustomerchurn/churn.csv\n",
      "2025-08-23 19:01:17,410 [INFO] CSV data loaded with shape (10000, 14)\n",
      "2025-08-23 19:01:17,460 [INFO] CSV data stored at datastorage/csv/year=2025/month=08/day=23/csv_DataStorage.csv\n",
      "2025-08-23 19:01:17,460 [INFO] ===== Validation started =====\n",
      "2025-08-23 19:01:17,460 [INFO] Starting check: RowNumber sequence\n",
      "2025-08-23 19:01:17,461 [INFO] Completed check: RowNumber sequence\n",
      "2025-08-23 19:01:17,461 [INFO] Starting check: CustomerId uniqueness\n",
      "2025-08-23 19:01:17,461 [INFO] Completed check: CustomerId uniqueness\n",
      "2025-08-23 19:01:17,462 [INFO] Starting check: CreditScore validity\n",
      "2025-08-23 19:01:17,462 [INFO] Completed check: CreditScore validity\n",
      "2025-08-23 19:01:17,462 [INFO] Starting check: Geography validity\n",
      "2025-08-23 19:01:17,463 [INFO] Completed check: Geography validity\n",
      "2025-08-23 19:01:17,464 [INFO] Starting check: Gender validity\n",
      "2025-08-23 19:01:17,464 [INFO] Completed check: Gender validity\n",
      "2025-08-23 19:01:17,464 [INFO] Starting check: Age range\n",
      "2025-08-23 19:01:17,465 [INFO] Completed check: Age range\n",
      "2025-08-23 19:01:17,465 [INFO] Starting check: Tenure range\n",
      "2025-08-23 19:01:17,466 [INFO] Completed check: Tenure range\n",
      "2025-08-23 19:01:17,466 [INFO] Starting check: Balance non-negative\n",
      "2025-08-23 19:01:17,466 [INFO] Completed check: Balance non-negative\n",
      "2025-08-23 19:01:17,467 [INFO] Starting check: NumOfProducts range\n",
      "2025-08-23 19:01:17,467 [INFO] Completed check: NumOfProducts range\n",
      "2025-08-23 19:01:17,467 [INFO] Starting check: HasCrCard binary values\n",
      "2025-08-23 19:01:17,468 [INFO] Completed check: HasCrCard binary values\n",
      "2025-08-23 19:01:17,468 [INFO] Starting check: IsActiveMember binary values\n",
      "2025-08-23 19:01:17,468 [INFO] Completed check: IsActiveMember binary values\n",
      "2025-08-23 19:01:17,469 [INFO] Starting check: Exited binary values\n",
      "2025-08-23 19:01:17,469 [INFO] Completed check: Exited binary values\n",
      "2025-08-23 19:01:17,470 [INFO] Starting check: EstimatedSalary outliers\n",
      "2025-08-23 19:01:17,471 [WARNING] EstimatedSalary anomalies detected: 10 rows\n",
      "2025-08-23 19:01:17,471 [INFO] Completed check: EstimatedSalary outliers\n",
      "2025-08-23 19:01:17,489 [INFO] Issues report saved at datavalidation/reports/churn_data_issues_20250823_190117.csv\n",
      "2025-08-23 19:01:17,489 [INFO] Metadata report saved at datavalidation/reports/churn_data_metadata_20250823_190117.csv\n",
      "2025-08-23 19:01:17,489 [INFO] PDF report saved at datavalidation/reports/churn_data_report_20250823_190117.pdf\n",
      "2025-08-23 19:01:17,489 [INFO] ===== Validation completed =====\n",
      "2025-08-23 19:01:17,489 [INFO] Starting preprocessing and EDA...\n",
      "2025-08-23 19:01:17,490 [INFO] Handling missing values...\n",
      "2025-08-23 19:01:17,495 [INFO] Encoding categorical string variables...\n",
      "2025-08-23 19:01:17,500 [INFO] Normalizing continuous numeric attributes...\n",
      "2025-08-23 19:01:17,503 [INFO] Generating summary statistics...\n",
      "2025-08-23 19:01:17,512 [INFO] Creating EDA visualizations and saving to PDF...\n",
      "2025-08-23 19:01:17,867 [INFO] Using categorical units to plot a list of strings that are all parsable as floats or dates. If these strings should be plotted as numbers, cast to the appropriate data type before plotting.\n",
      "2025-08-23 19:01:17,878 [INFO] Using categorical units to plot a list of strings that are all parsable as floats or dates. If these strings should be plotted as numbers, cast to the appropriate data type before plotting.\n",
      "2025-08-23 19:01:17,966 [INFO] Using categorical units to plot a list of strings that are all parsable as floats or dates. If these strings should be plotted as numbers, cast to the appropriate data type before plotting.\n",
      "2025-08-23 19:01:17,978 [INFO] Using categorical units to plot a list of strings that are all parsable as floats or dates. If these strings should be plotted as numbers, cast to the appropriate data type before plotting.\n",
      "2025-08-23 19:01:18,028 [INFO] Using categorical units to plot a list of strings that are all parsable as floats or dates. If these strings should be plotted as numbers, cast to the appropriate data type before plotting.\n",
      "2025-08-23 19:01:18,042 [INFO] Using categorical units to plot a list of strings that are all parsable as floats or dates. If these strings should be plotted as numbers, cast to the appropriate data type before plotting.\n",
      "2025-08-23 19:01:18,078 [INFO] Using categorical units to plot a list of strings that are all parsable as floats or dates. If these strings should be plotted as numbers, cast to the appropriate data type before plotting.\n",
      "2025-08-23 19:01:18,082 [INFO] Using categorical units to plot a list of strings that are all parsable as floats or dates. If these strings should be plotted as numbers, cast to the appropriate data type before plotting.\n",
      "2025-08-23 19:01:18,408 [INFO] Preprocessing and EDA completed. Cleaned data saved at datapreparation/prepared/cleaned_data_20250823_190118.csv\n",
      "2025-08-23 19:01:18,409 [INFO] EDA PDF report saved at datapreparation/prepared/eda_report_20250823_190117.pdf\n",
      "2025-08-23 19:01:18,409 [INFO] Starting data transformation...\n",
      "2025-08-23 19:01:18,410 [INFO] Dropped columns: ['RowNumber', 'Surname']\n",
      "2025-08-23 19:01:18,410 [INFO] Creating new features...\n",
      "2025-08-23 19:01:18,413 [INFO] Feature engineering completed.\n",
      "2025-08-23 19:01:18,434 [INFO] Data successfully stored in SQLite: datatransformationandstorage/transformationandstorage/churn\n",
      "2025-08-23 19:01:18,435 [INFO] SQL schema design saved at datatransformationandstorage/transformationandstorage/schema_design_20250823_190118.sql\n",
      "2025-08-23 19:01:18,436 [INFO] Sample SQL queries saved at datatransformationandstorage/transformationandstorage/sample_queries.sql\n",
      "2025-08-23 19:01:18,448 [INFO] Query outputs saved at datatransformationandstorage/transformationandstorage/sample_query_outputs.txt\n",
      "2025-08-23 19:01:18,448 [INFO] Transformation summary saved at datatransformationandstorage/transformationandstorage/transformation_summary.txt\n",
      "2025-08-23 19:01:18,449 [INFO] Engineering features for feature store...\n",
      "2025-08-23 19:01:18,481 [INFO] Feature documentation generated at featurestore/featurestore/feature_documentation.md\n",
      "2025-08-23 19:01:18,482 [INFO] Feature store created at featurestore/featurestore/feature_store.db\n",
      "2025-08-23 19:01:18,492 [INFO] Sample queries saved at featurestore/featurestore/sample_queries.txt\n",
      "2025-08-23 19:01:18,493 [INFO] Query results saved at featurestore/featurestore/query_results.txt\n"
     ]
    },
    {
     "name": "stdout",
     "output_type": "stream",
     "text": [
      "[main 29caf67] Dataset update: churn_raw.csv (raw + transformed) - Changes_Commited\n",
      " 17 files changed, 10277 insertions(+), 113 deletions(-)\n",
      " create mode 100644 datapreparation/prepared/cleaned_data_20250823_190118.csv\n",
      " create mode 100644 datapreparation/prepared/eda_report_20250823_190117.pdf\n",
      " create mode 100644 datatransformationandstorage/transformationandstorage/schema_design_20250823_190118.sql\n",
      " create mode 100644 datavalidation/reports/churn_data_issues_20250823_190117.csv\n",
      " create mode 100644 datavalidation/reports/churn_data_metadata_20250823_190117.csv\n",
      " create mode 100644 datavalidation/reports/churn_data_report_20250823_190117.pdf\n",
      "[main a21ff23] Update version metadata for churn_raw.csv\n",
      " 1 file changed, 10 insertions(+)\n"
     ]
    },
    {
     "name": "stderr",
     "output_type": "stream",
     "text": [
      "From https://github.com/dhairyas87/dmml-bank-churn-pipeline\n",
      " * branch            main       -> FETCH_HEAD\n"
     ]
    },
    {
     "name": "stdout",
     "output_type": "stream",
     "text": [
      "Current branch main is up to date.\n"
     ]
    },
    {
     "name": "stderr",
     "output_type": "stream",
     "text": [
      "To https://github.com/dhairyas87/dmml-bank-churn-pipeline.git\n",
      "   834f5c1..a21ff23  main -> main\n"
     ]
    },
    {
     "name": "stdout",
     "output_type": "stream",
     "text": [
      "✅ Raw + Transformed datasets for churn_raw.csv saved, versioned, and pushed under commit 29caf673f913aa457c740bd87b4c0c044d1ba291\n",
      "✅ Training complete with engineered features.\n",
      "📂 Deliverables: models/, data/model_results.txt, data/model_versions.json\n"
     ]
    }
   ],
   "source": [
    "import importlib\n",
    "import dataingestion.DataIngestion\n",
    "import datastorage.DataStorage\n",
    "import datavalidation.DataValidation\n",
    "import datapreparation.DataPreparation\n",
    "import datatransformationandstorage.DataTransformationAndStorage\n",
    "import featurestore.FeatureStore\n",
    "import dataversioning.DataVersioning\n",
    "import modelbuild.ModelBuild\n",
    "\n",
    "importlib.reload(dataingestion.DataIngestion)\n",
    "importlib.reload(datastorage.DataStorage)\n",
    "importlib.reload(datavalidation.DataValidation)\n",
    "importlib.reload(datapreparation.DataPreparation)\n",
    "importlib.reload(datatransformationandstorage.DataTransformationAndStorage)\n",
    "importlib.reload(featurestore.FeatureStore)\n",
    "importlib.reload(dataversioning.DataVersioning)\n",
    "importlib.reload(modelbuild.ModelBuild)\n",
    "\n",
    "\n",
    "\n",
    "from dataingestion.DataIngestion import load_csv, load_api, load_db\n",
    "from datastorage.DataStorage import save_csv_or_db, save_api\n",
    "from datavalidation.DataValidation import validate_churn_data\n",
    "from datapreparation.DataPreparation import preprocess_and_eda\n",
    "from datatransformationandstorage.DataTransformationAndStorage import transform_and_store\n",
    "from featurestore.FeatureStore  import create_feature_store,sample_feature_queries\n",
    "from dataversioning.DataVersioning import save_and_version_both\n",
    "from modelbuild.ModelBuild import run_training\n",
    "\n",
    "\n",
    "def main():\n",
    "   \n",
    "\n",
    "    # CSV example\n",
    "\n",
    "    \n",
    "    csv_url = \"https://synapseaisolutionsa.z13.web.core.windows.net/data/bankcustomerchurn/churn.csv\"\n",
    "    df_csv = load_csv(csv_url,csv_url)\n",
    "\n",
    "    base_dir = \"datastorage\"\n",
    "    save_csv_or_db(df_csv, base_dir, \"csv\")\n",
    "\n",
    "    base_dir = \"datavalidation/reports\"\n",
    "    issues, metadata = validate_churn_data(df_csv,base_dir,\"pdf\")\n",
    "\n",
    "    base_dir = \"datapreparation/prepared\"\n",
    "    df_processed = preprocess_and_eda(df_csv,base_dir) \n",
    "\n",
    "    base_dir = \"datatransformationandstorage/transformationandstorage\"\n",
    "    df_txfnstr = transform_and_store(df_processed,base_dir,\"churn\")\n",
    "\n",
    "    base_path = \"featurestore/featurestore\"   # <<< define your path here\n",
    "    df_feature,conn, db_path = create_feature_store(df_txfnstr, base_path)\n",
    "\n",
    "    # Run demo queries\n",
    "    sample_feature_queries(conn, base_path)\n",
    "\n",
    "    conn.close()\n",
    "\n",
    "\n",
    "    save_and_version_both(df_csv, df_feature,\"dataversioning/raw/churn_raw.csv\", \"dataversioning/transformed/churn_transformed_v1.csv\", \"churn_raw.csv\", \"Changes_Commited\")\n",
    "\n",
    "    run_training(db_path)\n",
    "\n",
    "if __name__ == \"__main__\":\n",
    "    main()"
   ]
  },
  {
   "cell_type": "code",
   "execution_count": null,
   "id": "84cac164-549a-4576-8c35-3bbef411696b",
   "metadata": {},
   "outputs": [],
   "source": []
  },
  {
   "cell_type": "code",
   "execution_count": null,
   "id": "9bde366d-2b45-4c06-99fa-c54613f46171",
   "metadata": {},
   "outputs": [],
   "source": []
  },
  {
   "cell_type": "code",
   "execution_count": null,
   "id": "c6c53d39-40be-406a-a206-f20604b27412",
   "metadata": {},
   "outputs": [],
   "source": []
  }
 ],
 "metadata": {
  "kernelspec": {
   "display_name": "Python 3 (ipykernel)",
   "language": "python",
   "name": "python3"
  },
  "language_info": {
   "codemirror_mode": {
    "name": "ipython",
    "version": 3
   },
   "file_extension": ".py",
   "mimetype": "text/x-python",
   "name": "python",
   "nbconvert_exporter": "python",
   "pygments_lexer": "ipython3",
   "version": "3.12.7"
  }
 },
 "nbformat": 4,
 "nbformat_minor": 5
}
